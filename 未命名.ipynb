{
 "cells": [
  {
   "cell_type": "code",
   "execution_count": null,
   "metadata": {},
   "outputs": [],
   "source": [
    "from easyquant.indicator.base import *\n",
    "from easyquant  import MongoIo\n",
    "# from easyquant import MongoIo4Pl\n",
    "# import polars as pl\n",
    "import pandas as pd\n",
    "import math\n",
    "from tdx.func.tdx_func import *\n",
    "from tdx.func.func_sys import *\n",
    "mongo = MongoIo()\n",
    "try:\n",
    "    import talib\n",
    "except:\n",
    "    print('PLEASE install TALIB to call these methods')\n",
    "import pandas as pd\n",
    "import numpy as np\n",
    "# import QUANTAXIS as QA\n",
    "dataE = easyquotation.use('sina')\n",
    "\n",
    "import os.path\n",
    "import sys\n",
    "import time\n",
    "from datetime import datetime, timedelta\n",
    "\n",
    "import baostock as bs\n",
    "import pandas as pd\n",
    "# lg = bs.login()"
   ]
  },
  {
   "cell_type": "code",
   "execution_count": null,
   "metadata": {},
   "outputs": [],
   "source": [
    "# code = '002090'\n",
    "# code = '002767'\n",
    "## ok 000020 000610 002211 600318     600318\n",
    "## err 002077 300218 300158     300719   600207  301012 603026 603950 688278\n",
    "# 000020 2 000423 3 000523 4 000610 5 001209 6 000852 7 002211 8 002077 9 000861 10 002103 11 002785 12 300218 13 300158 14 600318\n",
    "# 15 600710 16 601226 17 603398 18 603518 19 603192 20 603213 21 605111 22 600706 23 603116 24 688551\n",
    "\n",
    "## 1 000428 2 000532 3 000554 4 000570 5 002097 6 002012 7 002767 8 002969 \n",
    "# 9 300368 10 300719 11 300690 12 600318 13 600207 \n",
    "# 14 600621 15 600882 16 603026 17 301012 18 603950 19 605366 20 688278\"\n",
    "# data = mongo.get_stock_day([code], st_start = '1900-01-01')\n",
    "# data2 = mongo.get_stock_min([code], st_start = '1900-01-01', freq = 60)"
   ]
  },
  {
   "cell_type": "code",
   "execution_count": null,
   "metadata": {},
   "outputs": [],
   "source": [
    "# code = '000070'\n",
    "# code = '000550'\n",
    "code = '600718'\n",
    "# 300394 , 300308\n",
    "\n",
    "code = '002984'\n",
    "# code = '600580'\n",
    "\n",
    "#          ,'002176'\n",
    "#          ,'603577'\n",
    "#          ,'300573'\n",
    "#          ,'300411'\n",
    "#          ,'600522'          \n",
    "\n",
    "# code = '000766'\n",
    "# code = '600745'\n",
    "# '601113','603966','605099','605255','000025','002486','002763','002971','603600'\n",
    "# /* 1 300308 2 301218 3 301205 4 601566 5 603066 6 603679 7 605186 8 605566\"\n",
    "# '300350','300393','300531','300624','300884'\n",
    "data = mongo.get_stock_day([code], st_start = '2020-01-01',qfq=1)\n",
    "# data = mongo.get_stock_day([code], st_start = '1900-01-01')\n",
    "\n",
    "data = pytdx_last_data(data)\n",
    "print(\"zt\", (data.close.iloc[-2] - data.close.iloc[-3]) /data.close.iloc[-3] * 100)\n",
    "print(\"jt\", (data.close.iloc[-1] - data.close.iloc[-2]) /data.close.iloc[-2] * 100)\n",
    "data.tail(2)"
   ]
  },
  {
   "cell_type": "code",
   "execution_count": null,
   "metadata": {},
   "outputs": [],
   "source": [
    "(39.41 - 39.21) / 39.21"
   ]
  },
  {
   "cell_type": "code",
   "execution_count": null,
   "metadata": {},
   "outputs": [],
   "source": [
    "# # codes = ['000859','688047','601127','300390','300488','603128' ,'002097','600718']#,'002320','600653','301367','000886','002919','601665']##,'000592','300917']\n",
    "codes1 = ['300390'\n",
    "         ,'688047','601127'\n",
    "#          ,'300390'\n",
    "         ,'002984'\n",
    "         , '600522'\n",
    "         , '002097'\n",
    "         ,'000859'\n",
    "#          ,'603227'\n",
    "#          ,'600745'\n",
    "#          ,'002281'\n",
    "          \n",
    "         ,'002176'\n",
    "         ,'603577'\n",
    "#          ,'300573'\n",
    "#          ,'300411'\n",
    "         ,'300949'          \n",
    "         \n",
    "         ,'600718'\n",
    "        ]\n",
    "# import datetime\n",
    "# # out_t = datetime.datetime.strftime(data.index[0][0],'%Y-%m-%d')\n",
    "# date_stamp = time.mktime(time.strptime('2024-01-29', '%Y-%m-%d'))\n",
    "# print(date_stamp)\n",
    "date = '2024-03-07'\n",
    "nums = 13\n",
    "codes2 = mongo.day_select_data('day-select-ff',date, nums)#, 'tdx_JZZCJSD')\n",
    "# codes2 = mongo.day_select_data('day-select-ff',date, nums,'tdx_sxzsl')\n",
    "# codes2 = mongo.day_select_data('day-select-ff',date, nums,'tdx_JZZCJSD')\n",
    "\n",
    "# codes2 = mongo.day_select_data('day-select-ff-24-02-26-13-20','2024-02-26',7,'tdx_sxzsl')\n",
    "\n",
    "# codes2 = mongo.day_select_data('day-select-ff-14-59','2024-02-21',7, 'tdx_JZZCJSD')\n",
    "codes = codes1  + codes2 # + codes3 + codes4\n",
    "\n",
    "# print(len(codes2))\n",
    "\n",
    "datas =mongo.get_stock_day(codes, st_start = '2023-06-01',qfq=1)\n",
    "# codes = codes1\n",
    "\n",
    "# check_now_positino(codes,datas)\n"
   ]
  },
  {
   "cell_type": "code",
   "execution_count": null,
   "metadata": {},
   "outputs": [],
   "source": [
    "check_now_positino(codes1,datas)"
   ]
  },
  {
   "cell_type": "code",
   "execution_count": null,
   "metadata": {},
   "outputs": [],
   "source": [
    "check_now_positino(codes2,datas, False)"
   ]
  },
  {
   "cell_type": "code",
   "execution_count": null,
   "metadata": {},
   "outputs": [],
   "source": [
    "codes3 = mongo.day_select_data('day-select-ff-24-02-23-11-10','2024-02-23',7,'tdx_sxzsl')\n",
    "datas2 =mongo.get_stock_day(codes3, st_start = '2023-06-01',qfq=1)\n",
    "check_now_positino(codes3,datas2)"
   ]
  },
  {
   "cell_type": "code",
   "execution_count": null,
   "metadata": {},
   "outputs": [],
   "source": [
    "CLOSE=data.close\n",
    "start_t = datetime.now()\n",
    "print(\"begin-day_select:\", start_t)\n",
    "XA_42 = EMA(WINNER(data, CLOSE)*70,3)\n",
    "XA_43 = EMA((WINNER(data, CLOSE*1.1)-WINNER(data, CLOSE*0.9))*80,3)\n",
    "XA_44 = XA_43/(XA_42+XA_43)*100\n",
    "XA_45 = XA_42/(XA_42+XA_43)*100\n",
    "# XA_46 = MA(XA_42+XA_43,13)\n",
    "# XA_47 = BARSLAST(IFAND(XA_44<90, REF(XA_44,1)>90, True, False))\n",
    "# XA_48 = EMA(XA_44,89)\n",
    "# XA_49 = EMA(XA_45,89)\n",
    "# XA_50 = (XA_45-XA_49).astype(int) #INTPART\n",
    "# XA_51 = EMA(XA_44,8)\n",
    "# XA_52 = IF(XA_45-REF(XA_45,1)>XA_44-REF(XA_44,1),1,0)\n",
    "XA_53 = (XA_44).astype(int) #INTPART\n",
    "XA_54 = (XA_45).astype(int) #INTPART\n",
    "XA_72 = IF(CROSS(XA_54,XA_53),120,0)\n",
    "\n",
    "end_t = datetime.now()\n",
    "print(end_t, 'day_select spent:{}'.format((end_t - start_t)))"
   ]
  },
  {
   "cell_type": "code",
   "execution_count": null,
   "metadata": {},
   "outputs": [],
   "source": [
    "HHV(datas.query(\"code == '601127'\").close, 80)[-3:]"
   ]
  },
  {
   "cell_type": "code",
   "execution_count": null,
   "metadata": {},
   "outputs": [],
   "source": [
    "start_t = datetime.datetime.now()\n",
    "print(\"begin-day_select:\", start_t)\n",
    "XA_42_1 = WINNER(data, CLOSE)\n",
    "XA_42 = EMA(XA_42_1*70,3)\n",
    "XA_43 = EMA(XA_42_1*16,3)\n",
    "XA_44 = XA_43/(XA_42+XA_43)*100\n",
    "XA_45 = XA_42/(XA_42+XA_43)*100\n",
    "# XA_46 = MA(XA_42+XA_43,13)\n",
    "# XA_47 = BARSLAST(IFAND(XA_44<90, REF(XA_44,1)>90, True, False))\n",
    "# XA_48 = EMA(XA_44,89)le\n",
    "# XA_49 = EMA(XA_45,89)\n",
    "# XA_50 = (XA_45-XA_49).astype(int) #INTPART\n",
    "# XA_51 = EMA(XA_44,8)\n",
    "# XA_52 = IF(XA_45-REF(XA_45,1)>XA_44-REF(XA_44,1),1,0)\n",
    "XA_53 = (XA_44).astype(int) #INTPART\n",
    "XA_54 = (XA_45).astype(int) #INTPART\n",
    "XA_72 = IF(CROSS(XA_54,XA_53),120,0)\n",
    "\n",
    "end_t = datetime.datetime.now()\n",
    "print(end_t, 'day_select spent:{}'.format((end_t - start_t)))"
   ]
  },
  {
   "cell_type": "code",
   "execution_count": null,
   "metadata": {},
   "outputs": [],
   "source": [
    "XA_72# IFAND4(REF(TJ3,1), TJ2, C > O, H > L, 1, 0)"
   ]
  },
  {
   "cell_type": "code",
   "execution_count": null,
   "metadata": {},
   "outputs": [],
   "source": [
    "tdx_cci_xg(data)\n",
    "\n",
    "# tdx_zyyj_5min\n",
    "# C = data.close\n",
    "# data.tail(5)"
   ]
  },
  {
   "cell_type": "code",
   "execution_count": null,
   "metadata": {},
   "outputs": [],
   "source": [
    "len(data)"
   ]
  },
  {
   "cell_type": "code",
   "execution_count": null,
   "metadata": {},
   "outputs": [],
   "source": [
    "\n",
    "df = pd.DataFrame()\n",
    "df['c'] = data.close\n",
    "df['sz1'] = out[0]\n",
    "df['sz2'] = out[1]\n",
    "df['sz3'] = out[2]\n",
    "df['sz4'] = out[3]\n",
    "df['sz5'] = out[4]\n",
    "df['sz6'] = out[5]\n",
    "df['sz7'] = out[6]\n",
    "df['sz8'] = out[7]\n",
    "df['sz9'] = out[8]\n",
    "df.tail(10)"
   ]
  },
  {
   "cell_type": "code",
   "execution_count": null,
   "metadata": {},
   "outputs": [],
   "source": [
    "# tdx_zttj(data)\n",
    "tdx_dqe_test_A01(data)[1]"
   ]
  },
  {
   "cell_type": "code",
   "execution_count": null,
   "metadata": {},
   "outputs": [],
   "source": [
    "data.tail(3)\n",
    "# close = data.close"
   ]
  },
  {
   "cell_type": "code",
   "execution_count": null,
   "metadata": {},
   "outputs": [],
   "source": [
    "# talib.ADOSC(data['high'], data['low'], data['close'] ,data['volume'], fastperiod=3, slowperiod=10)\n",
    "h1 = talib.HT_DCPHASE(close)\n",
    "# h1.tail(10)"
   ]
  },
  {
   "cell_type": "code",
   "execution_count": null,
   "metadata": {},
   "outputs": [],
   "source": [
    "# MA(data.volume, 10).tail(8)"
   ]
  },
  {
   "cell_type": "code",
   "execution_count": null,
   "metadata": {},
   "outputs": [],
   "source": [
    "talib.AVGPRICE(data['open'].values, data['high'].values, data['low'].values, close)\n"
   ]
  },
  {
   "cell_type": "code",
   "execution_count": null,
   "metadata": {},
   "outputs": [],
   "source": [
    "# code = \"688047\"\n",
    "# code = \"002607\"\n",
    "# code = \"000859\"\n",
    "# code = \"002149\"\n",
    "# code = \"600711\"\n",
    "# code = \"600886\"\n",
    "# code = \"600536\"\n",
    "# code = \"600537\"\n",
    "# code = \"300044\"\n",
    "# # code = \"002068\"\n",
    "# code = '000962'\n",
    "# code = '000026'\n",
    "# code = '300847'\n",
    "# code = '002613'\n",
    "# code = '600936'\n",
    "# code = '300423'\n",
    "code = '300857'\n",
    "# code = '300488'\n",
    "# code = '688167'\n",
    "data = mongo.get_stock_day([code], st_start = '1900-01-01')\n",
    "data_m = mongo.get_stock_min([code], st_start = '1900-01-01', freq = 60)"
   ]
  },
  {
   "cell_type": "code",
   "execution_count": null,
   "metadata": {},
   "outputs": [],
   "source": [
    "import timeit"
   ]
  },
  {
   "cell_type": "code",
   "execution_count": null,
   "metadata": {},
   "outputs": [],
   "source": [
    "def test():\n",
    "#     a = talib.MULT(close, talib.MULT(close, close))\n",
    "    talib.DIV(close, open)"
   ]
  },
  {
   "cell_type": "code",
   "execution_count": null,
   "metadata": {},
   "outputs": [],
   "source": [
    "def test2():\n",
    "#     MAX(close, open)\n",
    "    close / open"
   ]
  },
  {
   "cell_type": "code",
   "execution_count": null,
   "metadata": {},
   "outputs": [],
   "source": [
    "starttime = timeit.default_timer()\n",
    "print(\"The start time is :\", starttime)\n",
    "for x in range(0, 1000):\n",
    "    test()\n",
    "print(\"The time difference is :\", timeit.default_timer() - starttime)"
   ]
  },
  {
   "cell_type": "code",
   "execution_count": null,
   "metadata": {},
   "outputs": [],
   "source": [
    "close = data.close\n",
    "open=data.open\n",
    "low = data.low\n",
    "high = data.high\n",
    "real = talib.HT_DCPERIOD(close)\n",
    "real2 = talib.HT_DCPHASE(close)\n",
    "inphase, quadrature = talib.HT_PHASOR(close)\n",
    "sine, leadsine = talib.HT_SINE(close)\n",
    "integer = talib.HT_TRENDMODE(close)"
   ]
  },
  {
   "cell_type": "code",
   "execution_count": null,
   "metadata": {},
   "outputs": [],
   "source": [
    "da3 = pd.DataFrame()\n",
    "da3['real'] = real\n",
    "da3['rea2'] = real2\n",
    "da3['inphase'] = inphase\n",
    "da3['quadrature'] = quadrature\n",
    "da3['sine'] = sine\n",
    "da3['leadsine'] = leadsine\n",
    "da3['integer'] = integer\n",
    "da3.tail(1)"
   ]
  },
  {
   "cell_type": "code",
   "execution_count": null,
   "metadata": {},
   "outputs": [],
   "source": [
    "VAR = talib.VAR(close, timeperiod=90, nbdev=11)"
   ]
  },
  {
   "cell_type": "code",
   "execution_count": null,
   "metadata": {},
   "outputs": [],
   "source": [
    "data3 = data.iloc[-20:].copy()"
   ]
  },
  {
   "cell_type": "code",
   "execution_count": null,
   "metadata": {},
   "outputs": [],
   "source": [
    "df10 = pd.DataFrame()\n",
    "CLOSE = data.close\n",
    "N = 5\n",
    "df10['CLOSE'] = data.close\n",
    "df10['LOW'] = data.low\n",
    "df10['HIGH'] = data.high\n",
    "df10['stdDev'] = talib.STDDEV(CLOSE, timeperiod=N, nbdev=1)\n",
    "df10['var1'] = talib.VAR(CLOSE, timeperiod=N, nbdev=1)\n",
    "df10['std2'] = SQRT(df10['var1'])\n",
    "df10.tail(3)"
   ]
  },
  {
   "cell_type": "code",
   "execution_count": null,
   "metadata": {},
   "outputs": [],
   "source": [
    "import easyquotation\n",
    "sina_datas = easyquotation.use('sina')"
   ]
  },
  {
   "cell_type": "code",
   "execution_count": null,
   "metadata": {},
   "outputs": [],
   "source": [
    "rdata = sina_datas.stocks(code)[code]\n",
    "print(\"real-data:\", rdata['datetime'], ',  now', rdata['now'], 'h', rdata['high'], 'l', rdata['low'])"
   ]
  },
  {
   "cell_type": "code",
   "execution_count": null,
   "metadata": {},
   "outputs": [],
   "source": [
    "code = data.index[0][1]\n",
    "# realdata = sina_datas.stocks(code)[code]\n",
    "now_price = rdata['now']\n",
    "nf = new_df(data, rdata, now_price)\n",
    "# nf.tail(3)"
   ]
  },
  {
   "cell_type": "code",
   "execution_count": null,
   "metadata": {},
   "outputs": [],
   "source": [
    "tdx_bollxg(nf)[0].iloc[-3:]"
   ]
  },
  {
   "cell_type": "code",
   "execution_count": null,
   "metadata": {},
   "outputs": [],
   "source": [
    "tdx_CDLPattern(nf)[0].iloc[-3:]"
   ]
  },
  {
   "cell_type": "code",
   "execution_count": null,
   "metadata": {},
   "outputs": [],
   "source": [
    "# tdx_skdj_lstd(data)[0].tail(10) -3\n",
    "# tdx_sxjm(data)[0].tail(10) -3 \n",
    "# tdx_cci_xg(data)[0].tail(10) -3\n",
    "# tdx_buerfameng(data)[0].tail(10) -3\n",
    "# tdx_nmddl(data)[0].tail(10) -3\n",
    "# tdx_jmmm(data)[0].tail(10) -6\n",
    "# tdx_hmdr(data)[0].tail(10) -3\n",
    "# tdx_czhs(data)[0].tail(10) -3\n",
    "# tdx_cci(data)[0].tail(10) -2 \n",
    "# tdx_qszn(data)[0].tail(10) -5\n",
    "# tdx_skdj_lstd(data)[0].tail(10) -3\n",
    "# tdx_dqe_test_A01(data)[0].tail(10) -2\n",
    "# tdx_dqe_test_A02(data)[0].tail(10) -2"
   ]
  },
  {
   "cell_type": "code",
   "execution_count": null,
   "metadata": {},
   "outputs": [],
   "source": [
    "# type(last)\n",
    "tdatas = sina_datas.stocks(list(last.code))"
   ]
  },
  {
   "cell_type": "code",
   "execution_count": null,
   "metadata": {},
   "outputs": [],
   "source": [
    "aa = []\n",
    "for x in range(0, len(last)):\n",
    "    if \"2023-02-08\" == last.iloc[x].date:\n",
    "        code = last.iloc[x].code\n",
    "        tdata = tdatas[code]\n",
    "        lnow = last.iloc[x].now\n",
    "        pct =  100 * (tdata['now'] - lnow) / lnow\n",
    "        \n",
    "        if float(last.iloc[x].pn) > 4:\n",
    "            continue\n",
    "#         print(type(float(last.pn)))\n",
    "        aa.append(pct)\n",
    "#         print(code,  \"%6.2f\" % pct, float(last.iloc[x].pn))\n",
    "print(\"pctv\", sum(aa) /len(aa))"
   ]
  },
  {
   "cell_type": "code",
   "execution_count": null,
   "metadata": {},
   "outputs": [],
   "source": [
    "def get_next_date(calcDate):\n",
    "    cDate = datetime.datetime.strptime(calcDate, '%Y-%m-%d')\n",
    "    cDate = cDate + datetime.timedelta(1)\n",
    "    if cDate.weekday() < 5:\n",
    "        return datetime.datetime.strftime(cDate,'%Y-%m-%d')\n",
    "    else: # if calcDate.weekday() == 5:\n",
    "        cDate = cDate + datetime.timedelta(2)\n",
    "        return datetime.datetime.strftime(cDate,'%Y-%m-%d')\n"
   ]
  },
  {
   "cell_type": "code",
   "execution_count": null,
   "metadata": {},
   "outputs": [],
   "source": [
    "# nextCalcDate = '2023-01-19'\n",
    "nextCalcDate = get_next_date(nextCalcDate)\n",
    "print(\"nextCalcDate\", nextCalcDate)"
   ]
  },
  {
   "cell_type": "code",
   "execution_count": null,
   "metadata": {},
   "outputs": [],
   "source": [
    "d = data.query(\" code=='%s' and date == '%s' \" % ('300515', nextCalcDate))"
   ]
  },
  {
   "cell_type": "code",
   "execution_count": null,
   "metadata": {},
   "outputs": [],
   "source": [
    "d"
   ]
  },
  {
   "cell_type": "code",
   "execution_count": null,
   "metadata": {},
   "outputs": [],
   "source": [
    "d.iloc[-1]['open']"
   ]
  },
  {
   "cell_type": "code",
   "execution_count": null,
   "metadata": {},
   "outputs": [],
   "source": [
    "tdx_JZZCJSD(data, False)[0].iloc[-10:]"
   ]
  },
  {
   "cell_type": "code",
   "execution_count": null,
   "metadata": {},
   "outputs": [],
   "source": [
    "cond = IFAND(X_17_1, X_17_2, True, False)"
   ]
  },
  {
   "cell_type": "code",
   "execution_count": null,
   "metadata": {},
   "outputs": [],
   "source": [
    "cond.iloc[-20:-8]"
   ]
  },
  {
   "cell_type": "code",
   "execution_count": null,
   "metadata": {},
   "outputs": [],
   "source": [
    "#     预测风口 =  IF(X_9 == 1, 1, 0)\n",
    "#     超强风口 = IF(X_17 == 1, 1, 0)\n",
    "lib  = cdll.LoadLibrary(\"/usr/share/talib/%s\" % (\"talib_ext.so\"))"
   ]
  },
  {
   "cell_type": "code",
   "execution_count": null,
   "metadata": {},
   "outputs": [],
   "source": [
    "# import numpy as np\n",
    "dataE.stocks(['000001'])"
   ]
  },
  {
   "cell_type": "code",
   "execution_count": null,
   "metadata": {},
   "outputs": [],
   "source": [
    "COND = cond\n",
    "ncount = len(COND)\n",
    "ti_p = c_bool * ncount\n",
    "np_OUT = ti_p(False)\n",
    "na_Cond = np.asarray(COND).astype(np.bool)\n",
    "# na_NS=np.asarray(NS).astype(np.int32)\n",
    "np_S = cast(na_Cond.ctypes.data, POINTER(c_bool))\n",
    "# np_N=cast(na_NS.ctypes.data, POINTER(c_int))\n",
    "lib.barslast(ncount, np_OUT, np_S, N)\n",
    "out3 = pd.Series(np.asarray(np_OUT), index=COND.index)\n"
   ]
  },
  {
   "cell_type": "code",
   "execution_count": null,
   "metadata": {},
   "outputs": [],
   "source": [
    "np_S = cast(na_Cond.ctypes.data, POINTER(c_bool))"
   ]
  },
  {
   "cell_type": "code",
   "execution_count": null,
   "metadata": {},
   "outputs": [],
   "source": [
    "pd.Series(np.asarray(np_OUT), index=cond.index)"
   ]
  },
  {
   "cell_type": "code",
   "execution_count": null,
   "metadata": {},
   "outputs": [],
   "source": [
    "FILTE3R(cond, 10)"
   ]
  },
  {
   "cell_type": "code",
   "execution_count": null,
   "metadata": {},
   "outputs": [],
   "source": [
    "import numpy as np"
   ]
  },
  {
   "cell_type": "code",
   "execution_count": null,
   "metadata": {},
   "outputs": [],
   "source": [
    "np.bool"
   ]
  },
  {
   "cell_type": "code",
   "execution_count": null,
   "metadata": {},
   "outputs": [],
   "source": [
    "c_bool"
   ]
  },
  {
   "cell_type": "code",
   "execution_count": null,
   "metadata": {},
   "outputs": [],
   "source": [
    "np.asarray(COND).astype(np.bool)"
   ]
  },
  {
   "cell_type": "code",
   "execution_count": null,
   "metadata": {},
   "outputs": [],
   "source": [
    "# data518 = data.copy()\n",
    "# data577 = data.copy()"
   ]
  },
  {
   "cell_type": "code",
   "execution_count": null,
   "metadata": {},
   "outputs": [],
   "source": [
    "# nf577 = pytdx_last_data(data577, None)\n",
    "nf518 = pytdx_last_data(data, None)\n",
    "# data577.tail(2)"
   ]
  },
  {
   "cell_type": "code",
   "execution_count": null,
   "metadata": {},
   "outputs": [],
   "source": [
    "nf518.tail(3)"
   ]
  },
  {
   "cell_type": "code",
   "execution_count": null,
   "metadata": {},
   "outputs": [],
   "source": [
    "print(\"nf518\", tdx_MID_BS_Check(nf518).midp, tdx_MID_BS_Check(nf518).low1, tdx_MID_BS_Check(nf518).high1)\n",
    "print(\"nf577\", tdx_MID_BS_Check(nf577).midp, tdx_MID_BS_Check(nf577).low1, tdx_MID_BS_Check(nf577).high1)"
   ]
  },
  {
   "cell_type": "code",
   "execution_count": null,
   "metadata": {},
   "outputs": [],
   "source": [
    "aa = tdx_MID_BS_Check(nf518)\n",
    "aa.midp"
   ]
  },
  {
   "cell_type": "code",
   "execution_count": null,
   "metadata": {},
   "outputs": [],
   "source": [
    "tdx_MID_BS_Check(nf518)"
   ]
  },
  {
   "cell_type": "code",
   "execution_count": null,
   "metadata": {},
   "outputs": [],
   "source": [
    "# tdx_skdj_lstd(data)[0].tail(10) -3\n",
    "# tdx_sxjm(data)[0].tail(10) -3 \n",
    "# tdx_cci_xg(data)[0].tail(10) -3\n",
    "# tdx_buerfameng(data)[0].tail(10) -3\n",
    "# tdx_nmddl(data)[0].tail(10) -3\n",
    "# tdx_jmmm(data)[0].tail(10) -6\n",
    "# tdx_hmdr(data)[0].tail(10) -3\n",
    "# tdx_czhs(data)[0].tail(10) -3\n",
    "# tdx_cci(data)[0].tail(10) -2 \n",
    "# tdx_qszn(data)[0].tail(10) -5\n",
    "# tdx_skdj_lstd(data)[0].tail(10) -3\n",
    "# tdx_dqe_test_A01(data)[0].tail(10) -2\n",
    "# tdx_dqe_test_A02(data)[0].tail(10) -2"
   ]
  },
  {
   "cell_type": "code",
   "execution_count": null,
   "metadata": {},
   "outputs": [],
   "source": [
    "tdx_dqe_test_A02(data)[0].tail(5)"
   ]
  },
  {
   "cell_type": "code",
   "execution_count": null,
   "metadata": {},
   "outputs": [],
   "source": [
    "code = '603113'\n",
    "code = '000859'\n",
    "# code = '600277'\n",
    "# code = '300423'\n",
    "# code = '300288'\n",
    "# code = '000983'\n",
    "# code = '000959'\n",
    "# code = '600118'\n",
    "# code = '000006'\n",
    "# code = '603826'\n",
    "# code = '300982'\n",
    "# code = '301039'\n",
    "code = '600016'\n",
    "# data000859 = mongo.get_stock_day(['000859'], st_start = '1990-01-01')\n",
    "# data300950 = mongo.get_stock_day(['300950'], st_start = '1990-01-01')\n",
    "# data300515 = mongo.get_stock_day(['300515'], st_start = '1990-01-01')\n",
    "# data300488 = mongo.get_stock_day(['300488'], st_start = '1990-01-01')\n",
    "data = mongo.get_stock_day([code], st_start = '1990-01-01')\n",
    "# ndf = pytdx_last_data(data, None)\n",
    "# tdx_bollxg_new(data)[0].tail(10)"
   ]
  },
  {
   "cell_type": "code",
   "execution_count": null,
   "metadata": {},
   "outputs": [],
   "source": [
    "# ndf859 = pytdx_last_data(data000859, None)\n",
    "# ndf950 = pytdx_last_data(data300950, None)\n",
    "# ndf515 = pytdx_last_data(data300515, None)\n",
    "# ndf488 = pytdx_last_data(data300488, None)\n",
    "ndf = pytdx_last_data(data, None)"
   ]
  },
  {
   "cell_type": "code",
   "execution_count": null,
   "metadata": {},
   "outputs": [],
   "source": [
    "ndf.tail(3)\n",
    "# (ndf.close.iloc[-1] - ndf.close.iloc[-2]) / ndf.close.iloc[-2] * 100"
   ]
  },
  {
   "cell_type": "code",
   "execution_count": null,
   "metadata": {},
   "outputs": [],
   "source": [
    "# ndf = pytdx_last_data(data, None)\n",
    "# tdx_LTBDQS(ndf)[0].tail(3)\n",
    "tdx_dqe_test_A02(ndf)[0].tail(3)"
   ]
  },
  {
   "cell_type": "code",
   "execution_count": null,
   "metadata": {},
   "outputs": [],
   "source": [
    "ndf = data"
   ]
  },
  {
   "cell_type": "code",
   "execution_count": null,
   "metadata": {},
   "outputs": [],
   "source": [
    "tdx_MID_BS_Check(ndf)"
   ]
  },
  {
   "cell_type": "code",
   "execution_count": null,
   "metadata": {},
   "outputs": [],
   "source": [
    "tdx_JZZCJSD(ndf)[0].tail(3)"
   ]
  },
  {
   "cell_type": "code",
   "execution_count": null,
   "metadata": {},
   "outputs": [],
   "source": [
    "tdx_qszn(data)[0].iloc[-3:]"
   ]
  },
  {
   "cell_type": "code",
   "execution_count": null,
   "metadata": {},
   "outputs": [],
   "source": [
    "ndf.iloc[-8:-5]\n",
    "ndf.iloc[-7]"
   ]
  },
  {
   "cell_type": "code",
   "execution_count": null,
   "metadata": {},
   "outputs": [],
   "source": [
    "LC1 = ndf.iloc[-8].close\n",
    "JC = ndf.iloc[-7].close\n",
    "JH  = ndf.iloc[-7].high\n",
    "PC1 = (JC - LC1) / LC1 * 100\n",
    "PC2 = (JH - LC1) / LC1 * 100\n",
    "print(\"pc1\", PC1, PC2, PC2 - PC1, PC2 / PC1)"
   ]
  },
  {
   "cell_type": "code",
   "execution_count": null,
   "metadata": {},
   "outputs": [],
   "source": [
    "LC1 = ndf.iloc[-14].close\n",
    "JC = ndf.iloc[-13].close\n",
    "JH  = ndf.iloc[-13].high\n",
    "PC1 = (JC - LC1) / LC1 * 100\n",
    "PC2 = (JH - LC1) / LC1 * 100\n",
    "print(\"pc1\", PC1, PC2, PC2 - PC1, PC2 / PC1)"
   ]
  },
  {
   "cell_type": "code",
   "execution_count": null,
   "metadata": {},
   "outputs": [],
   "source": []
  },
  {
   "cell_type": "code",
   "execution_count": null,
   "metadata": {},
   "outputs": [],
   "source": [
    "# codelist = getCodeList('/root/code/easyquant/easyqtrs/Z220230215.txt')\n",
    "codelist2 = getCodeList('all')"
   ]
  },
  {
   "cell_type": "code",
   "execution_count": null,
   "metadata": {},
   "outputs": [],
   "source": [
    "i = 0\n",
    "for c in codelist2:\n",
    "    data = mongo.get_stock_day([c], st_start = '2019-01-01')\n",
    "    # ndf = pytdx_last_data(data, None)\n",
    "    chk = 0\n",
    "    try:\n",
    "        chk = tdx_cmfx3(data)[0].iloc[-1]\n",
    "    except:\n",
    "        chk = 0\n",
    "    i = i + 1\n",
    "    if i % 50 == 0:\n",
    "        print(\"do...\", i)\n",
    "    if chk == 1:\n",
    "        print(\"chk\", c)\n",
    "#         pass\n",
    "#     else:\n",
    "#         print(\"ok\",c)"
   ]
  },
  {
   "cell_type": "code",
   "execution_count": null,
   "metadata": {},
   "outputs": [],
   "source": [
    "A = (HSL-ZXL) / ZXL * XS\n",
    "A.tail(15)"
   ]
  },
  {
   "cell_type": "code",
   "execution_count": null,
   "metadata": {},
   "outputs": [],
   "source": [
    "EMA( (HSL-ZXL) / ZXL * XS, 13)\n",
    "# EMA((ZDL-HSL)/HSL*XS,13)"
   ]
  },
  {
   "cell_type": "code",
   "execution_count": null,
   "metadata": {},
   "outputs": [],
   "source": [
    "MA(A.fillna(0), 10)"
   ]
  },
  {
   "cell_type": "code",
   "execution_count": null,
   "metadata": {},
   "outputs": [],
   "source": [
    "talib.MA(A, 4)"
   ]
  },
  {
   "cell_type": "code",
   "execution_count": null,
   "metadata": {},
   "outputs": [],
   "source": [
    "max(A.fillna(A == inf))"
   ]
  },
  {
   "cell_type": "code",
   "execution_count": null,
   "metadata": {},
   "outputs": [],
   "source": [
    "ZXL.iloc[50:60]"
   ]
  },
  {
   "cell_type": "code",
   "execution_count": null,
   "metadata": {},
   "outputs": [],
   "source": [
    "def _tdx_boll_xg(data):\n",
    "    CLOSE = data.close\n",
    "    C = data.close\n",
    "    H = data.high\n",
    "    O = data.open\n",
    "    N = 20\n",
    "    N2 = 21\n",
    "    MID = MA(C,N)\n",
    "    VART1 = POW((C-MID),2)\n",
    "    VART2 = MA(VART1,N)\n",
    "    VART3 = SQRT(VART2)\n",
    "    UPPER = MID+2*VART3\n",
    "    LOWER = MID-2*VART3\n",
    "    BOLL =  REF(MID,1)\n",
    "    UB = REF(UPPER,1)\n",
    "#     LB = REF(LOWER,1)\n",
    "\n",
    "    TJ1 = H >= REF(UPPER,1)\n",
    "    TJ2 = CROSS(C, UB)\n",
    "    TJ3 = COUNT(TJ1, N2) == 1\n",
    "    TJ4 = C > O\n",
    "#     XG = IFAND3(TJ1, TJ2, TJ3, 1, 0)\n",
    "    return TJ1, TJ2, TJ3, TJ4\n",
    "\n",
    "def tdx_bollxg_end(data, refFlg = False):\n",
    "    CLOSE = data.close\n",
    "    VOL = data.volume\n",
    "\n",
    "    N = 20\n",
    "#     N2 = 21\n",
    "    TJ1, TJ2, TJ3, TJ4 = _tdx_boll_xg(data)\n",
    "#     TJ3 =  COUNT(TJ1,N2) == 0 ### ？？？？？？？？\n",
    "\n",
    "#     XG2 =  IFAND4(REF(TJ3,1), TJ2, C > O, H > L, True, False)\n",
    "#     XG1 =  IFAND4(REF(TJ3,1), TJ2, C > O, H > O, True, False)\n",
    "    XG1 =  IFAND4(TJ1, TJ2, TJ3, TJ4, True, False)\n",
    "    \n",
    "    SHORT  =  12\n",
    "    LONG  =  26\n",
    "    MID2  =  9\n",
    "    DIF  =  EMA(CLOSE,SHORT)-EMA(CLOSE,LONG)\n",
    "    DEA  =  EMA(DIF,MID2)\n",
    "    MACD  =  (DIF-DEA)*2\n",
    "    XG = IFAND3(XG1, MACD > 0,  CROSS(DIF,DEA), True, False)\n",
    "\n",
    "    MAV = MA(VOL,N)\n",
    "    VXG = IFAND(VOL > 2* REF(VOL,1),  VOL > MAV * 1.5, True, False)\n",
    "    XGN = IFAND(XG, VXG, 1, 0)\n",
    "    if refFlg:\n",
    "        return REF(XGN, 1), -1, False\n",
    "    else:\n",
    "        return XGN, -1, False\n",
    "    \n",
    "def tdx_bollxg_begin(data, refFlg = False):\n",
    "    TJ1, TJ2, TJ3, TJ4 = _tdx_boll_xg(data)\n",
    "    XG = IFAND4(TJ1, TJ2, TJ3, TJ4, 1, 0)\n",
    "    if refFlg:\n",
    "        return REF(XG, 1), -1, False\n",
    "    else:\n",
    "        return XG, -1, False\n",
    "#     XG = REF(TJ3,1) AND TJ2 AND C > O AND H > L\n"
   ]
  },
  {
   "cell_type": "code",
   "execution_count": null,
   "metadata": {},
   "outputs": [],
   "source": [
    "ndf.tail(10)"
   ]
  },
  {
   "cell_type": "code",
   "execution_count": null,
   "metadata": {},
   "outputs": [],
   "source": [
    "N = 5\n",
    "midPrice = talib.MIDPOINT(data.close, timeperiod=N)\n",
    "AMC = data.amount / data.volume\n",
    "midPrice2 = MA(data.close, N)\n",
    "df2 = pd.DataFrame()\n",
    "df2['中位'] = midPrice\n",
    "df2['MA'] = midPrice2\n",
    "df2['delta'] = (midPrice - midPrice2) / midPrice2 * 100.0\n",
    "# df2['amc'] = AMC / 100\n",
    "df2['mamc'] = MA(AMC / 100, N)\n",
    "df2['mamc2'] = talib.MIDPOINT(AMC / 100, timeperiod=N)"
   ]
  },
  {
   "cell_type": "code",
   "execution_count": null,
   "metadata": {},
   "outputs": [],
   "source": [
    "df2.tail(5)"
   ]
  },
  {
   "cell_type": "code",
   "execution_count": null,
   "metadata": {},
   "outputs": [],
   "source": [
    "dfC = WINNER(data, data.close)"
   ]
  },
  {
   "cell_type": "code",
   "execution_count": null,
   "metadata": {},
   "outputs": [],
   "source": [
    "dfC.tail(3)"
   ]
  },
  {
   "cell_type": "code",
   "execution_count": null,
   "metadata": {},
   "outputs": [],
   "source": [
    "data.tail(4)"
   ]
  },
  {
   "cell_type": "code",
   "execution_count": null,
   "metadata": {},
   "outputs": [],
   "source": [
    "tdx_dqe_xqc_A1(data)"
   ]
  },
  {
   "cell_type": "code",
   "execution_count": null,
   "metadata": {},
   "outputs": [],
   "source": [
    "def tdx_BOLL_EMA(data, refFlg = False):\n",
    "    CLOSE = data.close\n",
    "    VOL = data.volume\n",
    "#     C = data.close\n",
    "#     H = data.high\n",
    "#     O = data.open\n",
    "    N = 20\n",
    "#     N2 = 21\n",
    "#     MID = MA(C,N)\n",
    "#     VART1 = POW((C-MID),2)\n",
    "#     VART2 = MA(VART1,N)\n",
    "#     VART3 = SQRT(VART2)\n",
    "#     UPPER = MID+2*VART3\n",
    "#     LOWER = MID-2*VART3\n",
    "#     BOLL =  REF(MID,1)\n",
    "#     UB = REF(UPPER,1)\n",
    "# #     LB = REF(LOWER,1)\n",
    "\n",
    "#     TJ1 = H >= REF(UPPER,1)\n",
    "#     TJ2 = CROSS(C, UB)\n",
    "#     TJ3 = COUNT(TJ1, N2) == 1\n",
    "#     TJ4 = C > O\n",
    "#     XG = IFAND3(TJ1, TJ2, TJ3, 1, 0)\n",
    "#     return TJ1, TJ2, TJ3, TJ4\n",
    "    TJ1, TJ2, TJ3, TJ4 = _tdx_boll_xg(data)\n",
    "    MACDTJ = _tdx_macd_jc(CLOSE)\n",
    "    \n",
    "    MAV = MA(VOL,N);\n",
    "    VXG = IFAND(VOL > 3* REF(VOL,1), VOL > MAV * 1.5, True, False)\n",
    "    \n",
    "    XGN = IFAND3(TJ1, MACDTJ, VXG, True, False)\n",
    "    \n",
    "    FSHORT=21\n",
    "    FLONG=5\n",
    "    多空线 = EMA(CLOSE,FLONG)\n",
    "    操盘线 = EMA(CLOSE,FSHORT)\n",
    "    卖信号 = IFAND(REF(操盘线,1)<=REF(多空线,1), 操盘线>多空线, True, False)\n",
    "    买信号 = IFAND(REF(操盘线,1)>=REF(多空线,1), 操盘线<多空线, True, False)\n",
    "    \n",
    "    XG = IFAND(XGN, 买信号, 1, 0)\n",
    "    if refFlg:\n",
    "        return REF(XG, 1), -1, False\n",
    "    else:\n",
    "        return XG, -1, False\n",
    "\n",
    "    \n"
   ]
  },
  {
   "cell_type": "code",
   "execution_count": null,
   "metadata": {},
   "outputs": [],
   "source": [
    "ad2 = chbuy(ndf)\n",
    "ad2.tail(3)"
   ]
  },
  {
   "cell_type": "code",
   "execution_count": null,
   "metadata": {},
   "outputs": [],
   "source": [
    "tdx_LTBDQS(ndf)"
   ]
  },
  {
   "cell_type": "code",
   "execution_count": null,
   "metadata": {},
   "outputs": [],
   "source": []
  },
  {
   "cell_type": "code",
   "execution_count": null,
   "metadata": {},
   "outputs": [],
   "source": [
    "dfqa = qa.QA_fetch_index_list()\n",
    "print(type(dfqa))"
   ]
  },
  {
   "cell_type": "code",
   "execution_count": null,
   "metadata": {},
   "outputs": [],
   "source": [
    "code = '000001'\n",
    "# data000859 = mongo.get_stock_day(['000859'], st_start = '1990-01-01')\n",
    "# data300950 = mongo.get_stock_day(['300950'], st_start = '1990-01-01')\n",
    "# data300515 = mongo.get_stock_day(['300515'], st_start = '1990-01-01')\n",
    "# data300488 = mongo.get_stock_day(['300488'], st_start = '1990-01-01')\n",
    "data = mongo.get_stock_day([code], st_start = '1990-01-01')\n"
   ]
  },
  {
   "cell_type": "code",
   "execution_count": null,
   "metadata": {},
   "outputs": [],
   "source": [
    "jdata = pytdx_last_data(data)"
   ]
  },
  {
   "cell_type": "code",
   "execution_count": null,
   "metadata": {},
   "outputs": [],
   "source": [
    "# tdx_CDYTDXG(jdata)[0].tail(10)"
   ]
  },
  {
   "cell_type": "code",
   "execution_count": null,
   "metadata": {},
   "outputs": [],
   "source": []
  },
  {
   "cell_type": "code",
   "execution_count": null,
   "metadata": {},
   "outputs": [],
   "source": [
    "_tdx_macd_jc(data.volume)"
   ]
  },
  {
   "cell_type": "code",
   "execution_count": null,
   "metadata": {},
   "outputs": [],
   "source": [
    "tdx_BOLL_EMA(data)"
   ]
  },
  {
   "cell_type": "code",
   "execution_count": null,
   "metadata": {},
   "outputs": [],
   "source": [
    "def _tdx_macd_jc(CLOSE, SHORT = 23, LONG = 26, MID = 9):\n",
    "#     CLOSE = data.close\n",
    "    ## MACD\n",
    "    SHORT = 12\n",
    "    LONG = 26\n",
    "    MID2 = 9\n",
    "    DIFF = EMA(CLOSE,SHORT) - EMA(CLOSE,LONG)\n",
    "    DEA = EMA(DIFF, MID2)\n",
    "    MACD = (DIFF - DEA) * 2\n",
    "    return IFAND(MACD > 0, CROSS(DIFF,DEA), True, False)\n"
   ]
  },
  {
   "cell_type": "code",
   "execution_count": null,
   "metadata": {},
   "outputs": [],
   "source": [
    "CLOSE = data.close\n",
    "OPEN = data.open\n",
    "C = data.close\n",
    "O = data.open\n",
    "HIGH = data.high\n",
    "LOW = data.low\n",
    "VOL = data.volume"
   ]
  },
  {
   "cell_type": "code",
   "execution_count": null,
   "metadata": {},
   "outputs": [],
   "source": [
    "tdx_hjy(data)"
   ]
  },
  {
   "cell_type": "code",
   "execution_count": null,
   "metadata": {},
   "outputs": [],
   "source": [
    "BR"
   ]
  },
  {
   "cell_type": "code",
   "execution_count": null,
   "metadata": {},
   "outputs": [],
   "source": [
    "ndf = pytdx_last_data(data)"
   ]
  },
  {
   "cell_type": "code",
   "execution_count": null,
   "metadata": {},
   "outputs": [],
   "source": [
    "FLIGA=IFOR(IFAND(VOL/REF(VOL,1)>1.2 , COUNT(CLOSE>OPEN,1), True, False), IFAND3(LOW>REF(HIGH,1), COUNT(OPEN>CLOSE,1), VOL/REF(VOL,1)>1.2, True, False), True, False)\n",
    "# XG:XDF AND C/REF(C,1)>1.095 AND FLIGA AND VARAA,COLORRED\n",
    "XG = IFAND4(XDF, CLOSE/REF(CLOSE,1)>1.095, FLIGA, VARAA, 1, 0)"
   ]
  },
  {
   "cell_type": "code",
   "execution_count": null,
   "metadata": {},
   "outputs": [],
   "source": [
    "CLOSE = data.close\n",
    "HIGH = data.high\n",
    "LOW = data.low\n",
    "OPEN = data.open\n",
    "VOL = data.volume\n",
    "AMOUNT = data.amount"
   ]
  },
  {
   "cell_type": "code",
   "execution_count": null,
   "metadata": {},
   "outputs": [],
   "source": [
    "data"
   ]
  },
  {
   "cell_type": "code",
   "execution_count": null,
   "metadata": {},
   "outputs": [],
   "source": [
    "code = '600663'\n",
    "code = '600177'\n",
    "code = '600249'\n",
    "\n",
    "code = '000859'\n",
    "# code = '000249'\n",
    "# code = '300857'\n",
    "# code = '601127'\n",
    "# code = '688047' ## 龙芯中科\n",
    "# code = '002737'\n",
    "# code = '600178'\n",
    "# code = '000011'\n",
    "# code = '002379'\n",
    "\n",
    "# code = '002379'\n",
    "# code = '002379'\n",
    "# code = '002379'\n",
    "# code = '002379'\n",
    "\n",
    "# 600505\t西昌电力\n",
    "# 600732\t爱旭股份\n",
    "# 603168\t莎普爱思\n",
    "# 605056\t咸亨国际\n",
    "# 605118\t力鼎光电\n",
    "# 002177\t御银股份\n",
    "# 002561\t徐家汇\n",
    "# 300478\t杭州高新\n",
    "# 300875\t捷强装备\n",
    "# 600805\t悦达投资\n",
    "# 605011\t杭州热电\n",
    "# 000820\t神雾节能\n",
    "# 000993\t闽东电力\n",
    "# 603048\t浙江黎明\n",
    "# 002403\t爱仕达\n",
    "# 603977\t国泰集团\n",
    "# 605287\t德才股份\n",
    "# 300076\tGQY视讯\n",
    "# 000821\t京山轻机\n",
    "# 301083\t百胜智能\n",
    "# 601086\t国芳集团\n",
    "# 000558\t莱茵体育\n",
    "# 000982\t中银绒业\n",
    "# 002665\t首航高科\n",
    "\n",
    "# 688070\t纵横股份\n",
    "# 002076\t星光股份\n",
    "# 002192\t融捷股份\n",
    "# 002738\t中矿资源\n",
    "\n",
    "code = '002738'\n",
    "\n",
    "# 002403\n",
    "# 603977\n",
    "# 605287\n",
    "# 300076\n",
    "\n",
    "# 000011-2022-04-06\n",
    "\n",
    "data = mongo.get_stock_day([code], st_start = '2020-01-01', st_end = '2024-05-31')\n",
    "# data.close.iloc[-35:]\n",
    "# tdx_WWYHXG(data)"
   ]
  },
  {
   "cell_type": "code",
   "execution_count": null,
   "metadata": {},
   "outputs": [],
   "source": [
    "tjB(data).tail(60)"
   ]
  },
  {
   "cell_type": "code",
   "execution_count": null,
   "metadata": {},
   "outputs": [],
   "source": [
    "data.close.tail(20)"
   ]
  },
  {
   "cell_type": "code",
   "execution_count": null,
   "metadata": {},
   "outputs": [],
   "source": [
    "d2 = data.tail(20).copy()"
   ]
  },
  {
   "cell_type": "code",
   "execution_count": null,
   "metadata": {},
   "outputs": [],
   "source": [
    "TJ6[TJ6==1]"
   ]
  },
  {
   "cell_type": "code",
   "execution_count": null,
   "metadata": {},
   "outputs": [],
   "source": [
    "TJ"
   ]
  },
  {
   "cell_type": "code",
   "execution_count": null,
   "metadata": {},
   "outputs": [],
   "source": [
    "TJ[TJ==1]"
   ]
  },
  {
   "cell_type": "code",
   "execution_count": null,
   "metadata": {},
   "outputs": [],
   "source": [
    "data.index.name()"
   ]
  },
  {
   "cell_type": "code",
   "execution_count": null,
   "metadata": {},
   "outputs": [],
   "source": [
    "data.iloc[-2]"
   ]
  },
  {
   "cell_type": "code",
   "execution_count": null,
   "metadata": {},
   "outputs": [],
   "source": [
    "TJ6.tail(40)"
   ]
  },
  {
   "cell_type": "code",
   "execution_count": null,
   "metadata": {},
   "outputs": [],
   "source": [
    "IF(REF(TJ6,1)==0, TJ6, 0).tail(40)"
   ]
  },
  {
   "cell_type": "code",
   "execution_count": null,
   "metadata": {},
   "outputs": [],
   "source": [
    "df = pd.DataFrame()"
   ]
  },
  {
   "cell_type": "code",
   "execution_count": null,
   "metadata": {},
   "outputs": [],
   "source": [
    "C =data.close"
   ]
  },
  {
   "cell_type": "code",
   "execution_count": null,
   "metadata": {},
   "outputs": [],
   "source": [
    "(C > REF(C,1)) & ((C -  REF(C,1)) / REF(C,1) < 0.05)"
   ]
  },
  {
   "cell_type": "code",
   "execution_count": null,
   "metadata": {},
   "outputs": [],
   "source": [
    "df = mongo.get_table_data('st_orders-bs-tjB-tjS')"
   ]
  },
  {
   "cell_type": "code",
   "execution_count": null,
   "metadata": {},
   "outputs": [],
   "source": [
    "len(df)"
   ]
  },
  {
   "cell_type": "code",
   "execution_count": null,
   "metadata": {},
   "outputs": [],
   "source": [
    "df = df.set_index(keys = ['buy-date', 'code'], drop = False)\n",
    "df = df.sort_index()"
   ]
  },
  {
   "cell_type": "code",
   "execution_count": null,
   "metadata": {},
   "outputs": [],
   "source": [
    "df.to_csv('/root/df3.csv')"
   ]
  },
  {
   "cell_type": "code",
   "execution_count": null,
   "metadata": {},
   "outputs": [],
   "source": [
    "(KDJ(data, N = 55, M1 = 13, M2 = 8)['KDJ_J'] > 50).tail(15)"
   ]
  },
  {
   "cell_type": "code",
   "execution_count": null,
   "metadata": {},
   "outputs": [],
   "source": [
    "data['buy'] = tjB(data) #.iloc[-409:-350]\n",
    "data['shym'] = tdx_SHYM_func(data) #.iloc[-409:-350]\n",
    "data['sell'] = tjS(data) #.iloc[-409:-350]\n",
    "data['wwyh'] = tdx_WWYHXG(data)[0]\n",
    "data['pct'] = (data.close - data.close.shift()) / data.close.shift() *100"
   ]
  },
  {
   "cell_type": "code",
   "execution_count": null,
   "metadata": {},
   "outputs": [],
   "source": [
    "data[['close', 'volume', 'buy', 'sell','shym','wwyh', 'pct']].iloc[-25:]"
   ]
  },
  {
   "cell_type": "code",
   "execution_count": null,
   "metadata": {},
   "outputs": [],
   "source": [
    "reg = range(-5,0)\n",
    "###01-10\n",
    "# tdx_czhs(data)[0].iloc[reg]           ##彩钻花神\n",
    "# tdx_hm(data)[0].iloc[reg]             ##gn\n",
    "# tdx_dhmcl(data)[0].iloc[reg]          ##大黑马出笼\n",
    "# tdx_sxp(data)[0].iloc[reg]            ##双响炮\n",
    "# tdx_hmdr(data)[0].iloc[reg]           ##黑马大肉\n",
    "tdx_tpcqpz(data)[0].iloc[reg]         ##突破长期盘整\n",
    "# tdx_jmmm(data)[0].iloc[reg]         ##今买明卖\n",
    "# tdx_nmddl(data)[0].iloc[reg]           ##诺曼底登陆\n",
    "# tdx_swl(data)[0].iloc[reg]           ##耍无赖\n",
    "# tdx_yaogu(data)[0].iloc[reg]         ##妖股公式"
   ]
  },
  {
   "cell_type": "code",
   "execution_count": null,
   "metadata": {},
   "outputs": [],
   "source": [
    "###11-20\n",
    "# tdx_niugu(data)[0].iloc[reg]           ##牛股\n",
    "# tdx_buerfameng(data)[0].iloc[reg]             ##不二法门\n",
    "# tdx_yaoguqidong(data)[0].iloc[reg]          ##妖股启动\n",
    "# tdx_ygqd_test(data)[0].iloc[reg]            ##妖股启动-TEST\n",
    "# tdx_blftxg(data)[0].iloc[reg]           ##暴利副图选股\n",
    "# tdx_cptlzt(data)[0].iloc[reg]         ##操盘铁律主图\n",
    "# tdx_yhzc(data)[0].iloc[reg]         ##用户注册\n",
    "# tdx_yhzc_macd(data)[0].iloc[reg]           ##用户注册MACD\n",
    "# tdx_yhzc_kdj(data)[0].iloc[reg]           ##用户注册-KDJ\n",
    "# tdx_sxp_yhzc(data)[0].iloc[reg]         ##双响炮-用户注册"
   ]
  },
  {
   "cell_type": "code",
   "execution_count": null,
   "metadata": {},
   "outputs": [],
   "source": [
    "###21-30\n",
    "# tdx_bjmm(data)[0].iloc[reg]           ##白金买卖\n",
    "# tdx_bjmm_jzmd(data)[0].iloc[reg]             ##白金买卖JZMD\n",
    "# tdx_bjmm_yhzc(data)[0].iloc[reg]          ##白金买卖 用户注册\n",
    "# tdx_bjmm_new(data)[0].iloc[reg]            ##白金买卖-NEW\n",
    "# tdx_sxjm(data)[0].iloc[reg]           ##tdx_sxjm\n",
    "# tdx_ltt(data)[0].iloc[reg]         ##龙抬头\n",
    "# tdx_blft(data)[0].iloc[reg]         ##暴利副图选股\n",
    "# tdx_cci_xg(data)[0].iloc[reg]           ##改CCI选股\n",
    "# tdx_WYZBUY(data)[0].iloc[reg]           ##WYZBUY\n",
    "# tdx_bdzh(data)[0].iloc[reg]         ##波段纵横"
   ]
  },
  {
   "cell_type": "code",
   "execution_count": null,
   "metadata": {},
   "outputs": [],
   "source": [
    "###31-40\n",
    "# tdx_skdj_lstd(data)[0].iloc[reg]           ##tdx_skdj_lstd\n",
    "# tdx_lyqd(data)[0].iloc[reg]             ##龙妖启动\n",
    "tdx_sl5560(data)[0].iloc[reg]          ##森林5560\n",
    "# tdx_lbqs(data)[0].iloc[reg]            ##趋势多空线XG WINNER-ERR\n",
    "# tdx_zttj(data)[0].iloc[reg]           ##涨停突击\n",
    "# tdx_zttj1(data)[0].iloc[reg]         ##涨停突击1\n",
    "# tdx_cmfx(data)[0].iloc[reg]         ##筹码分析\n",
    "# tdx_TLBXX(data)[0].iloc[reg]           ##天冷不下雪\n",
    "# tdx_LDX(data)[0].iloc[reg]           ##流动性\n",
    "# tdx_TLBXXF(data)[0].iloc[reg]         ##天冷不下雪F"
   ]
  },
  {
   "cell_type": "code",
   "execution_count": null,
   "metadata": {},
   "outputs": [],
   "source": [
    "###41-50\n",
    "# tdx_WYZ17MA(data)[0].iloc[reg]           ##tdx_skdj_lstd\n",
    "# tdx_qszn(data)[0].iloc[reg]             ##趋势智能选股\n",
    "# tdx_cci(data)[0].iloc[reg]          ##CCI\n",
    "# tdx_ngqd(data)[0].iloc[reg]            ##牛股启动\n",
    "# tdx_bollxg_start(data)[0].iloc[reg]           ##boll选股\n",
    "# tdx_DQS(data)[0].iloc[reg]         ##大趋势选股\n",
    "# tdx_JZZCJSD(data)[0].iloc[reg]         ##JZZ超级赛道\n",
    "# tdx_CDYTDXG(data)[0].iloc[reg]           ##抄底与逃顶XG\n",
    "# tdx_BOLL_EMA(data)[0].iloc[reg]           ##BOLL_EMA\n",
    "# tdx_hjy(data)[0].iloc[reg]         ##天冷不下雪F"
   ]
  },
  {
   "cell_type": "code",
   "execution_count": null,
   "metadata": {},
   "outputs": [],
   "source": [
    "###51-56\n",
    "# tdx_LLXGSQ(data)[0].iloc[reg]           ##无为楼楼选股神器\n",
    "# tdx_WWDGWY(data)[0].iloc[reg]           ##无为登高望远\n",
    "# tdx_WWXGSQ(data)[0].iloc[reg]             ##无为选股神器\n",
    "# tdx_WWYHXG(data)[0].iloc[reg]          #无为一泓选股\n",
    "# tdx_WWMACDJC(data)[0].iloc[reg]            ##无为MACDJC\n",
    "# tdx_SHYM(data)[0].iloc[reg]           ##boll选股\n",
    "\n",
    "###\n",
    "# tdx_QIANFU(data)[0].iloc[reg]         ##大趋势选股\n",
    "# tdx_JZZCJSD(data)[0].iloc[reg]         ##JZZ超级赛道\n",
    "# tdx_CDYTDXG(data)[0].iloc[reg]           ##抄底与逃顶XG\n",
    "# tdx_BOLL_EMA(data)[0].iloc[reg]           ##BOLL_EMA\n",
    "# tdx_hjy(data)[0].iloc[reg]         ##天冷不下雪F"
   ]
  },
  {
   "cell_type": "code",
   "execution_count": null,
   "metadata": {},
   "outputs": [],
   "source": [
    "data.tail(3)"
   ]
  },
  {
   "cell_type": "code",
   "execution_count": null,
   "metadata": {},
   "outputs": [],
   "source": [
    "tdx_hm(data)[0].iloc[-415:-404]"
   ]
  },
  {
   "cell_type": "code",
   "execution_count": null,
   "metadata": {},
   "outputs": [],
   "source": [
    "(14.88 - 12.96) / 12.96"
   ]
  },
  {
   "cell_type": "code",
   "execution_count": null,
   "metadata": {},
   "outputs": [],
   "source": [
    "data['buy'] = tjB(data).tail(30)\n",
    "data['sell'] = tjS(data).tail(30)"
   ]
  },
  {
   "cell_type": "code",
   "execution_count": null,
   "metadata": {},
   "outputs": [],
   "source": [
    "d2 = data[(data.buy == 1) | (data.sell == 1)]"
   ]
  },
  {
   "cell_type": "code",
   "execution_count": null,
   "metadata": {},
   "outputs": [],
   "source": [
    "d2[['close', 'buy', 'sell']].to_csv('/root/t2.csv')"
   ]
  },
  {
   "cell_type": "code",
   "execution_count": null,
   "metadata": {},
   "outputs": [],
   "source": [
    "(tjB(data) & tdx_SHYM_func(data)).iloc[-215:-204]"
   ]
  },
  {
   "cell_type": "code",
   "execution_count": null,
   "metadata": {},
   "outputs": [],
   "source": [
    "tjB(data).iloc[-25:]"
   ]
  },
  {
   "cell_type": "code",
   "execution_count": null,
   "metadata": {},
   "outputs": [],
   "source": [
    "aa = tdx_LLDDX(data)[0]\n",
    "aa [ aa == 1]"
   ]
  },
  {
   "cell_type": "code",
   "execution_count": null,
   "metadata": {},
   "outputs": [],
   "source": [
    "def tjS1(data):\n",
    "    C = data.close\n",
    "    C1 = C < REF(C,1)\n",
    "    C2 = C < REF(C,2)\n",
    "#     C3 = C < REF(C,3)\n",
    "    ma5=MA(C,3)\n",
    "    C4 = C < ma5\n",
    "#     J=KDJ(data, N = 19)['KDJ_J'] < 80\n",
    "    J=KDJ(data, N = 55, M1=13, M2 = 8)['KDJ_J'] < 90\n",
    "    TJ = IFAND4(C1,C2,C4,J, 1, 0)\n",
    "#     return TJ\n",
    "    return IF(REF(TJ,1)==0, TJ, 0)\n"
   ]
  },
  {
   "cell_type": "code",
   "execution_count": null,
   "metadata": {},
   "outputs": [],
   "source": [
    "冲击波[冲击波==1]"
   ]
  },
  {
   "cell_type": "code",
   "execution_count": null,
   "metadata": {},
   "outputs": [],
   "source": [
    "data[冲击波==1]"
   ]
  },
  {
   "cell_type": "code",
   "execution_count": null,
   "metadata": {},
   "outputs": [],
   "source": [
    "code='000859'\n",
    "bfq_data=mongo.get_stock_day([code], st_start = '1990-01-01', st_end = '2024-05-31').sort_index()\n",
    "info=mongo.get_table_data('stock_xdxr').query('category==1').query(\"code=='%s'\" % code)\n",
    "info = info.drop(['_id'], axis = 1)\n",
    "info = info.set_index(['date', 'code'], drop=False).sort_index()"
   ]
  },
  {
   "cell_type": "code",
   "execution_count": null,
   "metadata": {},
   "outputs": [],
   "source": [
    "info.head(3)"
   ]
  },
  {
   "cell_type": "code",
   "execution_count": null,
   "metadata": {},
   "outputs": [],
   "source": [
    "data = pd.concat( [bfq_data,   info.loc[:,'category']   ],  axis=1 )"
   ]
  },
  {
   "cell_type": "code",
   "execution_count": null,
   "metadata": {},
   "outputs": [],
   "source": [
    "data"
   ]
  },
  {
   "cell_type": "code",
   "execution_count": null,
   "metadata": {},
   "outputs": [],
   "source": [
    "bfq_data2 = bfq_data.assign(if_trade=1)"
   ]
  },
  {
   "cell_type": "code",
   "execution_count": null,
   "metadata": {},
   "outputs": [],
   "source": [
    "bfq_data2.head(2)"
   ]
  },
  {
   "cell_type": "code",
   "execution_count": null,
   "metadata": {},
   "outputs": [],
   "source": [
    "info"
   ]
  },
  {
   "cell_type": "code",
   "execution_count": null,
   "metadata": {},
   "outputs": [],
   "source": [
    "data = pd.concat(\n",
    "            [\n",
    "                bfq_data,\n",
    "                info.loc[bfq_data.index[0]:bfq_data.index[-1],\n",
    "                         ['category']]\n",
    "            ],\n",
    "            axis=1\n",
    "        )"
   ]
  },
  {
   "cell_type": "code",
   "execution_count": null,
   "metadata": {},
   "outputs": [],
   "source": [
    "info.loc[:,       ['category']]"
   ]
  },
  {
   "cell_type": "code",
   "execution_count": null,
   "metadata": {},
   "outputs": [],
   "source": [
    "bfq_data.index[-1]"
   ]
  },
  {
   "cell_type": "code",
   "execution_count": null,
   "metadata": {},
   "outputs": [],
   "source": [
    "info['date'] = pd.to_datetime(info['date'], utc=False)"
   ]
  },
  {
   "cell_type": "code",
   "execution_count": null,
   "metadata": {},
   "outputs": [],
   "source": []
  },
  {
   "cell_type": "code",
   "execution_count": null,
   "metadata": {},
   "outputs": [],
   "source": []
  },
  {
   "cell_type": "code",
   "execution_count": null,
   "metadata": {},
   "outputs": [],
   "source": [
    "info.head(3)"
   ]
  },
  {
   "cell_type": "code",
   "execution_count": null,
   "metadata": {},
   "outputs": [],
   "source": [
    "info.loc[:bfq_data.index[-1],['category']]"
   ]
  },
  {
   "cell_type": "code",
   "execution_count": null,
   "metadata": {},
   "outputs": [],
   "source": [
    "info.index"
   ]
  },
  {
   "cell_type": "code",
   "execution_count": null,
   "metadata": {},
   "outputs": [],
   "source": [
    "bfq_data.index"
   ]
  },
  {
   "cell_type": "code",
   "execution_count": null,
   "metadata": {},
   "outputs": [],
   "source": [
    "bfq_data"
   ]
  },
  {
   "cell_type": "code",
   "execution_count": null,
   "metadata": {},
   "outputs": [],
   "source": [
    "df2[df2==1]"
   ]
  },
  {
   "cell_type": "code",
   "execution_count": null,
   "metadata": {},
   "outputs": [],
   "source": [
    "data = pd.concat( [bfq_data,   info.loc[:,'category']   ],  axis=1 )"
   ]
  },
  {
   "cell_type": "code",
   "execution_count": null,
   "metadata": {},
   "outputs": [],
   "source": [
    "data.loc[df2.index[0]:df2.index[-1],['volume']]"
   ]
  },
  {
   "cell_type": "code",
   "execution_count": null,
   "metadata": {},
   "outputs": [],
   "source": [
    "[df2.index[0],df2.index[-1]]"
   ]
  },
  {
   "cell_type": "code",
   "execution_count": null,
   "metadata": {},
   "outputs": [],
   "source": [
    "info.head(3)"
   ]
  },
  {
   "cell_type": "code",
   "execution_count": null,
   "metadata": {},
   "outputs": [],
   "source": [
    "df1 = pd.DataFrame({'A': ['A0', 'A1', 'A2', 'A3'], 'B': ['B0', 'B1', 'B2', 'B4']})\n",
    "df2 = pd.DataFrame({'A': ['A2', 'A3', 'A5'], 'B': ['B2', 'B3','B4']})"
   ]
  },
  {
   "cell_type": "code",
   "execution_count": null,
   "metadata": {},
   "outputs": [],
   "source": [
    "df1= df1.set_index(['A','B'], drop =False)\n",
    "df2= df2.set_index(['A','B'], drop =False)"
   ]
  },
  {
   "cell_type": "code",
   "execution_count": null,
   "metadata": {},
   "outputs": [],
   "source": [
    "result_1 = pd.concat([df1, df2], axis = 1)\n"
   ]
  },
  {
   "cell_type": "code",
   "execution_count": null,
   "metadata": {},
   "outputs": [],
   "source": [
    "result_1"
   ]
  },
  {
   "cell_type": "code",
   "execution_count": null,
   "metadata": {},
   "outputs": [],
   "source": [
    "df2"
   ]
  },
  {
   "cell_type": "code",
   "execution_count": null,
   "metadata": {},
   "outputs": [],
   "source": [
    "bfq_data.sort_index()"
   ]
  },
  {
   "cell_type": "code",
   "execution_count": null,
   "metadata": {},
   "outputs": [],
   "source": [
    "dft = data.category\n",
    "dft[dft==1]"
   ]
  },
  {
   "cell_type": "code",
   "execution_count": null,
   "metadata": {},
   "outputs": [],
   "source": [
    "dft"
   ]
  },
  {
   "cell_type": "code",
   "execution_count": null,
   "metadata": {},
   "outputs": [],
   "source": [
    "data.loc[info.index[2]]"
   ]
  },
  {
   "cell_type": "code",
   "execution_count": null,
   "metadata": {},
   "outputs": [],
   "source": [
    "bfq_data.loc[info.index[0]]"
   ]
  },
  {
   "cell_type": "code",
   "execution_count": null,
   "metadata": {},
   "outputs": [],
   "source": [
    "info.loc[info.index[0]]"
   ]
  },
  {
   "cell_type": "code",
   "execution_count": null,
   "metadata": {},
   "outputs": [],
   "source": [
    "bfq_data2 = bfq_data.iloc[0:10].copy().sort_index()\n",
    "info2 = info.loc[:,'category'].iloc[0:3].copy().sort_index()\n",
    "\n",
    "# info2 = bfq_data.iloc[11:13].copy().sort_index()"
   ]
  },
  {
   "cell_type": "code",
   "execution_count": null,
   "metadata": {},
   "outputs": [],
   "source": [
    "data2 = pd.concat( [bfq_data,   info  ] )"
   ]
  },
  {
   "cell_type": "code",
   "execution_count": null,
   "metadata": {},
   "outputs": [],
   "source": [
    "info2 = info.sort_index()"
   ]
  },
  {
   "cell_type": "code",
   "execution_count": null,
   "metadata": {},
   "outputs": [],
   "source": [
    "info3 = info2.loc[:, ['code','category']]\n",
    "info3 = info3.sort_index()"
   ]
  },
  {
   "cell_type": "code",
   "execution_count": null,
   "metadata": {},
   "outputs": [],
   "source": [
    "data2.loc[info.index[1]]"
   ]
  },
  {
   "cell_type": "code",
   "execution_count": null,
   "metadata": {},
   "outputs": [],
   "source": [
    "data2"
   ]
  },
  {
   "cell_type": "code",
   "execution_count": null,
   "metadata": {},
   "outputs": [],
   "source": [
    "df = pd.DataFrame({\"a\": [1, 2], \"b\": [1, 2]}, columns=['b', 'a'])"
   ]
  },
  {
   "cell_type": "code",
   "execution_count": null,
   "metadata": {},
   "outputs": [],
   "source": [
    "df"
   ]
  },
  {
   "cell_type": "code",
   "execution_count": null,
   "metadata": {},
   "outputs": [],
   "source": [
    "pd.concat([df])"
   ]
  },
  {
   "cell_type": "code",
   "execution_count": null,
   "metadata": {},
   "outputs": [],
   "source": [
    "pd.concat([df], sort = True)"
   ]
  },
  {
   "cell_type": "code",
   "execution_count": null,
   "metadata": {},
   "outputs": [],
   "source": [
    "type(info3)"
   ]
  },
  {
   "cell_type": "code",
   "execution_count": null,
   "metadata": {},
   "outputs": [],
   "source": [
    "info3.sort_value()"
   ]
  },
  {
   "cell_type": "code",
   "execution_count": null,
   "metadata": {},
   "outputs": [],
   "source": [
    "MCD走强选股"
   ]
  },
  {
   "cell_type": "code",
   "execution_count": null,
   "metadata": {},
   "outputs": [],
   "source": [
    "XG2"
   ]
  },
  {
   "cell_type": "code",
   "execution_count": null,
   "metadata": {},
   "outputs": [],
   "source": [
    "tdx_hjy(data)"
   ]
  },
  {
   "cell_type": "code",
   "execution_count": null,
   "metadata": {},
   "outputs": [],
   "source": [
    "data.high.iloc[-35:]"
   ]
  },
  {
   "cell_type": "code",
   "execution_count": null,
   "metadata": {},
   "outputs": [],
   "source": [
    "A1, A2 = tdx_BTXPOW(data) "
   ]
  },
  {
   "cell_type": "code",
   "execution_count": null,
   "metadata": {},
   "outputs": [],
   "source": [
    "df2 = tdx_WWDGWY(data)[0]"
   ]
  },
  {
   "cell_type": "code",
   "execution_count": null,
   "metadata": {},
   "outputs": [],
   "source": [
    "data['A1'] = A1\n",
    "data['A2'] = A2\n",
    "data[data.A2 | data.A1].tail(30)"
   ]
  },
  {
   "cell_type": "code",
   "execution_count": null,
   "metadata": {},
   "outputs": [],
   "source": [
    "A2[A2 == True]"
   ]
  },
  {
   "cell_type": "code",
   "execution_count": null,
   "metadata": {},
   "outputs": [],
   "source": [
    "A1=tjS(data)"
   ]
  },
  {
   "cell_type": "code",
   "execution_count": null,
   "metadata": {},
   "outputs": [],
   "source": [
    "A1[A1]"
   ]
  },
  {
   "cell_type": "code",
   "execution_count": null,
   "metadata": {},
   "outputs": [],
   "source": [
    "df3 = tdx_WWYHXG(data)[0].iloc[reg] "
   ]
  },
  {
   "cell_type": "code",
   "execution_count": null,
   "metadata": {},
   "outputs": [],
   "source": [
    "df3[df3==1]"
   ]
  },
  {
   "cell_type": "code",
   "execution_count": null,
   "metadata": {},
   "outputs": [],
   "source": []
  },
  {
   "cell_type": "code",
   "execution_count": null,
   "metadata": {},
   "outputs": [],
   "source": []
  },
  {
   "cell_type": "code",
   "execution_count": null,
   "metadata": {},
   "outputs": [],
   "source": [
    "rs_list = []\n",
    "rs_dividend_2015 = bs.query_dividend_data(code=\"sz.000859\", year=\"2021\", yearType=\"report\")\n",
    "while (rs_dividend_2015.error_code == '0') & rs_dividend_2015.next():\n",
    "    rs_list.append(rs_dividend_2015.get_row_data())\n"
   ]
  },
  {
   "cell_type": "code",
   "execution_count": null,
   "metadata": {},
   "outputs": [],
   "source": [
    "rs_list"
   ]
  },
  {
   "cell_type": "code",
   "execution_count": null,
   "metadata": {},
   "outputs": [],
   "source": [
    "tdx_CDLPattern(data)"
   ]
  },
  {
   "cell_type": "code",
   "execution_count": null,
   "metadata": {},
   "outputs": [],
   "source": [
    "CLOSE = data.close\n",
    "VOL = data.volume"
   ]
  },
  {
   "cell_type": "code",
   "execution_count": null,
   "metadata": {},
   "outputs": [],
   "source": [
    "a = tdx_sl5560(data)[0]"
   ]
  },
  {
   "cell_type": "code",
   "execution_count": null,
   "metadata": {},
   "outputs": [],
   "source": [
    "a = a[a==1]"
   ]
  },
  {
   "cell_type": "code",
   "execution_count": null,
   "metadata": {},
   "outputs": [],
   "source": [
    "for x in a.index:\n",
    "    print(datetime.datetime.strftime(x[0],'%Y-%m-%d') )"
   ]
  },
  {
   "cell_type": "code",
   "execution_count": null,
   "metadata": {},
   "outputs": [],
   "source": [
    "data.loc[a.index[0]]"
   ]
  },
  {
   "cell_type": "code",
   "execution_count": null,
   "metadata": {},
   "outputs": [],
   "source": [
    "XA_31 = IFAND5(XA_8, XA_11, XA_12, XA_28>0, XA_30>170, True, False)\n"
   ]
  },
  {
   "cell_type": "code",
   "execution_count": null,
   "metadata": {},
   "outputs": [],
   "source": [
    "XA_29"
   ]
  },
  {
   "cell_type": "code",
   "execution_count": null,
   "metadata": {},
   "outputs": [],
   "source": [
    "data"
   ]
  },
  {
   "cell_type": "code",
   "execution_count": null,
   "metadata": {},
   "outputs": [],
   "source": [
    "int(12.20)"
   ]
  },
  {
   "cell_type": "code",
   "execution_count": null,
   "metadata": {},
   "outputs": [],
   "source": [
    "math.trunc(XA_29)"
   ]
  },
  {
   "cell_type": "code",
   "execution_count": null,
   "metadata": {},
   "outputs": [],
   "source": [
    "BUY.tail(10)"
   ]
  },
  {
   "cell_type": "code",
   "execution_count": null,
   "metadata": {},
   "outputs": [],
   "source": [
    "X_7.tail(20)"
   ]
  },
  {
   "cell_type": "code",
   "execution_count": null,
   "metadata": {},
   "outputs": [],
   "source": [
    "tdx_HW168QS(data)[0].tail(10)"
   ]
  },
  {
   "cell_type": "code",
   "execution_count": null,
   "metadata": {},
   "outputs": [],
   "source": [
    "data.close.tail(10)"
   ]
  },
  {
   "cell_type": "code",
   "execution_count": null,
   "metadata": {},
   "outputs": [],
   "source": [
    "跌.tail(10)"
   ]
  },
  {
   "cell_type": "code",
   "execution_count": null,
   "metadata": {},
   "outputs": [],
   "source": [
    "code = '000859'\n",
    "data = mongo.get_stock_day([code], st_start = '1900-01-01')"
   ]
  },
  {
   "cell_type": "code",
   "execution_count": null,
   "metadata": {},
   "outputs": [],
   "source": [
    "tdx_JGCM(data)[0]"
   ]
  },
  {
   "cell_type": "code",
   "execution_count": null,
   "metadata": {},
   "outputs": [],
   "source": [
    "# 黄金眼副图\n",
    "\n",
    "VOL = data.volume\n",
    "CLOSE = data.close\n",
    "C = data.close\n",
    "HIGH = data.high\n",
    "H = data.high\n",
    "LOW = data.low\n",
    "L = data.low\n",
    "OPEN = data.open\n",
    "O = data.open\n",
    "AMOUNT = data.amount\n",
    "\n",
    "    \n",
    "N1 = 1.2\n",
    "N2 = 3\n",
    "AA1 = REF(CLOSE,2)<REF(OPEN,2)\n",
    "AA21 = REF(CLOSE,1)<REF(OPEN,1)\n",
    "AA22 = REF(CLOSE,1)>REF(OPEN,1)\n",
    "AA44 =  REF(CLOSE,1)<= REF(OPEN,2)  \n",
    "AA55 =  REF(CLOSE,2)<= REF(CLOSE,3)\n",
    "AA33 =  C>=0.997*REF(OPEN,2)  \n",
    "AA66 =  REF(CLOSE,1)<= REF(CLOSE,2) \n",
    "AA5 = C>O  \n",
    "AA6 =  IFAND4(C>REF(OPEN,1),  AA21,  AA66, AA5, True, False)\n",
    "AAJ_1 =  IFAND3(AA1, AA22 ,  AA44, True, False)\n",
    "AAJ_2 =  IFAND4( AA33   , AA55 ,  C>REF(C,1)  , AA5, True, False)\n",
    "AAJ =  IFAND(AAJ_1, AAJ_2, True, False)\n",
    "AAJG =  IFOR(AAJ , AA6, True, False)\n",
    "AA3 = REF(VOL,1)<REF(VOL,2)\n",
    "VVV1 = IF( AAJ,VOL+REF(VOL,1),VOL)\n",
    "VVV2 = IF( AAJ,REF(VOL,2),REF(VOL,1))\n",
    "AA4 = VVV1>VVV2\n",
    "AA =   IFAND(AA4  , AAJG   , True, False)\n",
    "BB1 = VVV1/VVV2>1.2\n",
    "BB2 = VVV1/VVV2<3\n",
    "BB3 = VVV2/MA(VOL, 100)<1\n",
    "BB = IFAND3(BB1 , BB2 , BB3  , True, False)\n",
    "CVV1 = IF( AA22,C,C)\n",
    "CVV2 = IF( AA22,REF(C,2),REF(C,1))\n",
    "CC = (CVV1-CVV2)/CVV2>0.02\n",
    "BY =  IFAND3(AA , BB ,  CC , True, False)\n",
    "X1 = BARSLAST(BY)\n",
    "X2 = COUNT(BY,8)>=1\n",
    "MC = 100\n",
    "NN = 0.7 # {0.4}\n",
    "MIDZ = MA(CLOSE,MC) #,COLORLIGRAY,LINETHICK2{中轨}\n",
    "UPPER = MIDZ+NN*STD(CLOSE,MC) #,COLORLIGRAY,LINETHICK4{上轨}\n",
    "LOWER = MIDZ-NN*STD(CLOSE,MC) #,COLORLIGRAY,LINETHICK4{下轨}\n",
    "AN1 = MA(C,3)\n",
    "AN2 = MA(C,21)\n",
    "AN3 = (AN1+AN2)/2\n",
    "\n",
    "BR = MA(CLOSE,8)+MA(CLOSE,8)-REF(MA(CLOSE,8),1)\n",
    "\n",
    "FR = IF(MA(CLOSE,13)<BR, BR, MA(CLOSE,13)) #,COLORFF00FF,NODRAW\n",
    "YR = FR-(EMA(C,3)-FR) #,COLORRED,LINETHICK2\n",
    "# XGC = IF(YR>AN3,YR,DRAWNULL) #,COLORBROWN,LINETHICK2\n",
    "F2 = BARSLAST(EMA(C,3)<=EMA(C,5))\n",
    "F3 = IF(EMA(C,3)>=EMA(C,3),EMA(C,5),0) #DRAWNULL)\n",
    "# F5 = IF(CURRBARSCOUNT<CONST(F2+3),F3,0)#DRAWNULL) #,COLORGREEN,LINETHICK4\n",
    "# OUTF = CROSS(F5,YR)\n",
    "\n",
    "TT = IFAND(BY  , CROSS(F3,YR), True, False)\n",
    "TTY = CROSS(F3,YR)\n",
    "TTT = COUNT(CROSS(F3,YR),5)>=2 \n",
    "TTO = IFAND3(TTT  , X2  , X1<=8 , True, False)\n",
    "XX1 = (HIGH+LOW+CLOSE*2)/4\n",
    "XX2 = EMA(XX1,21)\n",
    "XX3 = STD(XX1,21)\n",
    "XX4 = ((XX1-XX2)/XX3*100+200)/4\n",
    "XX5 = (EMA(XX4,89)-25)*1.56\n",
    "XX6 = EMA(XX5,5)*1.22\n",
    "XX7 = EMA(XX6,3)\n",
    "XX8 = 3*XX6-2*XX7\n",
    "XX9XG = IFAND3(CROSS(XX6,XX8) , CROSS(XX7,XX8) , CROSS(XX7,XX6),1,0)\n",
    "\n",
    "XX10 = EMA(CLOSE,3)-EMA(CLOSE,89)\n",
    "XX11 = EMA(XX10,21)\n",
    "XX12 = (XX10-XX11)*10\n",
    "XX13 = POW(XX12,3)*0.1+POW(XX12,2)\n",
    "SYY = IF(XX12>0.015,XX13,0)/45\n",
    "\n",
    "XX14 = EMA(CLOSE,2)-EMA(CLOSE,55)\n",
    "XX15 = EMA(XX14,13)\n",
    "XX16 = 2*(XX14-XX15)\n",
    "ZLL = (POW(XX16,3)*0.1+POW(XX16,1))*3\n",
    "TT0 = CROSS(ZLL,SYY)  \n",
    "\n",
    "TT1 = IFAND(TT0     ,  BY  , True, False)\n",
    "KN = IFAND (C<=30 , C>=18 ,8,2)\n",
    "KN1 = IFAND(C>30 , C<60,15,KN) \n",
    "KN2 = IFAND(C>=60 , C<100,30,KN1)\n",
    "KN3 = IFAND(C>=100 , C<200,150,KN2)\n",
    "KN4 = IFAND(C>=200 , C<400,250,KN3)\n",
    "N = IF(C>=400 ,1200,KN4)\n",
    "# DRAWICON(TT1,L*N*1.2,1)\n",
    "\n",
    "# DRAWICON(OUTF,L*N*1.2,3)\n",
    "\n",
    "# DRAWICON(XX9XG,L*N,5)\n",
    "\n",
    "# {\n",
    "# STICKLINE(TT1,0.1,L*N,1.0,0),COLORYELLOW\n",
    "# STICKLINE(TT1,0.1,L*N,2.8,0),COLOR000055\n",
    "# STICKLINE(TT1,0.1,L*N,2,0),COLOR000088\n",
    "# STICKLINE(TT1,0.1,L*N,1.5,0),COLOR0000AA\n",
    "# STICKLINE(TT1,0.1,L*N,1,0),COLOR0000CC\n",
    "# STICKLINE(TT1,0.1,L*N,0.5,0),COLOR0000EE\n",
    "# STICKLINE(TT1,0.1,L*N,0,0),COLORFFFFFF\n",
    "# DRAWTEXT(TT1,L*N/2,'★黄金眼'),COLORWHITE\n",
    "# }\n",
    "\n"
   ]
  },
  {
   "cell_type": "code",
   "execution_count": null,
   "metadata": {},
   "outputs": [],
   "source": [
    "# {本公式致力于发掘选股长期均线粘合走平后的向上突破点}\n",
    "\n",
    "# {高于250线}\n",
    "MA5 = MA(C,5)\n",
    "MA20 = MA(C,20)\n",
    "MA40 = MA(C,40)\n",
    "MA60 = MA(C,60)\n",
    "MA80 = MA(C,80)\n",
    "MA100 = MA(C,100)\n",
    "MA250 = MA(C,250)\n",
    "MAXMA = MAX(MA5,MAX(MA20,MAX(MAX(MA40,MA60),MAX(MA80,MA100))))\n",
    "MINMA = MIN(MA5,MIN(MA20,MIN(MIN(MA40,MA60),MIN(MA80,MA100))))\n",
    "年线之上 = MINMA>MA250\n",
    "\n",
    "上穿1 = EXIST(IFAND(CROSS(MA5,MA20) , MA20>REF(MA20,1), True, False),5)\n",
    "上穿2 = EXIST(IFAND(CROSS(MA5,MA40) , MA40>REF(MA40,1), True, False),5)\n",
    "上穿3 = EXIST(IFAND(CROSS(MA5,MA60) , MA60>REF(MA60,1), True, False),5)\n",
    "上穿4 = IFAND(MA100>REF(MA100,1) , MA250>REF(MA250,1), True, False)\n",
    "# # {5日内,5日线上穿20,40,60日线,且是黄金金叉,即两线都是向上}\n",
    "# 上穿 = EXIST(CROSS(MA5,MA20) AND MA20>REF(MA20,1),5) \n",
    "#     AND EXIST(CROSS(MA5,MA40) AND MA40>REF(MA40,1),5) \n",
    "#     AND EXIST(CROSS(MA5,MA60) AND MA60>REF(MA60,1),5) \n",
    "#     AND MA100>REF(MA100,1) \n",
    "#     AND MA250>REF(MA250,1)\n",
    "\n",
    "上穿 = IFAND4(上穿1, 上穿2, 上穿3, 上穿4, True, False)\n",
    "# # {过去40日,振幅<30%}\n",
    "四十顶 = HHV(H,40)\n",
    "四十底 = LLV(L,40)\n",
    "四十振幅 = (四十顶-四十底)/四十底*100\n",
    "振幅小 = REF(四十振幅,5)<=30\n",
    "\n",
    "XG = IFAND3(年线之上 , 上穿 , 振幅小, True, False)\n",
    "# # STICKLINE(选股,0,1,2,0),COLORRED\n"
   ]
  },
  {
   "cell_type": "code",
   "execution_count": null,
   "metadata": {},
   "outputs": [],
   "source": [
    "## 海底捞金\n",
    "VAR1 = (HHV(H,13)-LLV(L,13))\n",
    "VAR2 = (HHV(H,13)-C)\n",
    "VAR3 = (C-LLV(L,13))\n",
    "VAR4 = VAR2/VAR1*100-70\n",
    "VAR5 = (C-LLV(L,55))/(HHV(H,55)-LLV(L,55))*100\n",
    "VAR6 = (2*C+H+L)/4\n",
    "VAR7 = SMA((VAR3/VAR1*100),3,1)\n",
    "VAR8 = LLV(L,34)\n",
    "VAR9 = SMA(VAR7,3,1)-SMA(VAR4,9,1)\n",
    "VAR10 = IF(VAR9>100,VAR9-100,0)\n",
    "VARA = HHV(H,34)\n",
    "捞金信号 = EMA((VAR6-VAR8)/(VARA-VAR8)*100,8)\n",
    "BB = EMA(捞金信号,5)\n",
    "# Q = REF(捞金信号-BB<0,5) AND REF(捞金信号-BB<0,4) AND REF(捞金信号-BB<0,3) AND REF(捞金信号-BB<0,2) AND REF(捞金信号-BB<0,1) {AND 捞金信号<30} AND CROSS(捞金信号>BB,0.5),LINETHICK0\n",
    "# 建仓:STICKLINE(捞金信号-BB>0,捞金信号,BB,3,0),COLORRED\n",
    "# 离场:STICKLINE(捞金信号-BB<0,捞金信号,BB,3,0),COLORGREEN\n",
    "# 炒股:STICKLINE(捞金信号>0 AND 捞金信号-BB>=0,2,8,2,0),COLORFF00FF\n",
    "# 休息:STICKLINE(捞金信号>0 AND 捞金信号-BB<0,2,8,2,0),COLORFFFF00\n",
    "# 警:88,LINETHICK3,COLORRED\n",
    "# 戒:20,LINETHICK3,COLORGREEN\n",
    "# W:0,LINETHICK2,COLORBLUE\n",
    "# 开始捞金:STICKLINE(Q,捞金信号,Q,3,0),COLOR0066BB\n",
    "# STICKLINE(Q,捞金信号,Q,2,0),COLOR0099CC\n",
    "# STICKLINE(Q,捞金信号,Q,1,0),COLOR00CCEE\n",
    "# STICKLINE(Q,捞金信号,Q,0.1,0),COLOR00FFFF\n",
    "# DRAWTEXT(Q,捞金信号,'捞金'),COLOR0000FF\n"
   ]
  },
  {
   "cell_type": "code",
   "execution_count": null,
   "metadata": {},
   "outputs": [],
   "source": [
    "## 主力风向标\n",
    "VAR2 = LLV(LOW,33)\n",
    "VAR3 = HHV(HIGH,21)\n",
    "VAR4 = EMA((CLOSE-VAR2)/(VAR3-VAR2)*100,20)*0.998\n",
    "# 100,STICK,LINETHICK7, COLORFFCC33\n",
    "# 80, STICK,LINETHICK7, COLORFF9933\n",
    "# 50,STICK,LINETHICK7, COLORBLUE\n",
    "# 20,STICK,LINETHICK7,COLORCC0033\n",
    "# 20,COLORWHITE\n",
    "# 50,COLORYELLOW\n",
    "# 80,COLORCYAN\n",
    "# DRAWTEXT(FILTER(CLOSE>0,25),10,'底部吸筹区'),, COLORWHITE\n",
    "# DRAWTEXT(FILTER(CLOSE>0,25),30,'主力建仓区'), , COLORWHITE\n",
    "# DRAWTEXT(FILTER(CLOSE>0,25),65,'主力拉高区'), , COLORWHITE\n",
    "# DRAWTEXT(FILTER(CLOSE>0,25),88,'主力出货区'), , COLORWHITE\n",
    "当前安全度 = 100-EMA(0.667*REF(VAR4,1)+0.333*VAR4,1) #,LINETHICK2 ,COLORRED\n",
    "A = MA(-100*(HHV(HIGH,34)-CLOSE)/(HHV(HIGH,34)-LLV(LOW,34)),19) #,COLORRED\n",
    "B = -100*(HHV(HIGH,14)-CLOSE)/(HHV(HIGH,14)-LLV(LOW,14))\n",
    "D = EMA(-100*(HHV(HIGH,34)-CLOSE)/(HHV(HIGH,34)-LLV(LOW,34)),4) #,LINETHICK2\n",
    "长庄线 = A+100 #,COLORMAGENTA\n",
    "游资线 = B+100 #,COLORYELLOW,LINETHICK2\n",
    "主力线 = D+100 #,COLORRED,LINETHICK4\n",
    "# 见顶 = (REF(主力线,1)>85 AND REF(游资线,1)>85 AND REF(长庄线,1)>65) AND CROSS(长庄线,游资线) \n",
    "# 顶部区域 = (主力线<REF(主力线,1) AND REF(主力线,1)>80) AND (REF(游资线,1)>95 OR REF(游资线,2)>95 ) AND 长庄线>60 AND 游资线<83.5\n",
    "# AND 游资线<主力线 AND 游资线<长庄线+4\n",
    "# 顶部 = FILTER(顶部区域,4)\n",
    "# 操盘顾问:(长庄线<12 AND 主力线<8 AND (游资线<7.2 OR REF(游资线,1)<5) AND (主力线>REF(主力线,1) OR 游资线>REF(游资线,1)))\n",
    "# OR (长庄线<8 AND 主力线<7 AND 游资线<15 AND 游资线>REF(游资线,1)) OR (长庄线<10 AND 主力线<7 AND 游资线<1) \n",
    "# STICKLINE( {见顶 OR} 顶部,99,103,20,1 ),COLORRED,LINETHICK2\n",
    "# STICKLINE(操盘顾问,-4,0,22,0 ),COLORGREEN\n",
    "# 益盟顾问:长庄线<15 AND REF(长庄线,1)<15 AND 主力线<18 AND 游资线>REF(游资线,1) AND CROSS(游资线,长庄线) AND 游资线>主力线 \n",
    "# AND (REF(游资线,1)<5 OR REF(游资线,2)<5 ) AND (主力线>=长庄线 OR REF( 游资线,1)<1 )\n",
    "# STICKLINE( 益盟顾问,0,5,11,0 ),COLORRED\n",
    "# VARR1 = SMA(MAX(CLOSE-REF(C,1),0),6,1)/SMA(ABS(CLOSE-REF(C,1)),6,1)*100\n",
    "# DRAWICON(CROSS(82,VARR1),90,5)\n",
    "# DRAWTEXT(CROSS(82,VARR1),95,'逃'),COLORRED,LINETHICK4"
   ]
  },
  {
   "cell_type": "code",
   "execution_count": null,
   "metadata": {},
   "outputs": [],
   "source": [
    "##庄家控盘\n",
    "VAR1 = EMA(EMA(CLOSE,9),9)\n",
    "控盘 = (VAR1-REF(VAR1,1))/REF(VAR1,1)*1000\n",
    "# SJTJ = DATE<1590301\n",
    "# STICKLINE(控盘<0,控盘,0,1,0) #,COLORWHITE\n",
    "A10 = CROSS(控盘,0)\n",
    "无庄控盘 = IF(控盘<0,控盘,0) #,COLORWHITE,NODRAW\n",
    "开始控盘 = IF(A10,5,0) #,LINETHICK1,COLORYELLOW\n",
    "# STICKLINE(控盘>REF(控盘,1) AND 控盘>0,控盘,0,1,0),COLORRED\n",
    "有庄控盘 = IFAND(控盘>REF(控盘,1) , 控盘>0,控盘,0) #,COLORRED,NODRAW\n",
    "VAR2 = 100*WINNER(data, CLOSE*0.95)\n",
    "#STICKLINE(VAR2>50 AND COST(85)<CLOSE AND 控盘>0,控盘,0,1,0),COLORFF00FF\n",
    "高度控盘 = IFAND3(VAR2>50 , COST(data, 85)<CLOSE , 控盘>0,控盘,0)#,COLORFF00FF,NODRAW\n",
    "# STICKLINE(控盘<REF(控盘,1) AND 控盘>0,控盘,0,1,0)#,COLOR00FF00\n",
    "主力出货 = IFAND(控盘<REF(控盘,1) , 控盘>0,控盘,0)#,COLOR00FF00,NODRAW"
   ]
  },
  {
   "cell_type": "code",
   "execution_count": null,
   "metadata": {},
   "outputs": [],
   "source": [
    "## 三剑下天山\n",
    "N = 20\n",
    "布林线 = MA(CLOSE,N) #,COLORRED,LINETHICK2;\n",
    "上轨 = 布林线+2*STD(CLOSE,N) #,COLORGREEN;\n",
    "下轨 = 布林线-2*STD(CLOSE,N)#,COLORCYAN;\n",
    "# {红}\n",
    "# STICKLINE(C>O,C,O,4,0),COLOR000077;\n",
    "# STICKLINE(C>O,C,O,3,0),COLOR000088;\n",
    "# STICKLINE(C>O,C,O,2,0),COLOR000099;\n",
    "# STICKLINE(C>O,C,O,1,0),COLOR0000BB;\n",
    "# {绿}\n",
    "# STICKLINE(C<O,C,O,4,0),COLOR007700;\n",
    "# STICKLINE(C<O,C,O,3,0),COLOR008800;\n",
    "# STICKLINE(C<O,C,O,2,0),COLOR009900;\n",
    "# STICKLINE(C<O,C,O,1,0),COLOR00BB00;\n",
    "# MA1:EMA(CLOSE,1),COLORWHITE,LINETHICK2;\n",
    "# MA2:EMA(CLOSE,2),COLORLIBLUE;\n",
    "# MA3:EMA(CLOSE,3),COLORLIBLUE;\n",
    "# MA4:EMA(CLOSE,4),COLORLIBLUE;\n",
    "# MA5:EMA(CLOSE,5),COLORMAGENTA,LINETHICK1;\n",
    "# MA20:EMA(CLOSE,20),COLORYELLOW,LINETHICK2;\n",
    "# 上涨:IF(MA5>=REF(MA5,1),MA5,DRAWNULL),COLORMAGENTA,LINETHICK3;\n",
    "# 下跌:IF(MA5<=REF(MA5,1),MA5,DRAWNULL),COLORGREEN,LINETHICK2;\n",
    "# DRAWICON(CROSS(MA1,MA5) AND MA5<MA20,L*1-0.95,1);\n",
    "# DRAWICON(CROSS(MA2,MA1) AND MA5>MA20,H*1.001,2);\n",
    "# A:IF(CLOSE>SAR(4,2,20),SAR(4,2,20),DRAWNULL),CIRCLEDOT,COLORRED;\n",
    "# B:IF(CLOSE<SAR(4,2,20),SAR(4,2,20),DRAWNULL),CIRCLEDOT,COLORCYAN;\n",
    "\n",
    "TYP = (HIGH+LOW+CLOSE)/3\n",
    "CCI = (TYP-MA(TYP,13))/(0.015*AVEDEV(TYP,13))\n",
    "# DRAWTEXT(CROSS(CCI,-210) AND CCI>REF(CCI,1),L*0.993,'★平空'),COLORWHITE;\n",
    "# DRAWTEXT(CROSS(220,CCI) AND CCI<REF(CCI,1),H*1.007,'★平多做空'),COLORYELLOW;\n",
    "# DRAWTEXT(CROSS(CCI,50) AND CCI>REF(CCI,1),L*0.993,'★加多'),COLORYELLOW;\n",
    "# DRAWTEXT(CROSS(-150,CCI) AND CCI<REF(CCI,1),H*1.007,'★加空'),COLORWHITE;"
   ]
  },
  {
   "cell_type": "code",
   "execution_count": null,
   "metadata": {},
   "outputs": [],
   "source": [
    "a2 = fetch_k_day('sz.000859')"
   ]
  },
  {
   "cell_type": "code",
   "execution_count": null,
   "metadata": {},
   "outputs": [],
   "source": [
    "minutes_field = \"date,time,code,open,high,low,close,volume,amount,adjustflag\"\n",
    "day_field = \"date,code,open,high,low,close,volume,amount,adjustflag,turn,pctChg,peTTM,pbMRQ,psTTM,pcfNcfTTM\"\n",
    "w_m_field = \"date,code,open,high,low,close,volume,amount,adjustflag,turn,pctChg\"\n",
    "profile_field = 'code,pubDate,statDate,roeAvg,npMargin,gpMargin,netProfit,epsTTM,MBRevenue,totalShare,liqaShare'\n",
    "WEEK = 'w'\n",
    "MONTH = 'm'\n",
    "QFQ = '2'\n",
    "HFQ = '1'\n",
    "BFQ = '3'\n"
   ]
  },
  {
   "cell_type": "code",
   "execution_count": null,
   "metadata": {},
   "outputs": [],
   "source": [
    "a2"
   ]
  },
  {
   "cell_type": "code",
   "execution_count": null,
   "metadata": {},
   "outputs": [],
   "source": [
    "data.close"
   ]
  },
  {
   "cell_type": "code",
   "execution_count": null,
   "metadata": {},
   "outputs": [],
   "source": [
    "a = {'k1': {'c1':1, 'c2':2}, 'k2': {}}"
   ]
  },
  {
   "cell_type": "code",
   "execution_count": null,
   "metadata": {},
   "outputs": [],
   "source": [
    "'k3' in a"
   ]
  },
  {
   "cell_type": "code",
   "execution_count": null,
   "metadata": {},
   "outputs": [],
   "source": [
    "for x2 in a:\n",
    "    print(x2)"
   ]
  },
  {
   "cell_type": "code",
   "execution_count": null,
   "metadata": {},
   "outputs": [],
   "source": [
    "a['k2']['v3'] = 23"
   ]
  },
  {
   "cell_type": "code",
   "execution_count": null,
   "metadata": {},
   "outputs": [],
   "source": [
    "a"
   ]
  },
  {
   "cell_type": "code",
   "execution_count": null,
   "metadata": {},
   "outputs": [],
   "source": [
    "a = 1"
   ]
  },
  {
   "cell_type": "code",
   "execution_count": null,
   "metadata": {},
   "outputs": [],
   "source": [
    "a += 1"
   ]
  },
  {
   "cell_type": "code",
   "execution_count": null,
   "metadata": {},
   "outputs": [],
   "source": [
    "a"
   ]
  },
  {
   "cell_type": "code",
   "execution_count": null,
   "metadata": {},
   "outputs": [],
   "source": [
    "a = []\n",
    "type(a)"
   ]
  },
  {
   "cell_type": "code",
   "execution_count": null,
   "metadata": {},
   "outputs": [],
   "source": [
    "type(a) is list"
   ]
  },
  {
   "cell_type": "code",
   "execution_count": null,
   "metadata": {},
   "outputs": [],
   "source": [
    "a.append(1)\n",
    "a"
   ]
  },
  {
   "cell_type": "code",
   "execution_count": null,
   "metadata": {},
   "outputs": [],
   "source": [
    "tdx_swl(data)[0]"
   ]
  },
  {
   "cell_type": "code",
   "execution_count": null,
   "metadata": {},
   "outputs": [],
   "source": []
  },
  {
   "cell_type": "code",
   "execution_count": null,
   "metadata": {},
   "outputs": [],
   "source": [
    "DN1['k1'] = SJ1\n",
    "DN1['k2'] = SJ2\n",
    "DN1"
   ]
  },
  {
   "cell_type": "code",
   "execution_count": null,
   "metadata": {},
   "outputs": [],
   "source": [
    "daidx=data.close.index.values.tolist()\n",
    "D2.loc[daidx[123]]"
   ]
  },
  {
   "cell_type": "code",
   "execution_count": null,
   "metadata": {},
   "outputs": [],
   "source": [
    "data.close.index.values"
   ]
  },
  {
   "cell_type": "code",
   "execution_count": null,
   "metadata": {},
   "outputs": [],
   "source": [
    "daidx"
   ]
  },
  {
   "cell_type": "code",
   "execution_count": null,
   "metadata": {},
   "outputs": [],
   "source": [
    "a2"
   ]
  },
  {
   "cell_type": "code",
   "execution_count": null,
   "metadata": {},
   "outputs": [],
   "source": [
    "a = [1,2,3]\n",
    "b = [4,5,6]\n",
    "\n",
    "a+b"
   ]
  },
  {
   "cell_type": "code",
   "execution_count": null,
   "metadata": {},
   "outputs": [],
   "source": [
    "def tdx_CDYTDXG(data, refFlg = False):\n",
    "    N3 = 485\n",
    "    if len(data) < N3:\n",
    "        return IF(data.close < 0, 0, 0), -1, False\n",
    "    CLOSE =data.close\n",
    "    OPEN = data.open\n",
    "    VOL = data.volume\n",
    "\n",
    "    C = data.close\n",
    "    LOW = data.low\n",
    "    H = data.high\n",
    "    HIGH = data.high\n",
    "    O = data.open\n",
    "    #     {1.风险控制}\n",
    "    N1 = 34\n",
    "    HDY = EMA (100*(C-LLV(LOW,N1))/(HHV(H,N1)-LLV(LOW,N1)),3)\n",
    "    TJCD = HDY > REF(HDY,1)\n",
    "    EMA3 = EMA(CLOSE,3)\n",
    "    X_14 = IFAND(COUNT(REF(EMA3,1)<REF(EMA3,2),5)==5, EMA3>REF(EMA3,1), True, False)\n",
    "    XG1 = IFAND(X_14, TJCD, True, False)\n",
    "\n",
    "    TJ1=COUNT(X_14,60) >= 1\n",
    "    TJ2=CLOSE < HHV(CLOSE, 60)\n",
    "\n",
    "    XG2=IFAND4(X_14, TJ1, TJ2, TJCD, True, False)\n",
    "\n",
    "    #     {2.专捉“主力挖坑股”}\n",
    "    N2 = 17\n",
    "    N4 = 222\n",
    "    N5 = 96\n",
    "    DN1 = 0.96\n",
    "    DN2 = 0.558\n",
    "    DN3 = 1.25\n",
    "    DN4 = 0.65\n",
    "    DN5 = 1.3\n",
    "    DN6 = 0.68\n",
    "    VAR1=MA(HHV(HIGH,N3),N2) \n",
    "    VAR2=MA(HHV(HIGH,N4),N2) \n",
    "    VAR3=MA(HHV(HIGH,N5),N2) \n",
    "    VAR4=MA(LLV(LOW,N3),N2) \n",
    "    VAR5=MA(LLV(LOW,N4),N2) \n",
    "    VAR6=MA(LLV(LOW,N5),N2) \n",
    "    VAR7=MA((VAR4*DN1 + VAR5*DN1 + VAR6*DN1 + VAR1*DN2 + VAR2*DN2 + VAR3*DN2)/6,N2) \n",
    "    VAR81=MA((VAR4*DN3 + VAR5*1.23 + VAR6*1.2 + VAR1*0.55 + VAR2*0.55 + VAR3*0.65)/6,N2)\n",
    "    VAR8=MA((VAR4*DN3 + VAR5*1.23 + VAR6*1.2 + VAR1*DN4 + VAR2*DN4 + VAR3*DN4)/6,N2)\n",
    "    VAR9=MA((VAR4*DN5 + VAR5*DN5 + VAR6*DN5 + VAR1*DN6 + VAR2*DN6 + VAR3*DN6)/6,N2) \n",
    "    VARA=MA((VAR7*3 + VAR8*2 + VAR9)/6 * 1.738, N2) \n",
    "    VARC=LOW \n",
    "    VARD=REF(LOW,1) \n",
    "    VARE_1 = SMA(MAX(VARC-VARD,0),3,1)\n",
    "    VARE_2 = IF(VARE_1 == 0, 0.01, VARE_1)\n",
    "    VARE = SMA(ABS(VARC-VARD),3,1)/VARE_2*100\n",
    "#     VARE=SMA(ABS(VARC-VARD),3,1)/SMA(MAX(VARC-VARD,0),3,1)*100 \n",
    "    VARF = MA(IF(CLOSE*1.35<=VARA,VARE*10,VARE/10),3) \n",
    "    VAR10 = LLV(LOW,30) \n",
    "    VAR11 = HHV(VARF,30) \n",
    "    TJ = MA(IF(LOW<=VAR10,(VARF+VAR11*2)/2,0),3)\n",
    "    挖坑 = IFAND(REF(TJ,2)>REF(TJ,3), TJ<REF(TJ,1), True, False)\n",
    "\n",
    "    AXG=IFAND5(COUNT(挖坑,3) > 0, COUNT(XG2,3) > 0, VOL > MA(VOL,5), C > REF(C,1), C > O, True, False)\n",
    "    XG = FILTER(AXG,5)\n",
    "    if refFlg:\n",
    "        return REF(XG, 1), -1, False\n",
    "    else:\n",
    "        return XG, -1, False\n"
   ]
  },
  {
   "cell_type": "code",
   "execution_count": null,
   "metadata": {},
   "outputs": [],
   "source": [
    "code = '000017'\n",
    "data = mongo.get_stock_day([code], st_start = '1900-01-01',qfq=1)\n",
    "tdx_LDX(data)[0].tail(10)"
   ]
  },
  {
   "cell_type": "code",
   "execution_count": null,
   "metadata": {},
   "outputs": [],
   "source": [
    "# data.head(10)"
   ]
  },
  {
   "cell_type": "code",
   "execution_count": null,
   "metadata": {},
   "outputs": [],
   "source": [
    "# def tdx_LDX(data):\n",
    "import math\n",
    "import numpy as np\n",
    "#流动性\n",
    "CLOSE = data.close\n",
    "OPEN = data.open\n",
    "AM = data.amount\n",
    "VOL = data.volume\n",
    "TURNOVER = data.turn\n",
    "V1=ABS(np.log(CLOSE) - np.log(OPEN))\n",
    "V2=ABS(np.log(CLOSE) - np.log(REF(CLOSE,1)))\n",
    "#V3=MA(MAX(V1,V2)/AM * CAPITAL(data),10)\n",
    "V3=MA(MAX(V1,V2)/AM * (VOL * 10000 / TURNOVER),10)\n",
    "V4=REF(V3,1)\n",
    "# return V4, -1, False\n"
   ]
  },
  {
   "cell_type": "code",
   "execution_count": null,
   "metadata": {},
   "outputs": [],
   "source": [
    "V2"
   ]
  },
  {
   "cell_type": "code",
   "execution_count": null,
   "metadata": {},
   "outputs": [],
   "source": [
    "tdx_LDX(data)[0].tail(10)"
   ]
  },
  {
   "cell_type": "code",
   "execution_count": null,
   "metadata": {},
   "outputs": [],
   "source": [
    "def tdx_ygqd_test(data):\n",
    "    # {妖股启动}\n",
    "    C = data.close\n",
    "    CLOSE = data.close\n",
    "    HIGH = data.high\n",
    "    H = data.high\n",
    "    L = data.low\n",
    "    LOW = data.low\n",
    "    OPEN = data.open\n",
    "    O = data.open\n",
    "    VOL = data.volume\n",
    "    TURNOVER = data.turn\n",
    "    # VAR1 = EMA(SMA((CLOSE - LLV(LOW, 19)) / (HHV(HIGH, 19) - LLV(LOW, 19)) * 100, 8, 1), 3)\n",
    "    # STICKLINE(VAR1 > 20, VAR1 < 80, VAR1, VAR1, 10, 1), COLORRED\n",
    "    # STICKLINE(VAR1 < REF(VAR1, 1), VAR1, VAR1, 10, 1), COLORFFCC66\n",
    "    # STICKLINE(VAR1 > 80, VAR1, VAR1, 8, 1)\n",
    "    # STICKLINE(VAR1 < 20, VAR1, VAR1, 8, 1), COLORYELLOW\n",
    "    ABV = MA(SUM(IF(CLOSE > REF(CLOSE, 1), VOL, IF(CLOSE < REF(CLOSE, 1), -VOL, 0)), 0) / 25000, 2)\n",
    "    # M1 = EMA(ABV, 12)\n",
    "    M2 = EMA(ABV.fillna(0), 26)\n",
    "    MTM = (CLOSE - REF(CLOSE, 1)).fillna(0)\n",
    "    MMS = ((100) * (EMA(EMA(MTM, 6), 6))) / (EMA(EMA(ABS(MTM), 6), 6))\n",
    "    MMM = ((100) * (EMA(EMA(MTM, 12), 12))) / (EMA(EMA(ABS(MTM), 12), 12))\n",
    "    MML = ((100) * (EMA(EMA(MTM, 26), 26))) / (EMA(EMA(ABS(MTM), 26), 26))\n",
    "    MMA = C - REF(C, 1)\n",
    "    MMB = 100 * EMA(EMA(MMA, 9), 9) / EMA(EMA(ABS(MMA), 9), 9)\n",
    "    MMC = MA(MMB, 5)\n",
    "    # A = ((VOL) / (CAPITAL(data))) * (100)\n",
    "    # S = ((MA(A, 30)) / (MA(INDEX(data).amount, 10))) * (MA(INDEX(data).amount, 60))\n",
    "    # Y = ((MA(A, 120)) / (MA(INDEX(data).amount, 10))) * (MA(INDEX(data).amount, 60))\n",
    "    # X = 1\n",
    "    V1 = (HIGH + OPEN + LOW + (2) * (CLOSE)) / (5)\n",
    "    V2 = REF(V1, 1)\n",
    "    V3 = MAX(V1 - V2, 0)\n",
    "    V4 = ABS(V1 - V2)\n",
    "    V5 = SMA(V3, 10, 1)\n",
    "    V6 = SMA(V4, 10, 1)\n",
    "    V8 = COUNT(((V5) / (V6) < 0.2), 5)\n",
    "    V9 = COUNT((LLV(V1, 10)==V1), 10)\n",
    "    # 主力进出 = IFAND6(MMS > REF(MMS, 1), MMB > REF(MMB, 1), CROSS(ABV, M2), ABV > REF(ABV, 1)\n",
    "    #               , M1 > REF(M1, 1), M2 > REF(M2, 1), True, False)\n",
    "    # 主进主轨 = IFAND3(ABV > M2, CROSS(ABV, M1), CROSS(MMB, MMC), True, False)\n",
    "    精准买卖1 = IFAND5(V8 >= 1, V9 >= 1, CLOSE > OPEN, REF(CLOSE, 1) > REF(OPEN, 1), (VOL > REF(VOL, 1)), True, False)\n",
    "    精准买卖 = IFAND3(精准买卖1, MMS > MML, CROSS(ABV, M2), True, False)\n",
    "    短线买点1 = IFAND5(V8 >= 1, V9 >= 1, CLOSE > OPEN, REF(CLOSE, 1) > REF(OPEN, 1), (VOL > REF(VOL, 1)), True, False)\n",
    "    短线买点 = IFAND3(短线买点1, CROSS(MMS, MML), ABV > REF(ABV,1), True, False)\n",
    "    中线买点1 = IFAND6(V8 >= 1, V9 >= 1, CLOSE > OPEN, REF(CLOSE, 1) > REF(OPEN, 1), (VOL > REF(VOL, 1)), ABV > REF(ABV, 1), True, False)\n",
    "    中线买点 = IFAND6(中线买点1, MMS > MML, CROSS(MMM, MML), MMS > REF(MMS, 1), MMM > REF(MMM, 1), MML > REF(MML, 1), True, False)\n",
    "    主进主买 = IFAND6(ABV > M2, MMB > MMC, CROSS(MMS, MML), MMS > REF(MMS, 1), MMM > REF(MMM, 1), MML > REF(MML, 1), True, False)\n",
    "    短中精 = IFOR4(精准买卖, 短线买点, 中线买点, 主进主买, True, False)\n",
    "    主力买卖 = IF(短中精, 1, 0)\n",
    "    主力轨迹 = IFAND5(ABV > M2, MMS > MML, CROSS(MMB, MMC), MMB > REF(MMB, 1), MMC > REF(MMC, 1), 1, 0)\n",
    "    # 拉升在即 = IFAND5(S < X, Y < X, MMS > MML, ABV > M1, CROSS(S, Y), 1, 0)\n",
    "    底部构成1 = IFAND5(V8 >= 1, V9 >= 1, CLOSE > OPEN, REF(CLOSE, 1) > REF(OPEN, 1), VOL > REF(VOL, 1), True, False)\n",
    "    # 底部构成 = IFAND3(底部构成1, ABV > M2, MMB > MMC, 1, 0)\n",
    "    ROC = (CLOSE - REF(CLOSE, 12)) / REF(CLOSE, 12) * 100\n",
    "    HSL = TURNOVER # *100\n",
    "    冲击波 = IFAND(CROSS(ROC, 16), HSL > 3.5, 1, 0)\n",
    "    macdV=MACD(data.close)\n",
    "    CONF1 = IFOR(CROSS(macdV.DIFF, macdV.DEA), IFAND(macdV.MACD > 0, macdV.MACD < 0.5, True, False), True, False)\n",
    "    CONF2 = IF(主力买卖 > 0, True, False)\n",
    "    # CONF3 = IF(主力进出 > 0, True, False)\n",
    "    CONF4 = IF(主力轨迹 > 0, True, False)\n",
    "    CONF5 = IF(冲击波 > 0, True, False)\n",
    "    CONF11 = IFAND(EXIST(CONF2, 5), BARSLAST(CONF2) > BARSLAST(CONF5), True, False)\n",
    "    # CONF12 = IFAND(EXIST(CONF3, 5), BARSLAST(CONF3) > BARSLAST(CONF5), True, False)\n",
    "    CONF13 = IFAND(EXIST(CONF4, 5), BARSLAST(CONF4) > BARSLAST(CONF5), True, False)\n",
    "    CONF21 = IFAND(MA(C, 5) > MA(C, 10), MA(C, 5) > MA(C, 60), True, False)\n",
    "    CONF22 = FINANCE(data, 40) / 100000000 < 60\n",
    "    CONF23 = IFAND3(L > MA(C, 5), ABS((H - MAX(C, O)) / (O - C)) < 0.5, ABS((MIN(O, C) - L) / (C - O)) < 0.5, True, False)\n",
    "    BS1 = IFOR(CONF11, CONF13, True, False)\n",
    "    BS2 = IFAND3(CONF21, CONF22, CONF23, True, False)\n",
    "    XG = IFAND4(EXIST(CONF1, 5), EXIST(CONF5, 3), BS1, BS2, 1, 0)\n",
    "    return XG, -1, True\n"
   ]
  },
  {
   "cell_type": "code",
   "execution_count": null,
   "metadata": {},
   "outputs": [],
   "source": [
    "X_8= IFAND5(OPEN<EMA(CLOSE,5), CLOSE==HIGH , CLOSE/OPEN >=1.105 , TURNOVER/100 >=0.019 , TURNOVER/100<=0.2, True, False)\n",
    "# X_8= IFAND5(OPEN<EMA(CLOSE,5), CLOSE==HIGH , CLOSE/OPEN >=1.105 , TURNOVER>=0.019 , TURNOVER<=0.2, True, False)\n",
    "# X_8:OPEN<EMA(CLOSE,5) AND CLOSE=HIGH AND CLOSE/OPEN>=1.105 AND VOL/CAPITAL>=0.019 AND VOL/CAPITAL<=0.2;\n",
    "# X_8= IFAND3(OPEN<EMA(CLOSE,5), CLOSE==HIGH , CLOSE/OPEN >=1.105 , True, False)\n",
    "X_8\n",
    "# TURNOVER"
   ]
  },
  {
   "cell_type": "code",
   "execution_count": null,
   "metadata": {},
   "outputs": [],
   "source": [
    "VOL/CAPITAL(data)"
   ]
  },
  {
   "cell_type": "code",
   "execution_count": null,
   "metadata": {},
   "outputs": [],
   "source": [
    "VOL"
   ]
  },
  {
   "cell_type": "code",
   "execution_count": null,
   "metadata": {},
   "outputs": [],
   "source": [
    "H = data.high\n",
    "L = data.low\n",
    "C = data.close\n",
    "BIAS0 = (C - MA(C, 3)) / MA(C, 3) * 100\n",
    "# HXL = V / CAPITAL * 100\n",
    "D1 = INDEXC(data)\n",
    "# D1 = C\n",
    "D2 = MA(D1, 13)\n",
    "DR2 = D2 > 1.050 * D1\n",
    "# E1 = (C - HHV(C, 13)) / HHV(C, 13) * 10\n",
    "E2 = (C - REF(C, 21)) / REF(C, 21) * 10\n",
    "# E3 = MA(C, 3)\n",
    "SJ1 = DR2\n",
    "SJ2 = E2 < -2.30\n",
    "SJ3 = BIAS0 < -2.7\n",
    "SJ5 = IFAND3(SJ1, SJ2, SJ3, True, False)\n",
    "SJ6 = CROSS(0.5, SJ5)\n",
    "JS1 = CROSS(SJ6, 0.5)\n",
    "JS2 = BARSLAST(JS1==1)\n",
    "JS3 = IFAND(JS2 <= 5, C < REF(C, JS2), True, False)\n",
    "TJ = IFOR(SJ6, JS3, True, False)\n",
    "耍无赖XG = IFAND(TJ == 0,   REF(TJ==1, 1), 1, 0)\n"
   ]
  },
  {
   "cell_type": "code",
   "execution_count": null,
   "metadata": {},
   "outputs": [],
   "source": [
    "tempData = data.query(\"code=='%s'\" % 'code')"
   ]
  },
  {
   "cell_type": "code",
   "execution_count": null,
   "metadata": {},
   "outputs": [],
   "source": [
    "len(tempData)"
   ]
  },
  {
   "cell_type": "code",
   "execution_count": null,
   "metadata": {},
   "outputs": [],
   "source": [
    "# df1 = mongo.get_table_data('day-select-2024-01-17')\n",
    "df2 = mongo.get_table_data('day-select-2024-01-23')"
   ]
  },
  {
   "cell_type": "code",
   "execution_count": null,
   "metadata": {},
   "outputs": [],
   "source": [
    "df2"
   ]
  },
  {
   "cell_type": "code",
   "execution_count": null,
   "metadata": {},
   "outputs": [],
   "source": [
    "# df2 = mongo.get_table_data('day-select-2024-01-23')\n",
    "# data_app = []\n",
    "# i = 0\n",
    "# for index, row in df2.iterrows():\n",
    "# # #     print(df1.loc[x])\n",
    "#     temp = {'_id':row._id, 'code': row.code, 'date': row.date, 'price': row.price, 'func': row.func, 'score': row.score}\n",
    "#     data_app.append(temp)\n",
    "#     i += 1\n",
    "#     if i % 100 == 0:\n",
    "#         mongo.save('day-select-2024-01-22', data_app)\n",
    "#         print(\"do-save\")\n",
    "#         data_app = []\n",
    "        \n",
    "# if len(data_app) > 0:\n",
    "#     mongo.save('day-select-2024-01-22', data_app)\n",
    "#     print(\"do-save-end\")\n",
    "    \n",
    "# #         mongo.save('day-select-2024-01-18-0', data_app)\n",
    "# # print(data_app)\n",
    "# print(\"do-save-end\")"
   ]
  },
  {
   "cell_type": "code",
   "execution_count": null,
   "metadata": {},
   "outputs": [],
   "source": [
    "df_po = mongo.get_table_data('positions')\n"
   ]
  },
  {
   "cell_type": "code",
   "execution_count": null,
   "metadata": {},
   "outputs": [],
   "source": [
    "df_po.columns"
   ]
  },
  {
   "cell_type": "code",
   "execution_count": null,
   "metadata": {},
   "outputs": [],
   "source": [
    "df_po.columns"
   ]
  },
  {
   "cell_type": "code",
   "execution_count": null,
   "metadata": {},
   "outputs": [],
   "source": [
    "insdata = ['601113','603966','605099','605255','000025','002486','002763','002971','603600']\n",
    "for code in insdata:\n",
    "    apd = []\n",
    "#     code = '001216'\n",
    "    dc = {'_id':code, 'code':code, 'amount':100, 'idx':0, 'status':'1', 'price':1}\n",
    "    apd.append(dc)\n",
    "    try:\n",
    "        mongo.save('positions', apd)\n",
    "    except Exception:\n",
    "#         print(sss)\n",
    "#         print(\"ok\")\n",
    "        pass\n"
   ]
  },
  {
   "cell_type": "code",
   "execution_count": null,
   "metadata": {},
   "outputs": [],
   "source": [
    "minutes_field = \"date,time,code,open,high,low,close,volume,amount,adjustflag\"\n",
    "day_field = \"date,code,open,high,low,close,volume,amount,adjustflag,turn,pctChg,peTTM,pbMRQ,psTTM,pcfNcfTTM\"\n",
    "w_m_field = \"date,code,open,high,low,close,volume,amount,adjustflag,turn,pctChg\"\n",
    "profile_field = 'code,pubDate,statDate,roeAvg,npMargin,gpMargin,netProfit,epsTTM,MBRevenue,totalShare,liqaShare'\n",
    "WEEK = 'w'\n",
    "MONTH = 'm'\n",
    "QFQ = '2'\n",
    "HFQ = '1'\n",
    "BFQ = '3'\n"
   ]
  },
  {
   "cell_type": "code",
   "execution_count": null,
   "metadata": {},
   "outputs": [],
   "source": [
    "codelist = getCodeList('all')"
   ]
  },
  {
   "cell_type": "code",
   "execution_count": null,
   "metadata": {},
   "outputs": [],
   "source": [
    "codelist"
   ]
  },
  {
   "cell_type": "code",
   "execution_count": null,
   "metadata": {},
   "outputs": [],
   "source": [
    "a2 = fetch_k_day('sh.689009')"
   ]
  },
  {
   "cell_type": "code",
   "execution_count": null,
   "metadata": {},
   "outputs": [],
   "source": [
    "data.tail(1)"
   ]
  },
  {
   "cell_type": "code",
   "execution_count": null,
   "metadata": {},
   "outputs": [],
   "source": [
    "tdx_ZQNG(data)[0].tail(10)"
   ]
  },
  {
   "cell_type": "code",
   "execution_count": null,
   "metadata": {},
   "outputs": [],
   "source": [
    "XGZ = IF(V6>0,1,0)"
   ]
  },
  {
   "cell_type": "code",
   "execution_count": null,
   "metadata": {},
   "outputs": [],
   "source": [
    "XGZ"
   ]
  },
  {
   "cell_type": "code",
   "execution_count": null,
   "metadata": {},
   "outputs": [],
   "source": [
    "def tdx_JGCM(data, refFlg = False):\n",
    "    # {机构筹码}\n",
    "    XA_1 = REF(LOW,1)\n",
    "    XA_2 = SMA(ABS(LOW-XA_1),3,1)/SMA(MAX(LOW-XA_1,0),3,1)*100\n",
    "    XA_3 = EMA(IF(CLOSE*1.2,XA_2*10,XA_2/10),3)\n",
    "    XA_3_1 = EMA(XA_2*10,3)\n",
    "    XA_4 = LLV(LOW,38)\n",
    "    XA_5 = HHV(XA_3,38)\n",
    "    XA_6 = IF(LLV(LOW,90),1,0)\n",
    "    XA_7 = EMA(IF(LOW<=XA_4,(XA_3+XA_5*2)/2,0),3)/618*XA_6\n",
    "    # 机构筹码:STICKLINE(XA_7,0,XA_7,6,1),COLORRED\n",
    "    # 超大户筹码 = EMA(IF(LOW<=LLV(LOW,30),SMA(ABS(LOW-REF(LOW,1)),30,1)/SMA(MAX(LOW-REF(LOW,1),0),30,1),0),3)*10#,STICK\n",
    "    XA_8 = MA(CLOSE,5)\n",
    "    XA_9 = MA(CLOSE,10)\n",
    "    XA_10 = MA(CLOSE,30)\n",
    "    XA_11 = MA(CLOSE,60)\n",
    "    XA_12 = SUM(CLOSE*VOL*100,4)/SUM(VOL*100,4)\n",
    "    # XA_13 = INTPART(XA_12*100)/100\n",
    "    # XA_14 = SUM(CLOSE*VOL*100,7)/SUM(VOL*100,7)\n",
    "    # XA_15 = INTPART(XA_14*100)/100\n",
    "    XA_16 = SUM(CLOSE*VOL*100,28)/SUM(VOL*100,28)\n",
    "    XA_17 = (XA_16.fillna(0)*100).astype(int)/100 #INTPART(XA_16*100)/100\n",
    "    XA_18 = EMA(CLOSE,5)-EMA(CLOSE,10)\n",
    "    XA_19 = EMA(XA_18,9)\n",
    "    XA_20 = 0-100*(HHV(CLOSE,5)-CLOSE)/(HHV(CLOSE,5)-LLV(LOW,5))+100\n",
    "    XA_21 = 0-100*(HHV(CLOSE,10)-CLOSE)/(HHV(CLOSE,10)-LLV(LOW,10))+100\n",
    "    XA_22 = 0-100*(HHV(CLOSE,20)-CLOSE)/(HHV(CLOSE,20)-LLV(LOW,20))+100\n",
    "    XA_23 = 0-100*(HHV(CLOSE,30)-CLOSE)/(HHV(CLOSE,30)-LLV(LOW,30))+100\n",
    "    XA_24 = REF(XA_19,1)\n",
    "    XA_25 = XA_19\n",
    "    XA_26 = XA_25-XA_24\n",
    "    XA_27 = REF(XA_18,1)\n",
    "    XA_28 = XA_18\n",
    "    XA_29 = XA_28-XA_27\n",
    "    XA_30 = OPEN\n",
    "    XA_31 = CLOSE\n",
    "    FXSM1 = IFAND4(XA_30<=XA_8 , XA_30<=XA_9 , XA_30<=XA_10 , XA_31>=XA_8 , True, False)\n",
    "    FXSM2 = IFAND3(XA_31>=XA_17 , XA_26>0 , XA_29>0, True, False)\n",
    "#     发现私募入场 = IFAND(FXSM1, FXSM2,1,0) #,COLORGREEN,LINETHICK2\n",
    "    XG = IFAND(FXSM1, FXSM2,1,0) #,COLORGREEN,LINETHICK2\n",
    "    if refFlg:\n",
    "        return REF(XG, 1), -1, False\n",
    "    else:\n",
    "        return XG, -1, False\n",
    "    "
   ]
  },
  {
   "cell_type": "code",
   "execution_count": null,
   "metadata": {},
   "outputs": [],
   "source": [
    "tdx_JGCM(data)"
   ]
  },
  {
   "cell_type": "code",
   "execution_count": null,
   "metadata": {},
   "outputs": [],
   "source": [
    "df_po = mongo.get_table_data('day-select-test-2024-01-24')"
   ]
  },
  {
   "cell_type": "code",
   "execution_count": null,
   "metadata": {},
   "outputs": [],
   "source": [
    "tblName = 'day-select-2024-01-24'\n",
    "all_ins_data = []\n",
    "for idx, row in df_po.iterrows():\n",
    "    if row['date'] == '2024-01-23':\n",
    "        ins_data = {'_id':row['_id'], 'code': row['code'], 'date': row['date'], 'price': row['price'], 'func': row['func'][0], 'score': 1}\n",
    "        all_ins_data.append(ins_data)\n",
    "        \n",
    "        if len(all_ins_data) > 500:\n",
    "            mongo.save(tblName, all_ins_data)\n",
    "            all_ins_data = []\n",
    "            print(\"save data ....\")\n",
    "if len(all_ins_data) > 0:\n",
    "    mongo.save(tblName, all_ins_data)\n",
    "    all_ins_data = []\n",
    "    print(\"save data ....end\")\n",
    "#     break"
   ]
  },
  {
   "cell_type": "code",
   "execution_count": null,
   "metadata": {},
   "outputs": [],
   "source": [
    "int('2020-12-12'[:4])"
   ]
  },
  {
   "cell_type": "code",
   "execution_count": null,
   "metadata": {},
   "outputs": [],
   "source": [
    "all_calc_data = {'k1':1, 'k2':2}"
   ]
  },
  {
   "cell_type": "code",
   "execution_count": null,
   "metadata": {},
   "outputs": [],
   "source": [
    "'k3' not in all_calc_data"
   ]
  },
  {
   "cell_type": "code",
   "execution_count": null,
   "metadata": {},
   "outputs": [],
   "source": [
    "for x in all_calc_data:\n",
    "    print(x)"
   ]
  },
  {
   "cell_type": "code",
   "execution_count": null,
   "metadata": {},
   "outputs": [],
   "source": [
    "data.index"
   ]
  },
  {
   "cell_type": "code",
   "execution_count": null,
   "metadata": {},
   "outputs": [],
   "source": [
    "import datetime\n",
    "# out_t = datetime.datetime.strftime(data.index[0][0],'%Y-%m-%d')\n",
    "date_stamp = time.mktime(time.strptime('2024-01-25', '%Y-%m-%d'))\n",
    "date_stamp"
   ]
  },
  {
   "cell_type": "code",
   "execution_count": null,
   "metadata": {},
   "outputs": [],
   "source": [
    "# datetime.datetime.strftime(datetime.datetime.now(),'%Y-%m-%d')\n",
    "datetime.datetime.strptime('20240125','%Y%m%d')"
   ]
  },
  {
   "cell_type": "code",
   "execution_count": null,
   "metadata": {},
   "outputs": [],
   "source": [
    "allV='allV2020-12-12'\n",
    "fileName = '/root/全部Ａ股20240125.xls'\n",
    "fileName = '全部Ａ股20240125.xls'\n",
    "print(allV[:4] == 'allV', allV[4:])\n",
    "ab=fileName.split('/')[-1]\n",
    "today = datetime.datetime.strptime(fileName.split('/')[-1][4:12],'%Y%m%d')\n",
    "print(today)"
   ]
  },
  {
   "cell_type": "code",
   "execution_count": null,
   "metadata": {},
   "outputs": [],
   "source": [
    "# def tdx_swl(data):\n",
    "# {A42.耍无赖}\n",
    "H = data.high\n",
    "L = data.low\n",
    "C = data.close\n",
    "BIAS0 = (C - MA(C, 3)) / MA(C, 3) * 100\n",
    "# HXL = V / CAPITAL * 100\n",
    "D1 = INDEXC(data)\n",
    "# D1 = C\n",
    "D2 = MA(D1, 13)\n",
    "DR2 = D2 > 1.050 * D1\n",
    "# E1 = (C - HHV(C, 13)) / HHV(C, 13) * 10\n",
    "E2 = (C - REF(C, 21)) / REF(C, 21) * 10\n",
    "# E3 = MA(C, 3)\n",
    "SJ1 = DR2\n",
    "SJ2 = E2 < -2.30\n",
    "SJ3 = BIAS0 < -2.7\n",
    "#     SJ5 = IFAND3(SJ1, SJ2, SJ3, True, False)\n",
    "#     SJ6 = CROSS(0.5, SJ5)\n",
    "#     JS1 = CROSS(SJ6, 0.5)\n",
    "#     JS2 = BARSLAST(JS1==1)\n",
    "#     JS3 = IFAND(JS2 <= 5, C < REF(C, JS2), True, False)\n",
    "#     TJ = IFOR(SJ6, JS3, True, False)\n",
    "#     耍无赖XG = IFAND(TJ == 0,   REF(TJ==1, 1), 1, 0)\n",
    "if len(SJ1) == len(SJ2):\n",
    "    SJ5 = IFAND3(SJ1, SJ2, SJ3, True, False)\n",
    "    SJ6 = CROSS(0.5, SJ5)\n",
    "    JS1 = CROSS(SJ6, 0.5)\n",
    "    JS2 = BARSLAST(JS1==1)\n",
    "    JS3 = IFAND(JS2 <= 5, C < REF(C, JS2), True, False)\n",
    "    TJ = IFOR(SJ6, JS3, True, False)\n",
    "    耍无赖XG = IFAND(TJ == 0,   REF(TJ==1, 1), 1, 0)\n",
    "else:\n",
    "    DN1 = pd.DataFrame()\n",
    "    DN1['SJ1'] = SJ1\n",
    "    DN1['SJ2'] = SJ2\n",
    "    DN1['SJ3'] = SJ3\n",
    "    DN1['C'] = C\n",
    "    SJ5 = IFAND3(DN1.SJ1, DN1.SJ2, DN1.SJ3, True, False)\n",
    "    SJ6 = CROSS(0.5, SJ5)\n",
    "    JS1 = CROSS(SJ6, 0.5)\n",
    "    JS2 = BARSLAST(JS1==1)\n",
    "    JS3 = IFAND(JS2 <= 5, DN1.C < REF(DN1.C, JS2), True, False)\n",
    "    TJ = IFOR(SJ6, JS3, True, False)\n",
    "    耍无赖XG = IFAND(TJ == 0,   REF(TJ==1, 1), 1, 0)\n",
    "\n",
    "# return 耍无赖XG, -1, False\n"
   ]
  },
  {
   "cell_type": "code",
   "execution_count": null,
   "metadata": {},
   "outputs": [],
   "source": [
    "df=pd.DataFrame()"
   ]
  },
  {
   "cell_type": "code",
   "execution_count": null,
   "metadata": {},
   "outputs": [],
   "source": [
    "df.index"
   ]
  },
  {
   "cell_type": "code",
   "execution_count": null,
   "metadata": {},
   "outputs": [],
   "source": [
    "for x in df.index:\n",
    "    print(x)"
   ]
  },
  {
   "cell_type": "code",
   "execution_count": null,
   "metadata": {},
   "outputs": [],
   "source": [
    "for x in data.index:\n",
    "#     print(x)\n",
    "    tmpNext = data.loc[x:].head(3)\n",
    "    print(len(tmpNext))\n",
    "#     print(df.iloc[1])\n",
    "#     print(df.iloc[0])\n",
    "#     print(data.loc[x:].head(2))\n",
    "#     print(data.loc[x])\n",
    "    break"
   ]
  },
  {
   "cell_type": "code",
   "execution_count": null,
   "metadata": {},
   "outputs": [],
   "source": [
    "codes = ['000028','000859']#,'600604','603860','600191','601800','601186','603970','000151','601668','000985','603170','600643','300380','600097','300169','300847','600648','002732','601117','600650','000415','601162','600200','000402','601628','002401','600708']\n",
    "datas2 = mongo.get_stock_day(codes, st_start = '2021-01-01',qfq=1)\n"
   ]
  },
  {
   "cell_type": "code",
   "execution_count": null,
   "metadata": {},
   "outputs": [],
   "source": [
    "df1 = datas2.query(\" code == '%s'\" % codes[0])\n"
   ]
  },
  {
   "cell_type": "code",
   "execution_count": null,
   "metadata": {},
   "outputs": [],
   "source": [
    "result1 = tdx_sl5560(df1)[0]\n",
    "result1 = result1[result1==1]\n",
    "result1"
   ]
  },
  {
   "cell_type": "code",
   "execution_count": null,
   "metadata": {},
   "outputs": [],
   "source": [
    "i = 0\n",
    "for x in df1.index:\n",
    "#     print(x)\n",
    "    i += 1\n",
    "    if i == 5:\n",
    "#         print(x)\n",
    "        df3 = tdx_DQS(df1)[0]\n",
    "        df2 = df3.loc[x:].head(3)\n",
    "        print(df2)\n",
    "        break"
   ]
  },
  {
   "cell_type": "code",
   "execution_count": null,
   "metadata": {},
   "outputs": [],
   "source": [
    "datas2"
   ]
  },
  {
   "cell_type": "code",
   "execution_count": null,
   "metadata": {},
   "outputs": [],
   "source": [
    "a = range(12)"
   ]
  },
  {
   "cell_type": "code",
   "execution_count": null,
   "metadata": {},
   "outputs": [],
   "source": [
    "arr = [0 for i in range(100)]"
   ]
  },
  {
   "cell_type": "code",
   "execution_count": null,
   "metadata": {},
   "outputs": [],
   "source": [
    "arr"
   ]
  },
  {
   "cell_type": "code",
   "execution_count": null,
   "metadata": {},
   "outputs": [],
   "source": [
    "NS = 3\n",
    "NS = [ NS for i in range(len(Series))]\n",
    "for i in range(0,NS[0]):\n",
    "    NS[i] = i"
   ]
  },
  {
   "cell_type": "code",
   "execution_count": null,
   "metadata": {},
   "outputs": [],
   "source": [
    "len(Series)"
   ]
  },
  {
   "cell_type": "code",
   "execution_count": null,
   "metadata": {},
   "outputs": [],
   "source": [
    "pd.Series(NS).head(20)\n"
   ]
  },
  {
   "cell_type": "code",
   "execution_count": null,
   "metadata": {},
   "outputs": [],
   "source": [
    "cursor = mongo.db['day-select-ff'].aggregate(\n",
    "[\n",
    "        {\n",
    "            '$match':{\n",
    "                'date':{'$eq': '2024-02-01'}\n",
    "            }\n",
    "        },\n",
    "        {\n",
    "            '$group':{\n",
    "                '_id': \"$code\",\n",
    "                'funcs': {'$push': '$func'},\n",
    "                'sum_score': {'$sum': '$score'}\n",
    "            }\n",
    "        }\n",
    "        ,{ '$match': { 'sum_score': { '$gte': 10 } \n",
    "        }}\n",
    "        ,{ '$sort':{'um_score':-1} }\n",
    "]\n",
    ")"
   ]
  },
  {
   "cell_type": "code",
   "execution_count": null,
   "metadata": {},
   "outputs": [],
   "source": [
    "codes=[]\n",
    "for x in cursor:\n",
    "    codes.append(x['_id'])\n",
    "codes"
   ]
  },
  {
   "cell_type": "code",
   "execution_count": null,
   "metadata": {},
   "outputs": [],
   "source": [
    "list(codes)"
   ]
  },
  {
   "cell_type": "code",
   "execution_count": null,
   "metadata": {},
   "outputs": [],
   "source": [
    "lg = bs.login()"
   ]
  },
  {
   "cell_type": "code",
   "execution_count": null,
   "metadata": {},
   "outputs": [],
   "source": [
    "day_field = \"date,code,open,high,low,close,volume,amount,adjustflag,turn,pctChg,peTTM,pbMRQ,psTTM,pcfNcfTTM\"\n",
    "w_m_field = \"date,code,open,high,low,close,volume,amount,adjustflag,turn,pctChg\"\n",
    "profile_field = 'code,pubDate,statDate,roeAvg,npMargin,gpMargin,netProfit,epsTTM,MBRevenue,totalShare,liqaShare'\n",
    "WEEK = 'w'\n",
    "MONTH = 'm'\n",
    "QFQ = '2'\n",
    "HFQ = '1'\n",
    "BFQ = '3'\n",
    "\n",
    "def fetch_k_day(code=\"sh.600606\", p_begin_day: str = '2023-01-01', p_end_day: str = None):\n",
    "    # 详细指标参数，参见“历史行情指标参数”章节；“分钟线”参数与“日线”参数不同。“分钟线”不包含指数。\n",
    "    # 分钟线指标：date,time,code,open,high,low,close,volume,amount,adjustflag,turn,pctChg,\n",
    "    # 换手率\\涨跌幅（百分比）\\滚动市盈率\\市净率\\滚动市销率\\滚动市现率\\\n",
    "    # 日周月线指标：date,code,open,high,low,close,volume,amount,adjustflag,turn,pctChg,peTTM,pbMRQ,psTTM,pcfNcfTTM\n",
    "\n",
    "    # frequency：数据类型，默认为d，日k线；d = 日k线、w = 周、m = 月、5 = 5\n",
    "    # 分钟、15 = 15\n",
    "    # 分钟、30 = 30\n",
    "    # 分钟、60 = 60\n",
    "    # 分钟k线数据，不区分大小写；指数没有分钟线数据；周线每周最后一个交易日才可以获取，月线每月最后一个交易日才可以获取\n",
    "\n",
    "    # adjustflag：复权类型，默认不复权：3；1：后复权；2：前复权。已支持分钟线、日线、周线、月线前后复权\n",
    "    if p_end_day is None:\n",
    "        p_end_day = time.strftime('%Y-%m-%d')\n",
    "#     print(p_begin_day, p_end_day)\n",
    "    rs = bs.query_history_k_data_plus(code,\n",
    "                                      day_field,\n",
    "                                      start_date=p_begin_day, end_date=p_end_day,\n",
    "                                      frequency=\"d\", adjustflag=QFQ)\n",
    "    data_list = []\n",
    "#     if rs is None:\n",
    "#         return pd.DataFrame()\n",
    "    while (rs.error_code == '0') & rs.next():\n",
    "        # 获取一条记录，将记录合并在一起\n",
    "        data_list.append(rs.get_row_data())\n",
    "    result = pd.DataFrame(data_list, columns=rs.fields)\n",
    "    # 添加方式\n",
    "    # result.to_csv(p_file, index=False, mode='a+', header=True)\n",
    "    return result\n"
   ]
  },
  {
   "cell_type": "code",
   "execution_count": null,
   "metadata": {},
   "outputs": [],
   "source": [
    "p_begin_day = '2024-02-05'\n",
    "p_end_day = '2024-12-31'\n",
    "df2 = fetch_k_day('sh.688047', p_begin_day = p_begin_day, p_end_day = p_end_day)\n",
    "df2"
   ]
  },
  {
   "cell_type": "code",
   "execution_count": null,
   "metadata": {},
   "outputs": [],
   "source": [
    "result = pd.DataFrame()\n",
    "tdx_func_result, tdx_func_sell_result, next_buy = eval('tdx_DQS')(data, True)\n",
    "if len(result) == 0:\n",
    "    result = pd.DataFrame(tdx_func_result)\n",
    "#                     result.columns = ['cond']\n",
    "else:\n",
    "    if len(tdx_func_result) > 0:\n",
    "        result1 = pd.DataFrame(tdx_func_result)\n",
    "#                         result.columns = ['cond']\n",
    "    result = result.append(result1)\n",
    "# 斜率\n",
    "# except Exception as e:\n",
    "#                 tempData['cond'] = 0\n",
    "# print(\"code-result\", code, len(result), e)\n",
    "#     databuf_mongo_cond[key] = result.fillna(0)\n",
    "result = result.fillna(0)\n",
    "result.columns = ['cond']\n",
    "databuf_mongo_cond = result\n"
   ]
  },
  {
   "cell_type": "code",
   "execution_count": null,
   "metadata": {},
   "outputs": [],
   "source": [
    "databuf_mongo_cond.query(\"code == '000710'\").iloc[-1].cond == 0"
   ]
  },
  {
   "cell_type": "code",
   "execution_count": null,
   "metadata": {},
   "outputs": [],
   "source": [
    "'C1' in 'DC'"
   ]
  },
  {
   "cell_type": "code",
   "execution_count": null,
   "metadata": {},
   "outputs": [],
   "source": [
    "# code = '300394'\n",
    "code = '603960'\n",
    "# code = '600446'\n",
    "# 300394 , 300308\n",
    "# '601113','603966','605099','605255','000025','002486','002763','002971','603600'\n",
    "# /* 1 300308 2 301218 3 301205 4 601566 5 603066 6 603679 7 605186 8 605566\"\n",
    "# '300350','300393','300531','300624','300884'\n",
    "# data = mongo.get_stock_day([code], st_start = '2020-01-01',qfq=1)\n",
    "data = mongo.get_stock_day([code], st_start = '2022-01-01',qfq=1)\n",
    "# tdx_DQS(data, False)[0].tail(3)"
   ]
  },
  {
   "cell_type": "code",
   "execution_count": null,
   "metadata": {},
   "outputs": [],
   "source": [
    "#       \"tdx_tpcqpz\", \n",
    "#         \"tdx_nmddl\", \n",
    "#         \"tdx_yhzc\", \n",
    "#         \"tdx_yhzc_kdj\", \n",
    "#         \"tdx_bjmm\", \n",
    "#         \"tdx_bjmm_yhzc\", \n",
    "#         \"tdx_lyqd\", \n",
    "#         \"tdx_cmfx\", \n",
    "#         \"tdx_WYZ17MA\", \n",
    "#         \"tdx_ngqd\", \n",
    "#         \"tdx_DQS\", \n",
    "#         \"tdx_WWXGSQ\"\n",
    "tdx_DQSZQ(data)[0].tail(3)"
   ]
  },
  {
   "cell_type": "code",
   "execution_count": null,
   "metadata": {},
   "outputs": [],
   "source": [
    "\n",
    "def _tdx_DQS_F1(Series, N, pct = 1):\n",
    "    return Series > EMA(Series, N) * pct\n",
    "\n",
    "# 大趋势选股增强\n",
    "def tdx_DQSZQ(data, refFlg = False):\n",
    "    CLOSE = data.close\n",
    "    C = data.close\n",
    "#     DETA = 0.892\n",
    "    N1 = 60\n",
    "    N2 = 125\n",
    "    N3 = 250\n",
    "#     N2 = 120\n",
    "#     N3 = 240\n",
    "    TJ1_1 = IFAND3(_tdx_DQS_F1(C, N1), _tdx_DQS_F1(C, N2, pct = 1), _tdx_DQS_F1(C, N3, pct = 1), True, False)\n",
    "#     TJ1 = IFAND3(_tdx_DQS_F1(C, N1), _tdx_DQS_F1(C, N2), _tdx_DQS_F1(C, N3,), True, False)\n",
    "    TJ1 = IFAND(TJ1_1, IFOR(EMA(C, N2) >= EMA(C, N3), EMA(C, N1) >= EMA(C, N3), True, False), 1, 0)\n",
    "    if refFlg:\n",
    "        return REF(TJ1,1), -1, True\n",
    "    else:\n",
    "        return TJ1, -1, True\n",
    "\n",
    "# 大趋势选股\n",
    "def tdx_DQS(data, refFlg = False):\n",
    "    CLOSE = data.close\n",
    "    C = data.close\n",
    "#     DETA = 0.892\n",
    "    N1 = 60\n",
    "    N2 = 125\n",
    "    N3 = 250\n",
    "#     N2 = 120\n",
    "#     N3 = 240\n",
    "    TJ1 = IFAND3(_tdx_DQS_F1(C, N1), _tdx_DQS_F1(C, N2), _tdx_DQS_F1(C, N3), 1, 0)\n",
    "#     TJ1 = IFAND(TJ1_1, IFOR(EMA(C, N2) >= EMA(C, N3), MA(C,N1) >= EMA(C, N3), True, False), 1, 0)\n",
    "#     TJ11 = IFAND5( C >= MA(C,5),  C >= MA(C,10) , C >= MA(C,20),  C >= MA(C,30), C >= MA(C,60), True, False)\n",
    "    # TJ12 = IFAND3(DIF>=0 , DEA>=0,  MACD>=0, True, False)\n",
    "#     TJ1 = TJ11 #IFAND(TJ11, TJ12, True, False)\n",
    "#     TJ2 = IFAND6( C>MA(C,90), C>MA(C,120), C>MA(C,180), C>MA(C,240), C>MA(C,500), C>MA(C,360), True, False)\n",
    "#     TJ3 = IFAND3(C>MA(C,750), C>MA(C,1000), C>MA(C,1500), True, False)\n",
    "#     TJ4 = IFAND3(C>MA(C,2000), C>MA(C,3000), C>MA(C,5000), True, False)\n",
    "    #     XG:TJ1 AND TJ2 AND TJ3 AND TJ4;\n",
    "    #     XG1:TJ1 AND TJ2 AND TJ3;\n",
    "    #     XG2:TJ1 AND TJ2;\n",
    "#     C1 = C > REF(C,1)\n",
    "#     C2 = C > REF(C,2)\n",
    "#     C3 = C > REF(C,3)\n",
    "#     J = KDJ(data, N = 19)['KDJ_J'] > 50\n",
    "#     TJ5 = IFAND4(C1,C2,C3, J, True, False)\n",
    "\n",
    "#     TJ6 = IFAND4(TJ1, TJ2, MACD >= 0, TJ5, 1, 0)\n",
    "    if refFlg:\n",
    "        return REF(TJ1,1), -1, True\n",
    "    else:\n",
    "        return TJ1, -1, True\n"
   ]
  },
  {
   "cell_type": "code",
   "execution_count": null,
   "metadata": {},
   "outputs": [],
   "source": [
    "a = a[-1:]\n",
    "a"
   ]
  },
  {
   "cell_type": "code",
   "execution_count": null,
   "metadata": {},
   "outputs": [],
   "source": [
    "data394"
   ]
  },
  {
   "cell_type": "code",
   "execution_count": null,
   "metadata": {},
   "outputs": [],
   "source": [
    "data308"
   ]
  },
  {
   "cell_type": "code",
   "execution_count": null,
   "metadata": {},
   "outputs": [],
   "source": [
    "a = tdx_buerfameng(data)"
   ]
  },
  {
   "cell_type": "code",
   "execution_count": null,
   "metadata": {},
   "outputs": [],
   "source": [
    "a[a==1]"
   ]
  },
  {
   "cell_type": "code",
   "execution_count": null,
   "metadata": {},
   "outputs": [],
   "source": [
    "C = data.close\n",
    "CLOSE = data.close\n",
    "OPEN = data.open\n",
    "HIGH = data.high\n",
    "LOW = data.low\n",
    "VOL = data.volume\n",
    "# AMOUNT = data.amount\n",
    "X_1=VOL/((HIGH-LOW)*2-ABS(CLOSE-OPEN))*(CLOSE-OPEN)\n",
    "X_2=X_1/20/1.15\n",
    "X_3=X_2*0.55+REF(X_2,1)*0.33+REF(X_2,2)*0.22\n",
    "X_4=EMA(X_3,3)\n",
    "X_5=X_4*1/10000\n",
    "X_6=EMA(X_5,5)\n",
    "X_7=CROSS(X_5,X_6)\n",
    "X_8=FILTER(X_7,5)\n",
    "X_9 = REF(HIGH,BARSLAST(X_8==1))\n",
    "X_10 = REF(LOW,BARSLAST(X_8==1))\n"
   ]
  },
  {
   "cell_type": "code",
   "execution_count": null,
   "metadata": {},
   "outputs": [],
   "source": [
    "X_8[X_8==1]"
   ]
  },
  {
   "cell_type": "code",
   "execution_count": null,
   "metadata": {},
   "outputs": [],
   "source": [
    "X_7 = LOW == LLV(LOW, 5)"
   ]
  },
  {
   "cell_type": "code",
   "execution_count": null,
   "metadata": {},
   "outputs": [],
   "source": [
    "X_8=FILTER(X_7,5)\n"
   ]
  },
  {
   "cell_type": "code",
   "execution_count": null,
   "metadata": {},
   "outputs": [],
   "source": [
    "a = BARSLAST(X_8==1)"
   ]
  },
  {
   "cell_type": "code",
   "execution_count": null,
   "metadata": {},
   "outputs": [],
   "source": [
    "a[a == 1]"
   ]
  },
  {
   "cell_type": "code",
   "execution_count": null,
   "metadata": {},
   "outputs": [],
   "source": [
    "data.low.loc[a[a==1].index]"
   ]
  },
  {
   "cell_type": "code",
   "execution_count": null,
   "metadata": {},
   "outputs": [],
   "source": [
    "data.low.tail(20)"
   ]
  },
  {
   "cell_type": "code",
   "execution_count": null,
   "metadata": {},
   "outputs": [],
   "source": [
    "# low\n",
    "l_idx = []\n",
    "l_v = []\n",
    "max1 = 10\n",
    "max2 = 30\n",
    "delta = 3\n",
    "i = 0\n",
    "tempLv = 99999\n",
    "tempLi = None\n",
    "\n",
    "tempHv = 0\n",
    "\n",
    "loopL1 = -1\n",
    "loopL2 = -1\n",
    "\n",
    "lowB = False\n",
    "for idx, row in data.iterrows():\n",
    "    if lowB:\n",
    "        loopL1 += 1\n",
    "        if row.low < tempLv and loopL2 <= delta:\n",
    "#             print('calc1', loopL1, loopL2, tempLi, tempLv, idx, row.low)\n",
    "            tempLv = row.low\n",
    "            tempLi = idx\n",
    "#             loopL1 = 0\n",
    "            loopL2 = 0\n",
    "        else:\n",
    "#             loopL1 += 1 \n",
    "            loopL2 += 1\n",
    "        \n",
    "        if loopL1 >= max1 and loopL1 <= max2 and loopL2 > delta:\n",
    "            print(\"calc2\", loopL1, loopL2, tempLi, tempLv)\n",
    "            l_idx.append(tempLi) \n",
    "            l_v.append(tempLv) \n",
    "            loopL1 = -1\n",
    "            loopL1 = -1\n",
    "            lowB = False\n",
    "            tempLv = 99999\n",
    "            tempLi = None\n",
    "    if row.low < tempLv:\n",
    "        tempLv = row.low\n",
    "        tempLi = idx\n",
    "        lowB = True\n",
    "        loopL1 = 0\n",
    "        loopL2 = 0\n",
    "    \n",
    "#     if loop < max1:\n",
    "#         l_v.append(tempL)\n",
    "#         l_idx.append(idx)\n",
    "#     print(idx)\n",
    "    i += 1\n",
    "#     if i > 50:\n",
    "#         break"
   ]
  },
  {
   "cell_type": "code",
   "execution_count": null,
   "metadata": {},
   "outputs": [],
   "source": [
    "# high\n",
    "h_idx = []\n",
    "h_v = []\n",
    "max1 = 10\n",
    "max2 = 30\n",
    "delta = 3\n",
    "i = 0\n",
    "tempLv = -1\n",
    "tempLi = None\n",
    "\n",
    "tempHv = 0\n",
    "\n",
    "loopL1 = -1\n",
    "loopL2 = -1\n",
    "colName = 'high'\n",
    "lowB = False\n",
    "for idx, row in data.iterrows():\n",
    "    if lowB:\n",
    "        loopL1 += 1\n",
    "        if row[colName] > tempLv and loopL2 <= delta:\n",
    "#             print('calc1', loopL1, loopL2, tempLi, tempLv, idx, row.low)\n",
    "            tempLv = row[colName]\n",
    "            tempLi = idx\n",
    "#             loopL1 = 0\n",
    "            loopL2 = 0\n",
    "        else:\n",
    "#             loopL1 += 1 \n",
    "            loopL2 += 1\n",
    "        \n",
    "        if loopL1 >= max1 and loopL1 <= max2 and loopL2 > delta:\n",
    "            print(\"calc2\", loopL1, loopL2, tempLi, tempLv)\n",
    "            h_idx.append(tempLi) \n",
    "            h_v.append(tempLv) \n",
    "            loopL1 = -1\n",
    "            loopL1 = -1\n",
    "            lowB = False\n",
    "            tempLv = -1\n",
    "            tempLi = None\n",
    "    if row[colName] > tempLv:\n",
    "        tempLv = row[colName]\n",
    "        tempLi = idx\n",
    "        lowB = True\n",
    "        loopL1 = 0\n",
    "        loopL2 = 0\n",
    "    \n",
    "#     if loop < max1:\n",
    "#         l_v.append(tempL)\n",
    "#         l_idx.append(idx)\n",
    "#     print(idx)\n",
    "#     i += 1\n",
    "#     if i > 50:\n",
    "#         break"
   ]
  },
  {
   "cell_type": "code",
   "execution_count": null,
   "metadata": {},
   "outputs": [],
   "source": [
    "h_idx\n",
    "# h_idx"
   ]
  },
  {
   "cell_type": "code",
   "execution_count": null,
   "metadata": {},
   "outputs": [],
   "source": [
    "l_idx"
   ]
  },
  {
   "cell_type": "code",
   "execution_count": null,
   "metadata": {},
   "outputs": [],
   "source": [
    "for d in data.close:\n",
    "    print(data.close.iloc[0])\n",
    "    break\n"
   ]
  },
  {
   "cell_type": "code",
   "execution_count": null,
   "metadata": {},
   "outputs": [],
   "source": [
    "data.close"
   ]
  },
  {
   "cell_type": "code",
   "execution_count": null,
   "metadata": {},
   "outputs": [],
   "source": [
    "data.low.loc[l_idx[-3]:]"
   ]
  },
  {
   "cell_type": "code",
   "execution_count": null,
   "metadata": {},
   "outputs": [],
   "source": [
    "l_idx[-5]"
   ]
  },
  {
   "cell_type": "code",
   "execution_count": null,
   "metadata": {},
   "outputs": [],
   "source": [
    "aaa[:-1]"
   ]
  },
  {
   "cell_type": "code",
   "execution_count": null,
   "metadata": {},
   "outputs": [],
   "source": [
    "data394.loc[l_idx[-10:]]"
   ]
  },
  {
   "cell_type": "code",
   "execution_count": null,
   "metadata": {},
   "outputs": [],
   "source": [
    "l_v[-10:]"
   ]
  },
  {
   "cell_type": "code",
   "execution_count": null,
   "metadata": {},
   "outputs": [],
   "source": [
    "data.loc[l_idx[-4]:]"
   ]
  },
  {
   "cell_type": "code",
   "execution_count": null,
   "metadata": {},
   "outputs": [],
   "source": [
    "l_idx[-4:]"
   ]
  },
  {
   "cell_type": "code",
   "execution_count": null,
   "metadata": {},
   "outputs": [],
   "source": [
    "l_v[-5:-2]"
   ]
  },
  {
   "cell_type": "code",
   "execution_count": null,
   "metadata": {},
   "outputs": [],
   "source": [
    "l_v"
   ]
  },
  {
   "cell_type": "code",
   "execution_count": null,
   "metadata": {},
   "outputs": [],
   "source": [
    "np.stdev(l_v)"
   ]
  },
  {
   "cell_type": "code",
   "execution_count": null,
   "metadata": {},
   "outputs": [],
   "source": [
    "l_s = l_v[-3:]"
   ]
  },
  {
   "cell_type": "code",
   "execution_count": null,
   "metadata": {},
   "outputs": [],
   "source": [
    "sum(l_s) / 3"
   ]
  },
  {
   "cell_type": "code",
   "execution_count": null,
   "metadata": {},
   "outputs": [],
   "source": [
    "( l_s - sum(l_s) / 3 ) / sum(l_s) / 3"
   ]
  },
  {
   "cell_type": "code",
   "execution_count": null,
   "metadata": {},
   "outputs": [],
   "source": [
    "l_idx[-3:][0][0]"
   ]
  },
  {
   "cell_type": "code",
   "execution_count": null,
   "metadata": {},
   "outputs": [],
   "source": [
    "import scipy.stats as stats\n"
   ]
  },
  {
   "cell_type": "code",
   "execution_count": null,
   "metadata": {},
   "outputs": [],
   "source": [
    "stats.shapiro(l_s)"
   ]
  },
  {
   "cell_type": "code",
   "execution_count": null,
   "metadata": {},
   "outputs": [],
   "source": [
    "l_v"
   ]
  },
  {
   "cell_type": "code",
   "execution_count": null,
   "metadata": {},
   "outputs": [],
   "source": [
    "df = pd.DataFrame()"
   ]
  },
  {
   "cell_type": "code",
   "execution_count": null,
   "metadata": {},
   "outputs": [],
   "source": [
    "df = pd.DataFrame(data = l_v, index = l_idx, columns = ['low'])"
   ]
  },
  {
   "cell_type": "code",
   "execution_count": null,
   "metadata": {},
   "outputs": [],
   "source": [
    "df"
   ]
  },
  {
   "cell_type": "code",
   "execution_count": null,
   "metadata": {},
   "outputs": [],
   "source": [
    "df2 = pd.DataFrame(data = h_v, index = h_idx, columns = ['high'])"
   ]
  },
  {
   "cell_type": "code",
   "execution_count": null,
   "metadata": {},
   "outputs": [],
   "source": [
    "df2.append(df).sort_index()"
   ]
  },
  {
   "cell_type": "code",
   "execution_count": null,
   "metadata": {},
   "outputs": [],
   "source": [
    "data"
   ]
  },
  {
   "cell_type": "code",
   "execution_count": null,
   "metadata": {},
   "outputs": [],
   "source": [
    "O = data.open\n",
    "C = data.close\n",
    "H = data.high\n",
    "L = data.low"
   ]
  },
  {
   "cell_type": "code",
   "execution_count": null,
   "metadata": {},
   "outputs": [],
   "source": [
    "WINNER(data, H).tail(20) - WINNER(data, C).tail(20)"
   ]
  },
  {
   "cell_type": "code",
   "execution_count": null,
   "metadata": {},
   "outputs": [],
   "source": [
    "WINNER(data, L).tail(20)"
   ]
  },
  {
   "cell_type": "code",
   "execution_count": null,
   "metadata": {},
   "outputs": [],
   "source": [
    "def tdx_TLBXXF(data):\n",
    "    #天冷不下雪\n",
    "    CLOSE = data.close\n",
    "    V1=COUNT(REF(EMA(CLOSE,3),1)<REF(EMA(CLOSE,3),2),5)==5\n",
    "    V2=EMA(CLOSE,3)>REF(EMA(CLOSE,3),1)\n",
    "    V3=IFAND(V1,V2,True,False)\n",
    "    V4=V3[V3==True].index\n",
    "    if len(V4) <= 1:\n",
    "        data['A'] = False\n",
    "        #XG=IFAND3(data['A'], CLOSE[V4[-1]] < CLOSE[V4[-1]], CLOSE.index[-1] == V4[-1], True, False)\n",
    "        XG=data['A']\n",
    "    else:\n",
    "        V5=(V4[-1][0] - V4[-2][0]).days\n",
    "        data['A']=V5<15\n",
    "        XG=IFAND3(data['A'], CLOSE[V4[-1]] < CLOSE[V4[-2]], CLOSE.index[-1] == V4[-1], True, False)\n",
    "    return XG, -1, False\n"
   ]
  },
  {
   "cell_type": "code",
   "execution_count": null,
   "metadata": {},
   "outputs": [],
   "source": [
    "tdx_TLBXXF(data)[0].tail(15)"
   ]
  },
  {
   "cell_type": "code",
   "execution_count": null,
   "metadata": {},
   "outputs": [],
   "source": [
    "CLOSE = data.close\n",
    "V1=COUNT(REF(EMA(CLOSE,3),1)<REF(EMA(CLOSE,3),2),5)==5\n",
    "V2=EMA(CLOSE,3)>REF(EMA(CLOSE,3),1)\n",
    "V3=IFAND(V1,V2,True,False)\n",
    "V4=V3[V3==True].index\n",
    "if len(V4) <= 1:\n",
    "    data['A'] = False\n",
    "    #XG=IFAND3(data['A'], CLOSE[V4[-1]] < CLOSE[V4[-1]], CLOSE.index == V4[-1], True, False)\n",
    "    XG=data['A']\n",
    "else:\n",
    "    V5=(V4[-1][0] - V4[-2][0]).days\n",
    "    data['A']=V5<15\n",
    "    XG = IFAND3(data['A'], CLOSE[V4[-1]] < CLOSE[V4[-2]], CLOSE.index[-1] == V4[-1], True, False)\n",
    "# return XG, -1, False\n"
   ]
  },
  {
   "cell_type": "code",
   "execution_count": null,
   "metadata": {},
   "outputs": [],
   "source": [
    "V4"
   ]
  },
  {
   "cell_type": "code",
   "execution_count": null,
   "metadata": {},
   "outputs": [],
   "source": [
    "CLOSE[V4[-1]] < CLOSE[V4[-2]]"
   ]
  },
  {
   "cell_type": "code",
   "execution_count": null,
   "metadata": {},
   "outputs": [],
   "source": [
    "CLOSE"
   ]
  },
  {
   "cell_type": "code",
   "execution_count": null,
   "metadata": {},
   "outputs": [],
   "source": [
    "V4[-1]"
   ]
  },
  {
   "cell_type": "code",
   "execution_count": null,
   "metadata": {},
   "outputs": [],
   "source": [
    "IFAND3(data['A'], CLOSE[V4[-1]] < CLOSE[V4[-2]], CLOSE.index[-1] == V4[-1], True, False)"
   ]
  },
  {
   "cell_type": "code",
   "execution_count": null,
   "metadata": {},
   "outputs": [],
   "source": [
    "CLOSE.index[-1] == V4[-1]"
   ]
  },
  {
   "cell_type": "code",
   "execution_count": null,
   "metadata": {},
   "outputs": [],
   "source": [
    "# {博奕K线下雪F2}\n",
    "CLOSE = data.close\n",
    "OPEN = data.open\n",
    "C = data.close\n",
    "H = data.high\n",
    "O = data.open\n",
    "L = data.low\n",
    "\n",
    "换手=data.turn * 100\n",
    "开=WINNER(data, O)*100\n",
    "高=WINNER(data, H)*100\n",
    "低=WINNER(data, L)*100\n",
    "收=WINNER(data, C)*100\n",
    "博弈长阳=收-开>18\n",
    "无量长阳=IFAND(收-开>15, 换手 <3, True, False)\n",
    "博弈K=IFOR(无量长阳, 博弈长阳, True, False)\n",
    "XG1=IFAND3(换手>=1, 换手<=6, 博弈K, True, False)\n",
    "\n",
    "# {\n",
    "# E3=EMA(WINNER(AMOUNT/VOL/100)*100,3),LINETHICK1\n",
    "# E8=EMA(WINNER(AMOUNT/VOL/100)*100,8),LINETHICK1\n",
    "# E13=EMA(WINNER(AMOUNT/VOL/100)*100, 13),LINETHICK1\n",
    "# E21=EMA(WINNER(AMOUNT/VOL/100)*100, 21),LINETHICK1\n",
    "# E34=EMA(WINNER(AMOUNT/VOL/100)*100,34),LINETHICK1\n",
    "# E55=EMA(WINNER(AMOUNT/VOL/100)*100, 55),LINETHICK1\n",
    "# }\n",
    "# E89=EMA(WINNER(AMOUNT/VOL/100)*100,89),LINETHICK2;{不嫌看起来乱的，把这行的等号去掉，打开此线的输出};\n",
    "# E144=EMA(WINNER(AMOUNT/VOL/100)*100,144),LINETHICK1;{不嫌看起来乱的，把这行的等号去掉，打开此线的输出};\n",
    "# E233=EMA(WINNER(AMOUNT/VOL/100)*100,233),LINETHICK1;{不嫌看起来乱的，把这行的等号去掉，打开此线的输出};\n",
    "\n",
    "V1=COUNT(REF(EMA(CLOSE,3),1)<REF(EMA(CLOSE,3),2),5)==5\n",
    "V2=EMA(CLOSE,3)>REF(EMA(CLOSE,3),1)\n",
    "XG2=IFAND(V1,V2,True,False)\n",
    "# XG2=COUNT(REF(EMA(CLOSE,3),1)<REF(EMA(CLOSE,3),2),5)=5 AND EMA(CLOSE,3)>REF(EMA(CLOSE,3),1);\n",
    "\n",
    "XG= IFAND(IFOR(XG1, REF(XG1,1), True, False), IFOR(XG2, REF(XG2,1), True, False), 1, 0)\n"
   ]
  },
  {
   "cell_type": "code",
   "execution_count": null,
   "metadata": {},
   "outputs": [],
   "source": [
    "data.tail(1)"
   ]
  },
  {
   "cell_type": "code",
   "execution_count": null,
   "metadata": {},
   "outputs": [],
   "source": [
    "def check_now_positino(codeA, dataA, loss = True):\n",
    "    for code in codeA:\n",
    "        data = dataA.query(\" code == '%s'\" % code)\n",
    "        if len(data) == 0:\n",
    "            continue\n",
    "        syl = data.pcfNcfTTM\n",
    "#         if syl.iloc[-2] < 0 and loss == False:\n",
    "#             continue\n",
    "        data = pytdx_last_data(data)\n",
    "        vma5 = REF(MA(data.volume, 5),1)\n",
    "        vma10 = REF(MA(data.volume, 10),1)\n",
    "        close = data.close.iloc[-1]\n",
    "        lastPct = (data.close.iloc[-2] - data.close.iloc[-3]) /data.close.iloc[-3] * 100\n",
    "        nowPct = (close - data.close.iloc[-2]) /data.close.iloc[-2] * 100\n",
    "        volPct = (data.volume.iloc[-1]) /data.volume.iloc[-2]\n",
    "        vol5Pct = (data.volume.iloc[-1]) /vma5.iloc[-2]\n",
    "        vol10Pct = (data.volume.iloc[-1]) /vma10.iloc[-2]\n",
    "        nopen = data.open.iloc[-1]\n",
    "        high = data.high.iloc[-1]\n",
    "        low = data.low.iloc[-1]\n",
    "#         qeA = tdx_dqe_xqc_A1(data)\n",
    "#         print(code, nowPct)\n",
    "        print(\"{}-nowP:{:+.2f}, lastP:{:+.2f}, now:{:.2f}, open:{:.2f}, high:{:.2f}, low:{:.2f}, volP:{:+.2f}, volP5:{:+.2f}, volP10:{:+.2f}\".format(code, nowPct, lastPct, close, nopen, high, low, volPct, vol5Pct,  vol10Pct))\n",
    "#         print(\"%s-nowP:%6.2f, lastP:%6.2f, volP:%6.2, now:%6.2, high:%6.2, low:%6.2\" % (code, nowPct, lastPct, volPct, close, high, low))\n"
   ]
  },
  {
   "cell_type": "code",
   "execution_count": null,
   "metadata": {},
   "outputs": [],
   "source": [
    "def check_now_positino2(codeA, dataA, loss = True):\n",
    "    df =pd.DataFrame()\n",
    "    for code in codeA:\n",
    "        data = dataA.query(\" code == '%s'\" % code)\n",
    "        if len(data) == 0:\n",
    "            continue\n",
    "        syl = data.pcfNcfTTM\n",
    "        if syl.iloc[-2] < 0 and loss == False:\n",
    "            continue\n",
    "        data = pytdx_last_data(data)\n",
    "        vma5 = REF(MA(data.volume, 5),1)\n",
    "        vma10 = REF(MA(data.volume, 10),1)\n",
    "        close = data.close.iloc[-1]\n",
    "        lastPct = (data.close.iloc[-2] - data.close.iloc[-3]) /data.close.iloc[-3] * 100\n",
    "        nowPct = (close - data.close.iloc[-2]) /data.close.iloc[-2] * 100\n",
    "        volPct = (data.volume.iloc[-1]) /data.volume.iloc[-2]\n",
    "        vol5Pct = (data.volume.iloc[-1]) /vma5.iloc[-2]\n",
    "        vol10Pct = (data.volume.iloc[-1]) /vma10.iloc[-2]\n",
    "        nopen = data.open.iloc[-1]\n",
    "        high = data.high.iloc[-1]\n",
    "        low = data.low.iloc[-1]\n",
    "        \n",
    "#         df=df.append(list({'code':code, nowPct, lastPct, volPct, close, high, low}))\n",
    "#         df=df.append({'code':code, 'nowPct':nowPct}, ignore_index=True) # lastPct, volPct, close, high, low}))\n",
    "        ins_data = {'code':code, 'nowP':nowPct, 'lastP':lastPct, 'now':close, 'open':nopen, 'high':high, 'low':low}\n",
    "        ins_data['volPct'] = volPct\n",
    "        ins_data['vol5Pct'] = vol5Pct\n",
    "        ins_data['vol10Pct'] = vol10Pct\n",
    "        df=df.append(ins_data, ignore_index=True)\n",
    "#         df=df.append({code, nowPct, lastPct, close, nopen, high, low, volPct, vol5Pct,  vol10Pct}, ignore_index=True)\n",
    "#         print(code, nowPct)\n",
    "#         print(\"{}-nowP:{:+.2f}, lastP:{:+.2f}, now:{:.2f}, open:{:.2f}, high:{:.2f}, low:{:.2f}, volP:{:+.2f}, volP5:{:+.2f}, volP10:{:+.2f}\".format(code, nowPct, lastPct, close, nopen, high, low, volPct, vol5Pct,  vol10Pct))\n",
    "#         print(\"%s-nowP:%6.2f, lastP:%6.2f, volP:%6.2, now:%6.2, high:%6.2, low:%6.2\" % (code, nowPct, lastPct, volPct, close, high, low))\n",
    "#     print(df)"
   ]
  },
  {
   "cell_type": "code",
   "execution_count": null,
   "metadata": {},
   "outputs": [],
   "source": [
    "check_now_positino(codes1, datas)\n",
    "\n"
   ]
  },
  {
   "cell_type": "code",
   "execution_count": null,
   "metadata": {},
   "outputs": [],
   "source": [
    "# def tdx_nmddl(data):\n",
    "H = data.high\n",
    "L = data.low\n",
    "C = data.close\n",
    "VAR1=(HHV(H,13)-LLV(L,13))\n",
    "VAR2=(HHV(H,13)-C)\n",
    "VAR3=(C-LLV(L,13))\n",
    "VAR4=VAR2/VAR1*100-70\n",
    "VAR5=(C-LLV(L,55))/(HHV(H,55)-LLV(L,55))*100\n",
    "VAR6=(2*C+H+L)/4\n",
    "VAR7=SMA((VAR3/VAR1*100),3,1)\n",
    "VAR8=LLV(L,34)\n",
    "VAR9=SMA(VAR7,3,1)-SMA(VAR4,9,1)\n",
    "VAR10=IF(VAR9>100,VAR9-100,0)\n",
    "VARA=HHV(H,34)\n",
    "诺曼底防线=EMA((VAR6-VAR8)/(VARA-VAR8)*100,8)\n",
    "BB=EMA(诺曼底防线,5)\n",
    "# Q:BB < 20 AND REF(诺曼底防线-BB<0,5) AND REF(诺曼底防线-BB<0,4) AND REF(诺曼底防线-BB<0,3) AND REF(诺曼底防线-BB<0,2) AND REF(诺曼底防线-BB<0,1) {AND 诺曼底防线<30} AND CROSS(诺曼底防线>BB,0.5),LINETHICK0;\n",
    "建仓=IF(诺曼底防线-BB>0,1,0)\n",
    "# 离场:STICKLINE(诺曼底防线-BB<0,诺曼底防线,BB,3,0),COLORGREEN;\n",
    "# 乐滋滋炒股:STICKLINE(诺曼底防线>0 AND 诺曼底防线-BB>=0,2,8,2,0),COLORFF00FF;\n",
    "# 休息:STICKLINE(诺曼底防线>0 AND 诺曼底防线-BB<0,2,8,2,0),COLORFFFF00;\n",
    "# 警:88,LINETHICK3,COLORRED;\n",
    "# 戒:20,LINETHICK3,COLORGREEN;\n",
    "# W:0,LINETHICK2,COLORBLUE;\n",
    "# 抄吧:STICKLINE(Q,诺曼底防线,Q,3,0),COLOR0066BB;\n",
    "# STICKLINE(Q,诺曼底防线,Q,2,0),COLOR0099CC;\n",
    "# STICKLINE(Q,诺曼底防线,Q,1,0),COLOR00CCEE;\n",
    "# STICKLINE(Q,诺曼底防线,Q,0.1,0),COLOR00FFFF;\n",
    "# DRAWTEXT(Q,诺曼底防线,'建'),COLOR0000FF;\n",
    "# return 建仓, -1, False\n"
   ]
  },
  {
   "cell_type": "code",
   "execution_count": null,
   "metadata": {},
   "outputs": [],
   "source": [
    "VAR10"
   ]
  },
  {
   "cell_type": "code",
   "execution_count": null,
   "metadata": {},
   "outputs": [],
   "source": [
    "诺曼底防线-BB"
   ]
  },
  {
   "cell_type": "code",
   "execution_count": null,
   "metadata": {},
   "outputs": [],
   "source": [
    "def tdx_nmddl(data):\n",
    "    H = data.high\n",
    "    L = data.low\n",
    "    C = data.close\n",
    "    VAR1=(HHV(H,13)-LLV(L,13))\n",
    "    VAR2=(HHV(H,13)-C)\n",
    "    VAR3=(C-LLV(L,13))\n",
    "    VAR4=VAR2/VAR1*100-70\n",
    "    VAR5=(C-LLV(L,55))/(HHV(H,55)-LLV(L,55))*100\n",
    "    VAR6=(2*C+H+L)/4\n",
    "    VAR7=SMA((VAR3/VAR1*100),3,1)\n",
    "    VAR8=LLV(L,34)\n",
    "    VAR9=SMA(VAR7,3,1)-SMA(VAR4,9,1)\n",
    "#     VAR10=IF(VAR9>100,VAR9-100,0)\n",
    "    VARA=HHV(H,34)\n",
    "    诺曼底防线=EMA((VAR6-VAR8)/(VARA-VAR8)*100,8)\n",
    "    BB=EMA(诺曼底防线,5)\n",
    "    # Q:BB < 20 AND REF(诺曼底防线-BB<0,5) AND REF(诺曼底防线-BB<0,4) AND REF(诺曼底防线-BB<0,3) AND REF(诺曼底防线-BB<0,2) AND REF(诺曼底防线-BB<0,1) {AND 诺曼底防线<30} AND CROSS(诺曼底防线>BB,0.5),LINETHICK0;\n",
    "    建仓=IF(诺曼底防线-BB>0,1,0)\n",
    "    # 离场:STICKLINE(诺曼底防线-BB<0,诺曼底防线,BB,3,0),COLORGREEN;\n",
    "    # 乐滋滋炒股:STICKLINE(诺曼底防线>0 AND 诺曼底防线-BB>=0,2,8,2,0),COLORFF00FF;\n",
    "    # 休息:STICKLINE(诺曼底防线>0 AND 诺曼底防线-BB<0,2,8,2,0),COLORFFFF00;\n",
    "    # 警:88,LINETHICK3,COLORRED;\n",
    "    # 戒:20,LINETHICK3,COLORGREEN;\n",
    "    # W:0,LINETHICK2,COLORBLUE;\n",
    "    # 抄吧:STICKLINE(Q,诺曼底防线,Q,3,0),COLOR0066BB;\n",
    "    # STICKLINE(Q,诺曼底防线,Q,2,0),COLOR0099CC;\n",
    "    # STICKLINE(Q,诺曼底防线,Q,1,0),COLOR00CCEE;\n",
    "    # STICKLINE(Q,诺曼底防线,Q,0.1,0),COLOR00FFFF;\n",
    "    # DRAWTEXT(Q,诺曼底防线,'建'),COLOR0000FF;\n",
    "    return 建仓, -1, False\n"
   ]
  },
  {
   "cell_type": "code",
   "execution_count": null,
   "metadata": {},
   "outputs": [],
   "source": [
    "def tdx_WWYHXG(data, refFlg = False):\n",
    "    CLOSE = data.close\n",
    "    # LOW = data.low\n",
    "    HIGH = data.high\n",
    "    # C = data.close\n",
    "    M1=3\n",
    "    M2=6\n",
    "    M3=12\n",
    "    M4=24\n",
    "    BBI=(MA(CLOSE,M1)+MA(CLOSE,M2)+MA(CLOSE,M3)+MA(CLOSE,M4))/4\n",
    "    MA60=MA(CLOSE,60)\n",
    "    PXJC= IFAND(BBI > MA60, ABS(REF(BBI,1) - REF(MA60,1)) < 0.005, True, False)\n",
    "    XG1 = PXJC\n",
    "    XG2 = CROSS(BBI,MA60)\n",
    "    XG = IFOR(XG1, XG2, 1, 0)\n",
    "    if refFlg:\n",
    "        return REF(XG, 1), -1, False\n",
    "    else:\n",
    "        return XG, -1, False\n"
   ]
  },
  {
   "cell_type": "code",
   "execution_count": null,
   "metadata": {},
   "outputs": [],
   "source": [
    "BBI"
   ]
  },
  {
   "cell_type": "code",
   "execution_count": null,
   "metadata": {},
   "outputs": [],
   "source": [
    "VAR6"
   ]
  },
  {
   "cell_type": "code",
   "execution_count": null,
   "metadata": {},
   "outputs": [],
   "source": [
    "VAR8 - BBI"
   ]
  },
  {
   "cell_type": "code",
   "execution_count": null,
   "metadata": {},
   "outputs": [],
   "source": [
    "CLOSE = data.close\n",
    "# LOW = data.low\n",
    "HIGH = data.high\n",
    "# C = data.close\n",
    "M1=3\n",
    "M2=6\n",
    "M3=12\n",
    "M4=24\n",
    "BBI=(MA(CLOSE,M1)+MA(CLOSE,M2)+MA(CLOSE,M3)+MA(CLOSE,M4))/4\n",
    "MA60=MA(CLOSE,60)\n",
    "PXJC= IFAND(BBI > MA60, ABS(REF(BBI,1) - REF(MA60,1)) < 0.005, True, False)\n",
    "XG1 = PXJC\n",
    "XG2 = CROSS(BBI,MA60)\n",
    "XG = IFOR(XG1, XG2, 1, 0)\n",
    "XG3 = CROSS(MA60,BBI)\n"
   ]
  },
  {
   "cell_type": "code",
   "execution_count": null,
   "metadata": {},
   "outputs": [],
   "source": [
    "诺曼底防线1-BB1 > 0"
   ]
  },
  {
   "cell_type": "code",
   "execution_count": null,
   "metadata": {},
   "outputs": [],
   "source": [
    "建仓[建仓==1].tail(20)"
   ]
  },
  {
   "cell_type": "code",
   "execution_count": null,
   "metadata": {},
   "outputs": [],
   "source": [
    "建仓1[建仓1==1].tail(20)"
   ]
  },
  {
   "cell_type": "code",
   "execution_count": null,
   "metadata": {},
   "outputs": [],
   "source": [
    "XG3[XG3==1]"
   ]
  },
  {
   "cell_type": "code",
   "execution_count": null,
   "metadata": {},
   "outputs": [],
   "source": [
    "def h_l_line(p_df, t=21,period=1000,fn=None):\n",
    "    \"\"\"\n",
    "    根据给定的周期找出最高最低点的日期和数据，然后计算对应的斐波纳契数据\n",
    "    :param fn: 高低线输出到文件,如果文件参数为None则不输出到文件\n",
    "    :param p_df:股票交易数据\n",
    "    :param t:数据周期\n",
    "    :param period:数据长度\n",
    "    :return:有效数据点，包括股票代码，日期，高低点周期交易天数、高低点周期自然天数\n",
    "    \"\"\"\n",
    "    if p_df is None or len(p_df)<t:\n",
    "        return None\n",
    "    # 获取最新的period条数据\n",
    "    # df1 = p_df.tail(period).reset_index(drop=True)\n",
    "    df1 = p_df[['close','high','low','date','code']].copy()\n",
    "    df1['cv'] = 0 #添加一列为后续保留值准备\n",
    "    high = df1['high']\n",
    "    low = df1['low']\n",
    "\n",
    "    # 保留数据的df\n",
    "    data = pd.DataFrame([])\n",
    "    #获取首行为有效的数据点,加入到保留数据框中\n",
    "    df1.loc[0,'cv'] = df1.iloc[0].high #最高价作为当前价\n",
    "    first = df1.iloc[0:1]\n",
    "    data = data.append(first)\n",
    "\n",
    "    #取第一个日期的最高值作为当前值,开始为0，默认为上涨周期\n",
    "    ci=0\n",
    "    cv=df1.iloc[ci].high\n",
    "    cup=True\n",
    "\n",
    "    #循环处理每一个周期\n",
    "    n=0\n",
    "    lt = t\n",
    "    while ci<df1.index.max():\n",
    "        n=n+1\n",
    "        # 取含当前日期的一个周期的最高和最低价以及索引值,如果出现下一个周期中当前点成为了这个周期的最高和最低点即当前点未变化则\n",
    "        # 在前周期长度上扩展1个周期,一旦出现拐点则恢复周期。\n",
    "        # 周期超高了数据长度则结束，当前点加入到数据有效点中。\n",
    "        # 为什么不是从下一个点找周期，因为下一个点开始的周期则一定存在一个高低点，而这个高低点和当前点的高点或低点比较后一定会\n",
    "        # 出现一个拐点，有时候不一定有拐点存在,所以要包含当前点\n",
    "        ih = high[ci:ci+lt].idxmax()\n",
    "        il = low[ci:ci+lt].idxmin()\n",
    "        ihv = df1.iloc[ih].high\n",
    "        ilv = df1.iloc[il].low\n",
    "        if (ih==ci) & (il==ci):\n",
    "            #数据结束了吗?如果结束了则直接添加当前数据到数据点和最后一个数据到数据点\n",
    "            if (ci+lt)>df1.index.max():\n",
    "                # 数据结束了,最后一个数据是否要添加到数据点中，由循环结束时处理\n",
    "                break\n",
    "            else:\n",
    "                # 三点重叠但数据为结束 , 周期延长重新计算\n",
    "                lt = lt + t\n",
    "                continue\n",
    "        if cup:\n",
    "            # 上涨阶段\n",
    "            if (ihv >= cv) & (ci != ih):\n",
    "                # 如果上升周期中最高价有更新则仍然上涨持续，上涨价格有效，下跌的价格为噪声\n",
    "                ci = ih\n",
    "                cv = ihv\n",
    "                cup = True\n",
    "            else:\n",
    "                # 未持续上涨，则下跌价格有效，出现了转折，此时上一个价格成为转折点价格,恢复计算周期\n",
    "                df1.loc[ci,'cv'] = cv\n",
    "                data = data.append(df1.iloc[ci:ci + 1])\n",
    "                ci = il\n",
    "                cv = ilv\n",
    "                cup = False\n",
    "                lt = t\n",
    "        else:\n",
    "            # 下跌阶段\n",
    "            if (ilv<=cv) & (ci != il):\n",
    "                # 下跌阶段持续创新低，则下跌价格有效，上涨价格为噪声\n",
    "                ci = il\n",
    "                cv = ilv\n",
    "                cup = False\n",
    "            else:\n",
    "                # 未持续下跌，此时转为上涨，上涨价格有效，此时上一个价格成为转折点价格,恢复计算周期\n",
    "                df1.loc[ci, 'cv'] = cv\n",
    "                data = data.append(df1.iloc[ci:ci + 1])\n",
    "                ci = ih\n",
    "                cv = ihv\n",
    "                cup = True\n",
    "                lt = t\n",
    "\n",
    "        # print(df1.iloc[ci:ci+1])\n",
    "        # print(n,ci,cv,cup,ih,il)\n",
    "\n",
    "        # if last+t>=df1.index.max():\n",
    "        #     # 最后计算恰好为最后一个周期，则直接加入最后一个周期进入数据有效点，并且结束循环\n",
    "        #     last = df1.index.max()\n",
    "        #     df1.loc[last, 'cv'] = df1.iloc[last].close\n",
    "        #     data = data.append(df1.iloc[last:last + 1])\n",
    "        #     break\n",
    "    #结束了，把当前点加入到数据有效点中\n",
    "    df1.loc[ci, 'cv'] = cv\n",
    "    data = data.append(df1.iloc[ci:ci + 1])\n",
    "    if ci != df1.index.max():\n",
    "        # 当前点不是最后一个点，则把最后一个点加入到数据点中\n",
    "        df1.loc[df1.index.max(), 'cv'] = df1.iloc[df1.index.max()].close\n",
    "        data = data.append(df1.tail(1))\n",
    "\n",
    "    data = data.reset_index(drop=False)\n",
    "    # 计算高低点转换的交易日数量即时间周期\n",
    "    data['period'] = (data['index'] - data['index'].shift(1)).fillna(0)\n",
    "    # 计算日期的差值,将字符串更改为日期\n",
    "    trade_date = pd.to_datetime(data['date'],format='%Y-%m-%d')\n",
    "    days = trade_date - trade_date.shift(1)\n",
    "    # 填充后转换为实际的天数数字\n",
    "    days = (days.fillna(pd.Timedelta(0))).apply(lambda x:x.days)\n",
    "    data['days'] = days\n",
    "    # 对日期进行转换\n",
    "    data['date']=trade_date.apply(lambda x:x.strftime('%Y-%m-%d'))\n",
    "    return data\n"
   ]
  },
  {
   "cell_type": "code",
   "execution_count": null,
   "metadata": {},
   "outputs": [],
   "source": [
    "df2 =  data.reset_index()"
   ]
  },
  {
   "cell_type": "code",
   "execution_count": null,
   "metadata": {},
   "outputs": [],
   "source": [
    "df2 =  data.reset_index()\n",
    "h_l_line(df2, t=15)"
   ]
  },
  {
   "cell_type": "code",
   "execution_count": null,
   "metadata": {},
   "outputs": [],
   "source": [
    "df2[['close','high','low','date','code']].copy()\n"
   ]
  },
  {
   "cell_type": "code",
   "execution_count": null,
   "metadata": {},
   "outputs": [],
   "source": [
    "df2.tail(10)"
   ]
  },
  {
   "cell_type": "code",
   "execution_count": null,
   "metadata": {},
   "outputs": [],
   "source": [
    "high = df2['high']"
   ]
  },
  {
   "cell_type": "code",
   "execution_count": null,
   "metadata": {},
   "outputs": [],
   "source": [
    "high[1:30].idxmin()"
   ]
  },
  {
   "cell_type": "code",
   "execution_count": null,
   "metadata": {},
   "outputs": [],
   "source": [
    "data.idxmax()"
   ]
  },
  {
   "cell_type": "code",
   "execution_count": null,
   "metadata": {},
   "outputs": [],
   "source": [
    "tdx_dqe_xqc_A1(data)[0].iloc[-1]"
   ]
  },
  {
   "cell_type": "code",
   "execution_count": null,
   "metadata": {},
   "outputs": [],
   "source": []
  }
 ],
 "metadata": {
  "kernelspec": {
   "display_name": "Python 3",
   "language": "python",
   "name": "python3"
  },
  "language_info": {
   "codemirror_mode": {
    "name": "ipython",
    "version": 3
   },
   "file_extension": ".py",
   "mimetype": "text/x-python",
   "name": "python",
   "nbconvert_exporter": "python",
   "pygments_lexer": "ipython3",
   "version": "3.8.5"
  }
 },
 "nbformat": 4,
 "nbformat_minor": 4
}
