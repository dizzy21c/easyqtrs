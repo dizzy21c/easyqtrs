{
 "cells": [
  {
   "cell_type": "code",
   "execution_count": null,
   "metadata": {},
   "outputs": [],
   "source": [
    "import os.path\n",
    "import sys\n",
    "import time\n",
    "from datetime import datetime, timedelta\n",
    "import pandas as pd\n",
    "from func.tdx_func import *\n",
    "from func.func_sys import *\n",
    "from easyquant  import MongoIo"
   ]
  },
  {
   "cell_type": "code",
   "execution_count": null,
   "metadata": {},
   "outputs": [],
   "source": [
    "mongo_mpd = MongoIo()"
   ]
  },
  {
   "cell_type": "code",
   "execution_count": null,
   "metadata": {},
   "outputs": [],
   "source": [
    "codeDf = pd.read_csv('/root/全部Ａ股20240125.xls', sep='\\t')##, encoding='iso-8859-1')"
   ]
  },
  {
   "cell_type": "code",
   "execution_count": null,
   "metadata": {},
   "outputs": [],
   "source": [
    "codeDf.head(5)"
   ]
  },
  {
   "cell_type": "code",
   "execution_count": null,
   "metadata": {},
   "outputs": [],
   "source": [
    "float(codeDf.iloc[4]['市盈(动)'])"
   ]
  },
  {
   "cell_type": "code",
   "execution_count": null,
   "metadata": {},
   "outputs": [],
   "source": [
    "i = 0\n",
    "ins_data = []\n",
    "today = datetime.datetime.strftime(datetime.datetime.now(),'%Y-%m-%d')\n",
    "# print(today)\n",
    "for idx in codeDf.index:\n",
    "    monv = {}\n",
    "    code = 'none'\n",
    "    try:\n",
    "        monv['date'] = today\n",
    "        tdf = codeDf.iloc[idx]\n",
    "#         print(codeDf.iloc[idx])\n",
    "        code = tdf['代码'][2:8]\n",
    "        if code[:1] == '6':\n",
    "            monv['_id'] = 'sh.%s-%s' % (code, today)\n",
    "        else:\n",
    "            monv['_id'] = 'sz.%s-%s' % (code, today)\n",
    "        monv['code'] = code\n",
    "        monv['open'] = float(tdf['今开'])\n",
    "        monv['high'] = float(tdf['最高'])\n",
    "        monv['low'] = float(tdf['最低'])\n",
    "        monv['close'] = float(tdf['现价'])\n",
    "        monv['volume'] = float(tdf['总量'])*100\n",
    "        monv['amount'] = float(tdf['总金额'])*10000\n",
    "        monv['adjustflag'] = 2\n",
    "        monv['turn'] = float(tdf['换手%'])\n",
    "        monv['pctChg'] = float(tdf['涨幅%'])\n",
    "        try:\n",
    "            monv['peTTM'] = float(tdf['市盈(动)'])\n",
    "        except:\n",
    "            monv['peTTM'] = -1.0\n",
    "        monv['pbMRQ'] = 0\n",
    "        monv['psTTM'] = 0\n",
    "        monv['pcfNcfTTM'] = 0\n",
    "        monv['pcfNcfTTM'] = 0\n",
    "        monv['date_stamp'] = mongo_mpd.dateStr2stamp(today)\n",
    "#         print(monv)\n",
    "        try:\n",
    "            mongo_mpd.save('stock_day_qfq', monv)\n",
    "        except:\n",
    "#             print(\"save mongo error\", code)\n",
    "            pass\n",
    "    except:\n",
    "        print(\"convert error\", code)\n",
    "#         pass\n",
    "#         break\n",
    "#     if idx == 1:\n",
    "#     break"
   ]
  },
  {
   "cell_type": "code",
   "execution_count": null,
   "metadata": {},
   "outputs": [],
   "source": [
    "codeDf.head(0)"
   ]
  },
  {
   "cell_type": "code",
   "execution_count": null,
   "metadata": {},
   "outputs": [],
   "source": []
  }
 ],
 "metadata": {
  "kernelspec": {
   "display_name": "Python 3",
   "language": "python",
   "name": "python3"
  },
  "language_info": {
   "codemirror_mode": {
    "name": "ipython",
    "version": 3
   },
   "file_extension": ".py",
   "mimetype": "text/x-python",
   "name": "python",
   "nbconvert_exporter": "python",
   "pygments_lexer": "ipython3",
   "version": "3.8.5"
  }
 },
 "nbformat": 4,
 "nbformat_minor": 4
}
