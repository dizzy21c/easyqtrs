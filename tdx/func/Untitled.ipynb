{
 "cells": [
  {
   "cell_type": "code",
   "execution_count": null,
   "metadata": {},
   "outputs": [],
   "source": [
    "import sys\n",
    "from easyquant import MongoIo\n",
    "from tdx_func import *\n",
    "from easyquant.indicator.base import *\n",
    "import pandas as pd\n",
    "print(\"exam:python test.py <code:123456> <func-name:dqe_test_A01>\")\n"
   ]
  },
  {
   "cell_type": "code",
   "execution_count": null,
   "metadata": {},
   "outputs": [],
   "source": [
    "# code=sys.argv[1]\n",
    "code=\"300059\"\n",
    "func=\"dqe_test_A01\"\n",
    "m=MongoIo()\n",
    "data1=m.get_stock_day(code, st_start='1990-01-01',qfq=1)\n",
    "\n",
    "# print(eval(\"tdx_%s\" % sys.argv[2])(data))\n",
    "# a=eval(\"tdx_%s\" % func)(data)\n"
   ]
  },
  {
   "cell_type": "code",
   "execution_count": null,
   "metadata": {},
   "outputs": [],
   "source": [
    "data2.head()\n",
    "# data2['trade_date'] = data2.date\n",
    "# data2['ts_code'] = data2.code"
   ]
  },
  {
   "cell_type": "code",
   "execution_count": null,
   "metadata": {},
   "outputs": [],
   "source": [
    "data2=data1.reset_index()\n",
    "t=10"
   ]
  },
  {
   "cell_type": "code",
   "execution_count": null,
   "metadata": {},
   "outputs": [],
   "source": [
    "df1 = p_df[['close','high','low','date','code']].copy()\n",
    "df1['cv'] = 0 #添加一列为后续保留值准备\n",
    "high = df1['high']\n",
    "low = df1['low']\n",
    "\n",
    "# 保留数据的df\n",
    "data = pd.DataFrame([])\n",
    "#获取首行为有效的数据点,加入到保留数据框中\n",
    "df1.loc[0,'cv'] = df1.iloc[0].high #最高价作为当前价\n",
    "first = df1.iloc[0:1]\n",
    "data = data.append(first)\n",
    "\n",
    "#取第一个日期的最高值作为当前值,开始为0，默认为上涨周期\n",
    "ci=0\n",
    "cv=df1.iloc[ci].high\n",
    "cup=True\n"
   ]
  },
  {
   "cell_type": "code",
   "execution_count": null,
   "metadata": {},
   "outputs": [],
   "source": [
    "# print(data1.head(1))\n",
    "data2"
   ]
  },
  {
   "cell_type": "code",
   "execution_count": null,
   "metadata": {},
   "outputs": [],
   "source": [
    "data[data.period > 0].tail(30)"
   ]
  },
  {
   "cell_type": "code",
   "execution_count": null,
   "metadata": {},
   "outputs": [],
   "source": [
    "\n",
    "#循环处理每一个周期\n",
    "n=0\n",
    "lt = t\n",
    "pih = 0\n",
    "pil = 0\n",
    "while ci<df1.index.max():\n",
    "    n=n+1\n",
    "    # 取含当前日期的一个周期的最高和最低价以及索引值,如果出现下一个周期中当前点成为了这个周期的最高和最低点即当前点未变化则\n",
    "    # 在前周期长度上扩展1个周期,一旦出现拐点则恢复周期。\n",
    "    # 周期超高了数据长度则结束，当前点加入到数据有效点中。\n",
    "    # 为什么不是从下一个点找周期，因为下一个点开始的周期则一定存在一个高低点，而这个高低点和当前点的高点或低点比较后一定会\n",
    "    # 出现一个拐点，有时候不一定有拐点存在,所以要包含当前点\n",
    "    ih = high[ci:ci+lt].idxmax()\n",
    "    il = low[ci:ci+lt].idxmin()\n",
    "    ihv = df1.iloc[ih].high\n",
    "    ilv = df1.iloc[il].low\n",
    "    if (ih==ci) & (il==ci):\n",
    "        #数据结束了吗?如果结束了则直接添加当前数据到数据点和最后一个数据到数据点\n",
    "        if (ci+lt)>df1.index.max():\n",
    "            # 数据结束了,最后一个数据是否要添加到数据点中，由循环结束时处理\n",
    "            break\n",
    "        else:\n",
    "            # 三点重叠但数据为结束 , 周期延长重新计算\n",
    "            lt = lt + t\n",
    "            continue\n",
    "    if cup:\n",
    "        # 上涨阶段\n",
    "        if (ihv >= cv) & (ci != ih):\n",
    "            # 如果上升周期中最高价有更新则仍然上涨持续，上涨价格有效，下跌的价格为噪声\n",
    "            ci = ih\n",
    "            cv = ihv\n",
    "            cup = True\n",
    "        else:\n",
    "            # 未持续上涨，则下跌价格有效，出现了转折，此时上一个价格成为转折点价格,恢复计算周期\n",
    "            df1.loc[ci,'cv'] = cv\n",
    "            data = data.append(df1.iloc[ci:ci + 1])\n",
    "            pil = il\n",
    "            ci = il\n",
    "            cv = ilv\n",
    "            cup = False\n",
    "            lt = t\n",
    "            if abs(pih - pil) < 5:\n",
    "                print(\"pil\", ci)\n",
    "    else:\n",
    "        # 下跌阶段\n",
    "        if (ilv<=cv) & (ci != il):\n",
    "            # 下跌阶段持续创新低，则下跌价格有效，上涨价格为噪声\n",
    "            ci = il\n",
    "            cv = ilv\n",
    "            cup = False\n",
    "        else:\n",
    "            # 未持续下跌，此时转为上涨，上涨价格有效，此时上一个价格成为转折点价格,恢复计算周期\n",
    "            df1.loc[ci, 'cv'] = cv\n",
    "            data = data.append(df1.iloc[ci:ci + 1])\n",
    "            pih = ih\n",
    "            ci = ih\n",
    "            cv = ihv\n",
    "            cup = True\n",
    "            lt = t\n",
    "            \n",
    "            if abs(pih - pil) < 5:\n",
    "                print(\"pih\", ci)\n",
    "\n",
    "    # print(df1.iloc[ci:ci+1])\n",
    "    # print(n,ci,cv,cup,ih,il)\n",
    "\n",
    "    # if last+t>=df1.index.max():\n",
    "    #     # 最后计算恰好为最后一个周期，则直接加入最后一个周期进入数据有效点，并且结束循环\n",
    "    #     last = df1.index.max()\n",
    "    #     df1.loc[last, 'cv'] = df1.iloc[last].close\n",
    "    #     data = data.append(df1.iloc[last:last + 1])\n",
    "    #     break\n"
   ]
  },
  {
   "cell_type": "code",
   "execution_count": null,
   "metadata": {},
   "outputs": [],
   "source": [
    "ci"
   ]
  },
  {
   "cell_type": "code",
   "execution_count": null,
   "metadata": {},
   "outputs": [],
   "source": [
    "#结束了，把当前点加入到数据有效点中\n",
    "df1.loc[ci, 'cv'] = cv\n",
    "data = data.append(df1.iloc[ci:ci + 1])\n",
    "if ci != df1.index.max():\n",
    "    # 当前点不是最后一个点，则把最后一个点加入到数据点中\n",
    "    df1.loc[df1.index.max(), 'cv'] = df1.iloc[df1.index.max()].close\n",
    "    data = data.append(df1.tail(1))\n",
    "\n",
    "data = data.reset_index(drop=False)\n",
    "# 计算高低点转换的交易日数量即时间周期\n",
    "data['period'] = (data['index'] - data['index'].shift(1)).fillna(0)\n",
    "# 计算日期的差值,将字符串更改为日期\n",
    "trade_date = pd.to_datetime(data['date'],format='%Y-%m-%d')\n",
    "days = trade_date - trade_date.shift(1)\n",
    "# 填充后转换为实际的天数数字\n",
    "days = (days.fillna(pd.Timedelta(0))).apply(lambda x:x.days)\n",
    "data['days'] = days\n",
    "# 对日期进行转换\n",
    "data['date']=trade_date.apply(lambda x:x.strftime('%Y-%m-%d'))\n"
   ]
  },
  {
   "cell_type": "code",
   "execution_count": null,
   "metadata": {},
   "outputs": [],
   "source": [
    "ci=0\n",
    "cv=df1.iloc[ci].high\n",
    "cup=True\n",
    "lt=21"
   ]
  },
  {
   "cell_type": "code",
   "execution_count": null,
   "metadata": {},
   "outputs": [],
   "source": [
    "ih = high[ci:ci+lt].idxmax()\n",
    "il = low[ci:ci+lt].idxmin()\n",
    "ihv = df1.iloc[ih].high\n",
    "ilv = df1.iloc[il].low\n"
   ]
  },
  {
   "cell_type": "code",
   "execution_count": null,
   "metadata": {},
   "outputs": [],
   "source": [
    "cv"
   ]
  },
  {
   "cell_type": "code",
   "execution_count": null,
   "metadata": {},
   "outputs": [],
   "source": [
    "ihv"
   ]
  },
  {
   "cell_type": "code",
   "execution_count": null,
   "metadata": {},
   "outputs": [],
   "source": [
    "high[ci:ci+lt]"
   ]
  },
  {
   "cell_type": "code",
   "execution_count": null,
   "metadata": {},
   "outputs": [],
   "source": [
    "high.head(3)"
   ]
  },
  {
   "cell_type": "code",
   "execution_count": null,
   "metadata": {},
   "outputs": [],
   "source": [
    "BIDASK5VOL(data,'2021-09-15')"
   ]
  },
  {
   "cell_type": "code",
   "execution_count": null,
   "metadata": {},
   "outputs": [],
   "source": [
    "CAPITAL(data)"
   ]
  },
  {
   "cell_type": "code",
   "execution_count": null,
   "metadata": {},
   "outputs": [],
   "source": [
    "a.split(',')"
   ]
  },
  {
   "cell_type": "code",
   "execution_count": null,
   "metadata": {},
   "outputs": [],
   "source": [
    "data.index[-1][0].strftime(\"%Y-%m-%d\")"
   ]
  },
  {
   "cell_type": "code",
   "execution_count": null,
   "metadata": {},
   "outputs": [],
   "source": [
    "a=None"
   ]
  },
  {
   "cell_type": "code",
   "execution_count": null,
   "metadata": {},
   "outputs": [],
   "source": [
    "a\n"
   ]
  },
  {
   "cell_type": "code",
   "execution_count": null,
   "metadata": {},
   "outputs": [],
   "source": [
    "mongo = MongoIo()\n",
    "# return list(mongo.get_stock_list().index)\n"
   ]
  },
  {
   "cell_type": "code",
   "execution_count": null,
   "metadata": {},
   "outputs": [],
   "source": [
    "data = datamongo.db['index_list'].find()"
   ]
  },
  {
   "cell_type": "code",
   "execution_count": null,
   "metadata": {},
   "outputs": [],
   "source": [
    "data = pd.concat([data,df1.iloc[ci:ci + 1]])"
   ]
  },
  {
   "cell_type": "code",
   "execution_count": null,
   "metadata": {},
   "outputs": [],
   "source": [
    "data1.head()"
   ]
  },
  {
   "cell_type": "code",
   "execution_count": null,
   "metadata": {},
   "outputs": [],
   "source": [
    "df2 = data1.tail(1)"
   ]
  },
  {
   "cell_type": "code",
   "execution_count": null,
   "metadata": {},
   "outputs": [],
   "source": [
    "data = data1.copy()"
   ]
  },
  {
   "cell_type": "code",
   "execution_count": null,
   "metadata": {},
   "outputs": [],
   "source": [
    "pd.concat([data,df2])"
   ]
  },
  {
   "cell_type": "code",
   "execution_count": null,
   "metadata": {},
   "outputs": [],
   "source": [
    "def h_l_line(p_df, t=21,period=1000,fn=None):\n",
    "    \"\"\"\n",
    "    根据给定的周期找出最高最低点的日期和数据，然后计算对应的斐波纳契数据\n",
    "    :param fn: 高低线输出到文件,如果文件参数为None则不输出到文件\n",
    "    :param p_df:股票交易数据\n",
    "    :param t:数据周期\n",
    "    :param period:数据长度\n",
    "    :return:有效数据点，包括股票代码，日期，高低点周期交易天数、高低点周期自然天数\n",
    "    \"\"\"\n",
    "    if p_df is None or len(p_df)<t:\n",
    "        return None\n",
    "    # 获取最新的period条数据\n",
    "    # df1 = p_df.tail(period).reset_index(drop=True)\n",
    "    df1 = p_df[['close','high','low','trade_date','ts_code']].copy()\n",
    "    df1['cv'] = 0 #添加一列为后续保留值准备\n",
    "    high = df1['high']\n",
    "    low = df1['low']\n",
    "\n",
    "    # 保留数据的df\n",
    "    data = pd.DataFrame([])\n",
    "    #获取首行为有效的数据点,加入到保留数据框中\n",
    "    df1.loc[0,'cv'] = df1.iloc[0].high #最高价作为当前价\n",
    "    first = df1.iloc[0:1]\n",
    "    # data = data.append(first)\n",
    "    data = pd.concat([data,first])\n",
    "\n",
    "    #取第一个日期的最高值作为当前值,开始为0，默认为上涨周期\n",
    "    ci=0\n",
    "    cv=df1.iloc[ci].high\n",
    "    cup=True\n",
    "    ptd = pd.to_datetime(df1.iloc[ci].trade_date, format='%Y-%m-%d')\n",
    "    ntd = pd.to_datetime(df1.iloc[ci].trade_date, format='%Y-%m-%d')\n",
    "    # print(\"ptd\", ptd)\n",
    "    #循环处理每一个周期\n",
    "    n=0\n",
    "    lt = t\n",
    "    # while ci<df1.index.max():\n",
    "    while n<df1.index.max():\n",
    "        if n < ci:\n",
    "            n = ci\n",
    "        n=n+1\n",
    "        \n",
    "        # 取含当前日期的一个周期的最高和最低价以及索引值,如果出现下一个周期中当前点成为了这个周期的最高和最低点即当前点未变化则\n",
    "        # 在前周期长度上扩展1个周期,一旦出现拐点则恢复周期。\n",
    "        # 周期超高了数据长度则结束，当前点加入到数据有效点中。\n",
    "        # 为什么不是从下一个点找周期，因为下一个点开始的周期则一定存在一个高低点，而这个高低点和当前点的高点或低点比较后一定会\n",
    "        # 出现一个拐点，有时候不一定有拐点存在,所以要包含当前点\n",
    "        # print(\"ci\", ci, ci + lt,ptd,cup)\n",
    "        ih = high[ci:ci+lt].idxmax()\n",
    "        il = low[ci:ci+lt].idxmin()\n",
    "        ihv = df1.iloc[ih].high\n",
    "        ilv = df1.iloc[il].low\n",
    "        # print(\"n1\", n, ci,lt,ih,il, ihv, ilv)\n",
    "        if (ih==ci) & (il==ci):\n",
    "            #数据结束了吗?如果结束了则直接添加当前数据到数据点和最后一个数据到数据点\n",
    "            if (ci+lt)>df1.index.max():\n",
    "                # 数据结束了,最后一个数据是否要添加到数据点中，由循环结束时处理\n",
    "                break\n",
    "            else:\n",
    "                # 三点重叠但数据为结束 , 周期延长重新计算\n",
    "                lt = lt + t\n",
    "                continue\n",
    "        if cup:\n",
    "            # 上涨阶段\n",
    "            if (ihv >= cv) & (ci != ih):\n",
    "                # print(\"n1\", n, ci, cv, lt, ih, il, ihv, ilv)\n",
    "                # 如果上升周期中最高价有更新则仍然上涨持续，上涨价格有效，下跌的价格为噪声\n",
    "                ci = ih\n",
    "                cv = ihv\n",
    "                cup = True\n",
    "            else:\n",
    "                # 未持续上涨，则下跌价格有效，出现了转折，此时上一个价格成为转折点价格,恢复计算周期\n",
    "                df1.loc[ci,'cv'] = cv\n",
    "                p_ntd = ntd\n",
    "                ntd = pd.to_datetime(df1.iloc[il].trade_date, format='%Y-%m-%d')\n",
    "#                 print(\"ntd-up\", ptd, p_ntd, ntd, lt, t, (ntd - ptd).days, il, ih, ilv, ihv)\n",
    "                if (ntd - p_ntd).days > 0 and (ntd - ptd).days > 0 and (ntd - ptd).days < (t / 2 + 1):\n",
    "                    lt = lt + int(t / 2)\n",
    "                else:\n",
    "                    # print(\"cup date\", ptd,ntd)\n",
    "                    ptd = ntd\n",
    "                    # data = data.append(df1.iloc[ci:ci + 1])\n",
    "                    data = pd.concat([data,df1.iloc[ci:ci + 1]])\n",
    "                    ci = il\n",
    "                    cv = ilv\n",
    "                    cup = False\n",
    "                    lt = t\n",
    "        else:\n",
    "            # 下跌阶段\n",
    "            if (ilv<=cv) & (ci != il):\n",
    "                # 下跌阶段持续创新低，则下跌价格有效，上涨价格为噪声\n",
    "                ci = il\n",
    "                cv = ilv\n",
    "                cup = False\n",
    "            else:\n",
    "                p_ntd = ntd\n",
    "                ntd = pd.to_datetime(df1.iloc[il].trade_date, format='%Y-%m-%d')\n",
    "                # print(\"ntd-d\", ptd, ntd,lt,ntd - ptd < t / 2 + 1)\n",
    "#                 print(\"ntd-dn\", ptd, p_ntd, ntd, lt, t, (ntd - ptd).days, il, ih, ilv, ihv)\n",
    "                if (ntd - p_ntd).days > 0 and (ntd - ptd).days > 0 and (ntd - ptd).days < (t / 2 + 1):\n",
    "                    lt = lt + int(t / 2)\n",
    "                else:\n",
    "                    # print(\"down date\", ptd,ntd)\n",
    "                    ptd = ntd\n",
    "                    # 未持续下跌，此时转为上涨，上涨价格有效，此时上一个价格成为转折点价格,恢复计算周期\n",
    "                    df1.loc[ci, 'cv'] = cv\n",
    "                    # data = data.append(df1.iloc[ci:ci + 1])\n",
    "                    data = pd.concat([data,df1.iloc[ci:ci + 1]])\n",
    "                    ci = ih\n",
    "                    cv = ihv\n",
    "                    cup = True\n",
    "                    lt = t\n",
    "\n",
    "        # print(df1.iloc[ci:ci+1])\n",
    "        # print(n,ci,cv,cup,ih,il)\n",
    "\n",
    "        # if last+t>=df1.index.max():\n",
    "        #     # 最后计算恰好为最后一个周期，则直接加入最后一个周期进入数据有效点，并且结束循环\n",
    "        #     last = df1.index.max()\n",
    "        #     df1.loc[last, 'cv'] = df1.iloc[last].close\n",
    "        #     data = data.append(df1.iloc[last:last + 1])\n",
    "        #     break\n",
    "    #结束了，把当前点加入到数据有效点中\n",
    "    print(\"n1\", n, ci, cv, lt, ih, il, ihv, ilv, cup)\n",
    "    df1.loc[ci, 'cv'] = cv\n",
    "    # data = data.append(df1.iloc[ci:ci + 1])\n",
    "    data = pd.concat([data,df1.iloc[ci:ci + 1]])\n",
    "    if ci != df1.index.max():\n",
    "        # 当前点不是最后一个点，则把最后一个点加入到数据点中\n",
    "        df1.loc[df1.index.max(), 'cv'] = df1.iloc[df1.index.max()].close\n",
    "        # data = data.append(df1.tail(1))\n",
    "        data = pd.concat([data,df1.tail(1)])\n",
    "\n",
    "    data = data.reset_index(drop=False)\n",
    "    # 计算高低点转换的交易日数量即时间周期\n",
    "    data['period'] = (data['index'] - data['index'].shift(1)).fillna(0)\n",
    "    # 计算日期的差值,将字符串更改为日期\n",
    "    trade_date = pd.to_datetime(data['trade_date'],format='%Y-%m-%d')\n",
    "    days = trade_date - trade_date.shift(1)\n",
    "    # 填充后转换为实际的天数数字\n",
    "    days = (days.fillna(pd.Timedelta(0))).apply(lambda x:x.days)\n",
    "    data['days'] = days\n",
    "    # 对日期进行转换\n",
    "    data['trade_date']=trade_date.apply(lambda x:x.strftime('%Y-%m-%d'))\n",
    "    return data"
   ]
  },
  {
   "cell_type": "code",
   "execution_count": null,
   "metadata": {},
   "outputs": [],
   "source": [
    "dfn=h_l_line(data2)"
   ]
  },
  {
   "cell_type": "code",
   "execution_count": null,
   "metadata": {},
   "outputs": [],
   "source": [
    "data2.iloc[1046:1066]"
   ]
  },
  {
   "cell_type": "code",
   "execution_count": null,
   "metadata": {},
   "outputs": [],
   "source": [
    "dfn"
   ]
  },
  {
   "cell_type": "code",
   "execution_count": null,
   "metadata": {},
   "outputs": [],
   "source": [
    "import os.path\n",
    "import sys\n",
    "import time\n",
    "from datetime import datetime, timedelta\n",
    "import pandas as pd\n",
    "\n",
    "\n",
    "import baostock as bs\n",
    "import pandas as pd\n",
    "import time\n",
    "import signal\n",
    "\n",
    "minutes_field = \"date,time,code,open,high,low,close,volume,amount,adjustflag\"\n",
    "day_field = \"date,code,open,high,low,close,volume,amount,adjustflag,turn,pctChg,peTTM,pbMRQ,psTTM,pcfNcfTTM\"\n",
    "w_m_field = \"date,code,open,high,low,close,volume,amount,adjustflag,turn,pctChg\"\n",
    "profile_field = 'code,pubDate,statDate,roeAvg,npMargin,gpMargin,netProfit,epsTTM,MBRevenue,totalShare,liqaShare'\n",
    "WEEK = 'w'\n",
    "MONTH = 'm'\n",
    "QFQ = '2'\n",
    "HFQ = '1'\n",
    "BFQ = '3'\n",
    "def time_out(interval, callback):\n",
    "    def decorator(func):\n",
    "        def handler(signum, frame):\n",
    "            raise TimeoutError(\"run func timeout\")\n",
    "  \n",
    "        def wrapper(*args, **kwargs):\n",
    "            try:\n",
    "                signal.signal(signal.SIGALRM, handler)\n",
    "                signal.alarm(interval)       # interval秒后向进程发送SIGALRM信号\n",
    "                result = func(*args, **kwargs)\n",
    "                signal.alarm(0)              # 函数在规定时间执行完后关闭alarm闹钟\n",
    "                return result\n",
    "            except TimeoutError as e:\n",
    "                callback(e)\n",
    "        return wrapper\n",
    "    return decorator\n",
    "\n",
    "def timeout_callback(e):\n",
    "    print(e.msg)\n",
    "\n",
    "@time_out(5, timeout_callback)\n",
    "def fetch_k_day(code=\"sh.600606\", p_begin_day: str = '2023-01-01', p_end_day: str = None):\n",
    "    # 详细指标参数，参见“历史行情指标参数”章节；“分钟线”参数与“日线”参数不同。“分钟线”不包含指数。\n",
    "    # 分钟线指标：date,time,code,open,high,low,close,volume,amount,adjustflag,turn,pctChg,\n",
    "    # 换手率\\涨跌幅（百分比）\\滚动市盈率\\市净率\\滚动市销率\\滚动市现率\\\n",
    "    # 日周月线指标：date,code,open,high,low,close,volume,amount,adjustflag,turn,pctChg,peTTM,pbMRQ,psTTM,pcfNcfTTM\n",
    "\n",
    "    # frequency：数据类型，默认为d，日k线；d = 日k线、w = 周、m = 月、5 = 5\n",
    "    # 分钟、15 = 15\n",
    "    # 分钟、30 = 30\n",
    "    # 分钟、60 = 60\n",
    "    # 分钟k线数据，不区分大小写；指数没有分钟线数据；周线每周最后一个交易日才可以获取，月线每月最后一个交易日才可以获取\n",
    "\n",
    "    # adjustflag：复权类型，默认不复权：3；1：后复权；2：前复权。已支持分钟线、日线、周线、月线前后复权\n",
    "    if p_end_day is None:\n",
    "        p_end_day = time.strftime('%Y-%m-%d')\n",
    "#     print(p_begin_day, p_end_day)\n",
    "    rs = bs.query_history_k_data_plus(code,\n",
    "                                      day_field,\n",
    "                                      start_date=p_begin_day, end_date=p_end_day,\n",
    "                                      frequency=\"d\", adjustflag=QFQ)\n",
    "    data_list = []\n",
    "#     if rs is None:\n",
    "#         return pd.DataFrame()\n",
    "    while (rs.error_code == '0') & rs.next():\n",
    "        # 获取一条记录，将记录合并在一起\n",
    "        data_list.append(rs.get_row_data())\n",
    "    result = pd.DataFrame(data_list, columns=rs.fields)\n",
    "    # 添加方式\n",
    "    # result.to_csv(p_file, index=False, mode='a+', header=True)\n",
    "    return result\n"
   ]
  },
  {
   "cell_type": "code",
   "execution_count": null,
   "metadata": {},
   "outputs": [],
   "source": [
    "lg = bs.login()\n",
    "# 显示登陆返回信息\n",
    "if lg.error_code != '0':\n",
    "    print('login respond error_code:' + lg.error_code)\n",
    "    print('login respond  error_msg:' + lg.error_msg)\n",
    "    sys.exit()\n"
   ]
  },
  {
   "cell_type": "code",
   "execution_count": 180,
   "metadata": {},
   "outputs": [],
   "source": [
    "tdata = fetch_k_day('sz.000859', p_begin_day = '2024-07-17', p_end_day = '2024-10-30')"
   ]
  },
  {
   "cell_type": "code",
   "execution_count": 182,
   "metadata": {},
   "outputs": [
    {
     "data": {
      "text/plain": [
       "'4.0700000000'"
      ]
     },
     "execution_count": 182,
     "metadata": {},
     "output_type": "execute_result"
    }
   ],
   "source": [
    "tdata.iloc[-1].close"
   ]
  },
  {
   "cell_type": "code",
   "execution_count": 183,
   "metadata": {},
   "outputs": [
    {
     "data": {
      "text/plain": [
       "str"
      ]
     },
     "execution_count": 183,
     "metadata": {},
     "output_type": "execute_result"
    }
   ],
   "source": [
    "type(tdata.iloc[-1].close)"
   ]
  },
  {
   "cell_type": "code",
   "execution_count": 184,
   "metadata": {},
   "outputs": [
    {
     "data": {
      "text/plain": [
       "4.07"
      ]
     },
     "execution_count": 184,
     "metadata": {},
     "output_type": "execute_result"
    }
   ],
   "source": [
    "float(tdata.iloc[-1].close)"
   ]
  },
  {
   "cell_type": "code",
   "execution_count": null,
   "metadata": {},
   "outputs": [],
   "source": []
  }
 ],
 "metadata": {
  "kernelspec": {
   "display_name": "Python 3",
   "language": "python",
   "name": "python3"
  },
  "language_info": {
   "codemirror_mode": {
    "name": "ipython",
    "version": 3
   },
   "file_extension": ".py",
   "mimetype": "text/x-python",
   "name": "python",
   "nbconvert_exporter": "python",
   "pygments_lexer": "ipython3",
   "version": "3.8.5"
  }
 },
 "nbformat": 4,
 "nbformat_minor": 4
}
