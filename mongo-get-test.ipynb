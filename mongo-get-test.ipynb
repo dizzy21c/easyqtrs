{
 "cells": [
  {
   "cell_type": "code",
   "execution_count": null,
   "metadata": {},
   "outputs": [],
   "source": [
    "import os\n",
    "import sys\n",
    "import pymongo as mongo\n",
    "import json\n",
    "import polars as pl\n",
    "import numpy as np\n",
    "from datetime import date, datetime\n",
    "import time\n",
    "from time import strftime, localtime\n",
    "# from QUANTAXIS.QAFetch import QATdx as tdx\n",
    "from easyquant.easydealutils.easytime import EasyTime\n",
    "from easyquant.indicator.base4pl import *\n",
    "from easyquant  import MongoIo4Pl\n",
    "import re\n",
    "import talib"
   ]
  },
  {
   "cell_type": "code",
   "execution_count": null,
   "metadata": {},
   "outputs": [],
   "source": [
    "mongo = MongoIo4Pl()"
   ]
  },
  {
   "cell_type": "code",
   "execution_count": null,
   "metadata": {},
   "outputs": [],
   "source": [
    "def do_get_data_mp(code):\n",
    "    mongo = MongoIo4Pl()\n",
    "    df = mongo.get_stock_info(None)\n",
    "    print('end query', len(df), code)"
   ]
  },
  {
   "cell_type": "code",
   "execution_count": null,
   "metadata": {},
   "outputs": [],
   "source": [
    "do_get_data_mp('1')"
   ]
  },
  {
   "cell_type": "code",
   "execution_count": null,
   "metadata": {},
   "outputs": [],
   "source": [
    "from multiprocessing import Process, Pool, cpu_count, Manager\n",
    "from concurrent.futures import ThreadPoolExecutor,as_completed\n",
    "pool = Pool(cpu_count())\n",
    "for i in range(cpu_count()):\n",
    "#     print(\"do \", i)\n",
    "    # if i < pool_size - 1:\n",
    "        # code_dict[str(i)] = codelist[i* subcode_len : (i+1) * subcode_len]\n",
    "    # else:\n",
    "        # code_dict[str(i)] = codelist[i * subcode_len:]\n",
    "    pool.apply_async(do_get_data_mp, args=(i,))\n",
    "\n",
    "pool.close()\n",
    "pool.join()\n",
    "print(\"do end\")"
   ]
  },
  {
   "cell_type": "code",
   "execution_count": null,
   "metadata": {},
   "outputs": [],
   "source": [
    "databuf_mongo = Manager().dict()\n",
    "data_buf_stockinfo =  Manager().dict()\n",
    "code_list_dict = Manager().dict()\n",
    "mongo_mp = MongoIo4Pl()\n",
    "\n",
    "def do_get_data_mp(key, codelist, st_start, st_end, type=''):\n",
    "#     print(codelist[:3])\n",
    "    databuf_mongo[key] = mongo_mp.get_stock_day(codelist, st_start=st_start, st_end=st_end)\n",
    "#     for code in codelist:\n",
    "    data_buf_stockinfo[0] = mongo_mp.get_stock_info(None)"
   ]
  },
  {
   "cell_type": "code",
   "execution_count": null,
   "metadata": {},
   "outputs": [],
   "source": [
    "from concurrent.futures import ProcessPoolExecutor,ThreadPoolExecutor,as_completed\n",
    "executor_func = ProcessPoolExecutor(max_workers=20)"
   ]
  },
  {
   "cell_type": "code",
   "execution_count": null,
   "metadata": {},
   "outputs": [],
   "source": [
    "# from concurrent.futures import ProcessPoolExecutor,ThreadPoolExecutor,as_completed\n",
    "executor_func = ProcessPoolExecutor(max_workers=5)\n",
    "task_list = []\n",
    "# pool = Pool(cpu_count())\n",
    "for key in range(5):\n",
    "    # tdx_func(databuf_mongo[key])\n",
    "    # task_list.append(executor_func.submit(tdx_func, databuf_mongo[key], newdatas, func_name, type=type))\n",
    "    task_list.append(executor_func.submit(do_get_data_mp, key))\n",
    "for task in as_completed(task_list):\n",
    "    task.result()\n",
    "\n",
    "print(\"do end\")"
   ]
  },
  {
   "cell_type": "code",
   "execution_count": null,
   "metadata": {},
   "outputs": [],
   "source": [
    "def get_data(codelist, st_start, st_end, type):\n",
    "    start_t = datetime.datetime.now()\n",
    "    print(\"begin-get_data:\", start_t)\n",
    "    # ETF/股票代码，如果选股以后：我们假设有这些代码\n",
    "    # codelist = ['600380','600822']\n",
    "\n",
    "#     pool_size = cpu_count()\n",
    "    task_list = []\n",
    "    limit_len = 0\n",
    "    code_dict = codelist2dict(codelist, pool_size)\n",
    "    executorGetData = ThreadPoolExecutor(max_workers=len(code_dict))\n",
    "#     print(\"get-data\", code_dict.keys())\n",
    "#     pool = Pool(cpu_count())\n",
    "    for i in code_dict.keys():\n",
    "        code_list_dict[i] = code_dict[i]\n",
    "        task_list.append(executorGetData.submit(do_get_data_mp, i, code_dict[i], st_start, st_end, type))\n",
    "#         task_list.executor(do_get_data_mp, args=(i, code_dict[i], st_start, st_end, type))\n",
    "\n",
    "    for task in as_completed(task_list):\n",
    "        # result = task.result()\n",
    "        pass\n",
    "    end_t = datetime.datetime.now()\n",
    "    # print(\"data-total-len:\", len(dataR))\n",
    "    print(end_t, 'get_data spent:{}'.format((end_t - start_t)))\n"
   ]
  },
  {
   "cell_type": "code",
   "execution_count": null,
   "metadata": {},
   "outputs": [],
   "source": [
    "codelist = list(mongoo.get_stock_list().index)\n",
    "get_data(codelist, st_start = '2018-12-12', st_end = '2030-12-31', type = 'B')"
   ]
  },
  {
   "cell_type": "code",
   "execution_count": null,
   "metadata": {},
   "outputs": [],
   "source": [
    "data_buf_stockinfo[0].filter((pl.col('code') == '000859')).select(pl.col('jinglirun')).row(0)[0]"
   ]
  },
  {
   "cell_type": "code",
   "execution_count": null,
   "metadata": {},
   "outputs": [],
   "source": [
    "len(data_buf_stockinfo)"
   ]
  },
  {
   "cell_type": "code",
   "execution_count": null,
   "metadata": {},
   "outputs": [],
   "source": [
    "calcDate='2022-12-05'\n",
    "datam = databuf_mongo[3]\n",
    "s = datam.filter((pl.col('code') == '300536') & (pl.col('date') == datetime.datetime.strptime(calcDate, '%Y-%m-%d')))"
   ]
  },
  {
   "cell_type": "code",
   "execution_count": null,
   "metadata": {},
   "outputs": [],
   "source": [
    "s.tail(1)"
   ]
  },
  {
   "cell_type": "code",
   "execution_count": null,
   "metadata": {},
   "outputs": [],
   "source": [
    "datetime.datetime.strptime(calcDate, '%Y-%m-%d')"
   ]
  },
  {
   "cell_type": "code",
   "execution_count": null,
   "metadata": {},
   "outputs": [],
   "source": [
    "from multiprocessing import Process, Pool, cpu_count, Manager\n",
    "from threading import Thread, current_thread, Lock\n",
    "from concurrent.futures import ProcessPoolExecutor,ThreadPoolExecutor,as_completed\n",
    "\n",
    "pool_size = cpu_count()\n",
    "executor = ThreadPoolExecutor(max_workers=pool_size)\n"
   ]
  },
  {
   "cell_type": "code",
   "execution_count": null,
   "metadata": {},
   "outputs": [],
   "source": [
    "def get_date(code):\n",
    "    df = mongo.get_stock_day(code)\n",
    "#     print(len(df))\n",
    "    return df"
   ]
  },
  {
   "cell_type": "code",
   "execution_count": null,
   "metadata": {},
   "outputs": [],
   "source": [
    "pool = Pool(cpu_count())\n",
    "code_dict = {1:['000859','600718'], 2:['000410','300115'],3:[]}\n",
    "for i in code_dict.keys():\n",
    "    pool.apply_async(get_date, args=( code_dict[i]))\n",
    "#     get_date(code_dict[i])\n",
    "pool.close()\n",
    "pool.join()\n"
   ]
  },
  {
   "cell_type": "code",
   "execution_count": null,
   "metadata": {},
   "outputs": [],
   "source": [
    "code_dict.keys()"
   ]
  },
  {
   "cell_type": "code",
   "execution_count": null,
   "metadata": {},
   "outputs": [],
   "source": [
    "executor = ThreadPoolExecutor(max_workers=cpu_count() * 50)\n",
    "task_list = []\n",
    "for i in code_dict.keys():\n",
    "#     t = Thread(target=get_date, args=(code_dict[i],))\n",
    "    task_list.append(executor.submit(get_date, code_dict[i]))\n",
    "#     threads.append(t)\n",
    "#     t.start()\n",
    "\n",
    "for task in as_completed(task_list):\n",
    "    result = task.result()\n",
    "    print(len(result))\n",
    "#     pass\n"
   ]
  },
  {
   "cell_type": "code",
   "execution_count": null,
   "metadata": {},
   "outputs": [],
   "source": [
    "len(code_dict)"
   ]
  },
  {
   "cell_type": "code",
   "execution_count": null,
   "metadata": {},
   "outputs": [],
   "source": [
    "datetime.datetime.strptime('2022-12-12', '%Y-%m-%d')"
   ]
  },
  {
   "cell_type": "code",
   "execution_count": null,
   "metadata": {},
   "outputs": [],
   "source": [
    "newsdata"
   ]
  },
  {
   "cell_type": "code",
   "execution_count": 5,
   "metadata": {},
   "outputs": [
    {
     "data": {
      "text/plain": [
       "['1234', '2344', '5555']"
      ]
     },
     "execution_count": 5,
     "metadata": {},
     "output_type": "execute_result"
    }
   ],
   "source": [
    "a = \"1234,2344,5555\"\n",
    "a.split(',')"
   ]
  },
  {
   "cell_type": "code",
   "execution_count": 17,
   "metadata": {},
   "outputs": [
    {
     "data": {
      "text/plain": [
       "'1:1.2 2:1.23 3:1.234 4:0.12345'"
      ]
     },
     "execution_count": 17,
     "metadata": {},
     "output_type": "execute_result"
    }
   ],
   "source": [
    "\"1:{1:.1f} 2:{1:.2f} 3:{1} 4:{0}\".format(0.12345,1.234,\"2T00\", 3)"
   ]
  },
  {
   "cell_type": "code",
   "execution_count": null,
   "metadata": {},
   "outputs": [],
   "source": []
  }
 ],
 "metadata": {
  "kernelspec": {
   "display_name": "Python 3",
   "language": "python",
   "name": "python3"
  },
  "language_info": {
   "codemirror_mode": {
    "name": "ipython",
    "version": 3
   },
   "file_extension": ".py",
   "mimetype": "text/x-python",
   "name": "python",
   "nbconvert_exporter": "python",
   "pygments_lexer": "ipython3",
   "version": "3.8.5"
  }
 },
 "nbformat": 4,
 "nbformat_minor": 4
}
